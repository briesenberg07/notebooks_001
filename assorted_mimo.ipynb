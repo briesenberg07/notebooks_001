{
  "nbformat": 4,
  "nbformat_minor": 0,
  "metadata": {
    "colab": {
      "name": "assorted_mimo",
      "provenance": [],
      "authorship_tag": "ABX9TyP+LcpUeEudT8/GPzs8IJsN"
    },
    "kernelspec": {
      "name": "python3",
      "display_name": "Python 3"
    },
    "language_info": {
      "name": "python"
    }
  },
  "cells": [
    {
      "cell_type": "markdown",
      "metadata": {
        "id": "kQrE6rQNoOZV"
      },
      "source": [
        "# Just a bunch of assorted notes from working through the mimo Python course\n"
      ]
    },
    {
      "cell_type": "code",
      "metadata": {
        "id": "TMHwkCeUodTP",
        "colab": {
          "base_uri": "https://localhost:8080/"
        },
        "outputId": "4445bf02-942a-4ee2-fcb3-e37583cea59d"
      },
      "source": [
        "# type()\n",
        "  # just the basic use to return a type that was demo'ed in the course\n",
        "\n",
        "print(type(15))\n",
        "print(type(0.0000001))\n",
        "print(type(\"hi there\"))\n",
        "\n",
        "# trying this...\n",
        "  # but input will always be a string, unless it's converted to another type\n",
        "  # I think\n",
        "thing = input(\"TYPE ANYTHING: \")\n",
        "the_type = type(thing)\n",
        "print(the_type)"
      ],
      "execution_count": null,
      "outputs": [
        {
          "output_type": "stream",
          "name": "stdout",
          "text": [
            "<class 'int'>\n",
            "<class 'float'>\n",
            "<class 'str'>\n",
            "TYPE ANYTHING: 2.53\n",
            "<class 'str'>\n"
          ]
        }
      ]
    },
    {
      "cell_type": "code",
      "metadata": {
        "id": "R64vvKElovwz",
        "colab": {
          "base_uri": "https://localhost:8080/",
          "height": 87
        },
        "outputId": "7ce1c3a9-58c0-4b54-9810-a36bd7ef5dea"
      },
      "source": [
        "# there are also:\n",
        "\n",
        "# tuple()\n",
        "list_01 = [\"one\"]\n",
        "print(tuple(list_01))\n",
        "\n",
        "# dict()\n",
        "print(dict(one = 1 , two = 2))\n",
        "\n",
        "# set()\n",
        "list_02 = [15, 32, 32, \"hello\"]\n",
        "print(set(list_02))\n",
        "\n",
        "# list()\n",
        "  # this one doesn't work\n",
        "\"\"\"\n",
        "tuple_01 = (15, 32, 32, \"hello\")\n",
        "print(list(tuple_01))\n",
        "\"\"\"\n"
      ],
      "execution_count": 16,
      "outputs": [
        {
          "output_type": "stream",
          "name": "stdout",
          "text": [
            "('one',)\n",
            "{'one': 1, 'two': 2}\n",
            "{32, 'hello', 15}\n"
          ]
        },
        {
          "output_type": "execute_result",
          "data": {
            "application/vnd.google.colaboratory.intrinsic+json": {
              "type": "string"
            },
            "text/plain": [
              "'\\ntuple_01 = (15, 32, 32, \"hello\")\\nprint(list(tuple_01))\\n'"
            ]
          },
          "metadata": {},
          "execution_count": 16
        }
      ]
    },
    {
      "cell_type": "code",
      "metadata": {
        "colab": {
          "base_uri": "https://localhost:8080/"
        },
        "id": "cLuqzjQODAUG",
        "outputId": "ca449bd9-b792-49ec-8b63-20911173a6cb"
      },
      "source": [
        "# then there's slice notation\n",
        "  # start:stop:step\n",
        "\n",
        "list = [1, 2, 3, 4, 5, 6, 7, 8, 9]\n",
        "print(list[-1::-1])\n",
        "\n",
        "# here's the one from the course that I didn't understand\n",
        "scores = [100, 200, 300, 400, 500]\n",
        "print(scores[0:2:-1])\n",
        "# I still don't understand why it yields an empty list, dangit...\n",
        "\n",
        "print(scores[0::-1])\n",
        "# ok I think perhaps this helps me understand... it's like...\n",
        "  # it won't loop around backwards to the end unless it starts at the end??\n"
      ],
      "execution_count": 22,
      "outputs": [
        {
          "output_type": "stream",
          "name": "stdout",
          "text": [
            "[9, 8, 7, 6, 5, 4, 3, 2, 1]\n",
            "[]\n",
            "[100]\n"
          ]
        }
      ]
    },
    {
      "cell_type": "markdown",
      "metadata": {
        "id": "M1jOqo_iFbdc"
      },
      "source": [
        "On slicing, I really need to take the time to read [this](https://stackoverflow.com/questions/509211/understanding-slice-notation) fully..."
      ]
    },
    {
      "cell_type": "code",
      "metadata": {
        "id": "Vj-OcakjFg4L"
      },
      "source": [
        ""
      ],
      "execution_count": null,
      "outputs": []
    }
  ]
}