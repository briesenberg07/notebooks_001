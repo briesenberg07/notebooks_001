{
 "cells": [
  {
   "cell_type": "markdown",
   "metadata": {},
   "source": [
    "# RDF data review in Jupyter\n",
    "## Featuring [some stuff I did beforehand](https://uwnetid-my.sharepoint.com/:t:/g/personal/ries07_uw_edu/EZhwp6mSVuVBpuXOwAt5Ze0BVaFgi2xydF7aHRSIED89Nw?e=TAJ0g3) in the Anaconda Powershell Prompt\n",
    "\\**Link access requires a UW Net ID*\n",
    "\n",
    "---------------\n",
    "Alright, let's see how this works:"
   ]
  },
  {
   "cell_type": "markdown",
   "metadata": {},
   "source": [
    "**We'll be looking at the following BIBFRAME OUTPUT:**\n",
    "\n",
    "```\n",
    "@prefix bf: <http://id.loc.gov/ontologies/bibframe/> .\n",
    "@prefix bflc: <http://id.loc.gov/ontologies/bflc/> .\n",
    "@prefix madsrdf: <http://www.loc.gov/mads/rdf/v1#> .\n",
    "@prefix owl: <http://www.w3.org/2002/07/owl#> .\n",
    "@prefix rdfs: <http://www.w3.org/2000/01/rdf-schema#> .\n",
    "@prefix skos: <http://www.w3.org/2004/02/skos/core#> .\n",
    "@prefix xsd: <http://www.w3.org/2001/XMLSchema#> .\n",
    "\n",
    "<https://api.stage.sinopia.io/resource/02a63aa1-9e1c-4125-bf1b-797c9c8d83a6> a bf:Work ;\n",
    "    bflc:creatorCharacteristic [ a bflc:CreatorCharacteristic ;\n",
    "            rdfs:label \"Men\" ],\n",
    "        <http://id.loc.gov/authorities/demographicTerms/dg2016060212> ;\n",
    "    bf:adminMetadata [ a bf:AdminMetadata ;\n",
    "            bflc:catalogerID \"aentze\" ;\n",
    "            bflc:encodingLevel <https://id.loc.gov/vocabulary/menclvl/f> ;\n",
    "            bf:creationDate \"2021-05-04\"^^xsd:date ;\n",
    "            bf:descriptionConventions <https://id.loc.gov/vocabulary/descriptionConventions/rda> ;\n",
    "            bf:descriptionLanguage <https://id.loc.gov/vocabulary/languages/eng> ;\n",
    "            bf:generationProcess [ a bf:GenerationProcess ;\n",
    "                    rdfs:label \"rml.py SNAPSHOT: 2021-05-04T13:28:45+00:00\" ] ;\n",
    "            bf:source <https://id.loc.gov/vocabulary/organizations/wau> ;\n",
    "            bf:status [ a bf:Status ;\n",
    "                    bf:code \"n\" ] ] ;\n",
    "    bf:contribution [ a bf:Contribution ;\n",
    "            bf:agent [ a bf:Agent ;\n",
    "                    rdfs:label \"Stoker, Bram, ǂd 1847-1912\" ] ;\n",
    "            bf:role <http://id.loc.gov/vocabulary/relators/aut> ] ;\n",
    "    bf:genreForm <http://id.loc.gov/authorities/genreForms/gf2014026360>,\n",
    "        <http://id.loc.gov/authorities/genreForms/gf2014026373> ;\n",
    "    bf:originDate \"1897\" ;\n",
    "    bf:subject [ a madsrdf:Authority ;\n",
    "            rdfs:label \"Dracula, Count (Fictious character)\" ;\n",
    "            madsrdf:authoritativeLabel \"Dracula, Count (Fictious character)\" ],\n",
    "        <http://id.loc.gov/authorities/subjects/sh85141948> ;\n",
    "    bf:title [ a bf:Title ;\n",
    "            bf:mainTitle \"Dracula.\"@eng ] ;\n",
    "    owl:sameAs <https://api.sinopia.io/resource/fb913d0c-e046-454d-ba60-8e4e1bd5fe90> ;\n",
    "    skos:prefLabel \"Stoker, Bram, ǂd 1847-1912. Dracula.\"@eng .\n",
    "\n",
    "```\n",
    "\n",
    "**So we'll obviously want to compare to our RDA/RDF input**\n",
    "\n",
    "We know where to find this from the following triple:\n",
    "`<this_resource> owl:sameAs <https://api.sinopia.io/resource/fb913d0c-e046-454d-ba60-8e4e1bd5fe90> .`\n",
    "\n",
    "Let's grab the resource."
   ]
  },
  {
   "cell_type": "code",
   "execution_count": 1,
   "metadata": {},
   "outputs": [
    {
     "data": {
      "text/plain": [
       "<Graph identifier=N5a76977503924bb598212a9ba22a8fcd (<class 'rdflib.graph.Graph'>)>"
      ]
     },
     "execution_count": 1,
     "metadata": {},
     "output_type": "execute_result"
    }
   ],
   "source": [
    "from rdflib import Graph\n",
    "\n",
    "rdaW = Graph()\n",
    "rdaW.parse(\"https://api.sinopia.io/resource/fb913d0c-e046-454d-ba60-8e4e1bd5fe90\", format=\"json-ld\")"
   ]
  },
  {
   "cell_type": "markdown",
   "metadata": {},
   "source": [
    "Looks good so far. \n",
    "The output tells me that rdflib has successfully parsed the graph stored at the IRI I provided.\n",
    "(It also tells me that since installing rdflib in the Anaconda Powershell Prompt, I now have it available for use in Jupyter.)"
   ]
  },
  {
   "cell_type": "code",
   "execution_count": 4,
   "metadata": {},
   "outputs": [
    {
     "data": {
      "text/plain": [
       "b'@prefix ns1: <http://id.loc.gov/ontologies/bibframe/> .\\n@prefix ns2: <http://rdaregistry.info/Elements/w/> .\\n@prefix ns3: <http://sinopia.io/vocabulary/> .\\n@prefix ns4: <https://doi.org/10.6069/uwlib.55.d.4#> .\\n@prefix ns5: <http://id.loc.gov/ontologies/bflc/> .\\n@prefix rdfs: <http://www.w3.org/2000/01/rdf-schema#> .\\n\\n<https://api.sinopia.io/resource/fb913d0c-e046-454d-ba60-8e4e1bd5fe90> a <http://rdaregistry.info/Elements/c/C10001> ;\\n    ns1:adminMetadata [ a ns1:AdminMetadata ;\\n            ns5:catalogerID \"aentze\"@eng ;\\n            ns5:encodingLevel <https://id.loc.gov/vocabulary/menclvl/f> ;\\n            ns1:creationDate \"2020-04-22\"@eng ;\\n            ns1:descriptionConventions <https://id.loc.gov/vocabulary/descriptionConventions/rda> ;\\n            ns1:descriptionLanguage <https://id.loc.gov/vocabulary/languages/eng> ;\\n            ns1:source <https://id.loc.gov/vocabulary/organizations/wau> ;\\n            ns1:status [ a ns1:Status ;\\n                    ns1:code \"n\"@eng ] ] ;\\n    ns2:P10004 <http://id.loc.gov/authorities/genreForms/gf2014026360>,\\n        <http://id.loc.gov/authorities/genreForms/gf2014026373> ;\\n    ns2:P10061 \"Stoker, Bram, \\xc7\\x82d 1847-1912\" ;\\n    ns2:P10219 \"1897\"@eng ;\\n    ns2:P10223 \"Dracula.\"@eng ;\\n    ns2:P10256 <http://id.loc.gov/authorities/subjects/sh85141948>,\\n        \"Dracula, Count (Fictious character)\" ;\\n    ns2:P10331 \"Stoker, Bram, \\xc7\\x82d 1847-1912. Dracula.\"@eng ;\\n    ns3:hasResourceTemplate \"WAU:RT:RDA:Work:monograph\" ;\\n    ns4:hasCreatorCharacteristic <http://id.loc.gov/authorities/demographicTerms/dg2016060212>,\\n        \"Men\" .\\n\\n<http://id.loc.gov/authorities/demographicTerms/dg2016060212> rdfs:label \"Irish\" .\\n\\n<http://id.loc.gov/authorities/genreForms/gf2014026360> rdfs:label \"Gothic fiction\" .\\n\\n<http://id.loc.gov/authorities/genreForms/gf2014026373> rdfs:label \"Horror fiction\" .\\n\\n<http://id.loc.gov/authorities/subjects/sh85141948> rdfs:label \"Vampires\" .\\n\\n<https://id.loc.gov/vocabulary/descriptionConventions/rda> rdfs:label \"Resource Description and Access\" .\\n\\n<https://id.loc.gov/vocabulary/languages/eng> rdfs:label \"English\" .\\n\\n<https://id.loc.gov/vocabulary/menclvl/f> rdfs:label \"full\" .\\n\\n<https://id.loc.gov/vocabulary/organizations/wau> rdfs:label \"WAU\" .\\n\\n'"
      ]
     },
     "execution_count": 4,
     "metadata": {},
     "output_type": "execute_result"
    }
   ],
   "source": [
    "rdaW.serialize(format=\"turtle\")"
   ]
  },
  {
   "cell_type": "markdown",
   "metadata": {},
   "source": [
    "Hmmm...\n",
    "Alright, quitting for now.\n",
    "I don't want to serialize and save as a file, because I want to look at my output in the notebook. But I don't know how to pretty and indent my serialized output with rdflib (I'm not sure that I can)."
   ]
  },
  {
   "cell_type": "code",
   "execution_count": null,
   "metadata": {},
   "outputs": [],
   "source": []
  }
 ],
 "metadata": {
  "kernelspec": {
   "display_name": "Python 3",
   "language": "python",
   "name": "python3"
  },
  "language_info": {
   "codemirror_mode": {
    "name": "ipython",
    "version": 3
   },
   "file_extension": ".py",
   "mimetype": "text/x-python",
   "name": "python",
   "nbconvert_exporter": "python",
   "pygments_lexer": "ipython3",
   "version": "3.8.5"
  }
 },
 "nbformat": 4,
 "nbformat_minor": 4
}
