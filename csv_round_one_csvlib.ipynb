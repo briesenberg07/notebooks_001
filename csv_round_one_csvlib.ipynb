{
 "cells": [
  {
   "cell_type": "markdown",
   "metadata": {},
   "source": [
    "# getting started working with csv data in Python\n",
    "\n",
    "- looking at all this stuff for the use case described in [tabular_data_and_python3_2021-12.md](https://gist.github.com/briesenberg07/1d3bdc9d079a8581768088dea1111f6b#using-python-3-to-transform-tabular-data-from-format-one-to-format-two)\n",
    "- much of testing here is copied from the Real Python > [Reading and Writing CSV Files in Python](https://realpython.com/python-csv/) tutorial, [Parsing CSV Files With Python’s Built-in CSV Library](https://realpython.com/python-csv/#parsing-csv-files-with-pythons-built-in-csv-library)"
   ]
  },
  {
   "cell_type": "code",
   "execution_count": 1,
   "metadata": {},
   "outputs": [],
   "source": [
    "# do this before running any of the cells below!\n",
    "import csv"
   ]
  },
  {
   "cell_type": "code",
   "execution_count": null,
   "metadata": {},
   "outputs": [],
   "source": [
    "# use the csv module's reader function\n",
    "# adapted from the tutorial\n",
    "\n",
    "with open('ssdc_test_text_001.csv') as file:\n",
    "    reader = csv.reader(file, delimiter=\",\")\n",
    "    line_count = 0\n",
    "    for row in reader:\n",
    "        if line_count == 0:\n",
    "            # don't understand {' /'.join(row)}\n",
    "            print(f\"Here are the headers, separated by slashes:\\n{' / '.join(row)}\")\n",
    "            # ah, I see\n",
    "                # per w3schools - string*.join(iterable) [string* will be used as a separator]\n",
    "                # per docs.python.org/3.8 - str.join(iterable) - Return a string which is the concatenation of the strings in iterable. A TypeError will be raised if there are any non-string values in iterable, including bytes objects. The separator between elements is the string providing this method.\n",
    "            line_count +=1\n",
    "        else:\n",
    "            pass"
   ]
  },
  {
   "cell_type": "code",
   "execution_count": null,
   "metadata": {},
   "outputs": [],
   "source": [
    "# use the csv module's DictReader class\n",
    "# adapted from the tutorial\n",
    "\n",
    "with open('ssdc_test_text_001.csv') as file:\n",
    "    reader = csv.DictReader(file) # skip the delimiter, which is \",\" by default?\n",
    "    line_count = 0\n",
    "    for row in reader:\n",
    "        if line_count == 0:\n",
    "            print(\"Let's see whether I can get some headers by position...\")\n",
    "            print(f\"the fifth column name is {row[4]}, and the tenth is {row[9]}.\")\n",
    "            print(\"Wonder if that worked...\")\n",
    "            line_count += 1\n",
    "        else:\n",
    "            pass                \n",
    "    \n"
   ]
  },
  {
   "cell_type": "code",
   "execution_count": null,
   "metadata": {},
   "outputs": [],
   "source": [
    "# It *didn't* work\n",
    "    # If I had to guess I'd say that as written, I need to refer to column positions by name and not index, so\n",
    "    \n",
    "with open('ssdc_test_text_001.csv') as file:\n",
    "    reader = csv.DictReader(file) # skip the delimiter, which is \",\" by default?\n",
    "    line_count = 0\n",
    "    for row in reader:\n",
    "        if line_count == 0:\n",
    "            print(\"Let's get values using column headings instead?\")\n",
    "            line_count += 1\n",
    "        elif line_count > 0 and line_count < 5:\n",
    "            print(f\"This row's title is {row['Title']}.\")\n",
    "            line_count += 1\n",
    "        else:\n",
    "            pass\n",
    "    print(\"And so forth...\")\n"
   ]
  },
  {
   "cell_type": "markdown",
   "metadata": {},
   "source": [
    "For [my use case](https://gist.github.com/briesenberg07/1d3bdc9d079a8581768088dea1111f6b#use-case), I need to access data by cell.  \n",
    "Or, more accurately, I'll need to:\n",
    "- access each cell value in a row, one at a time--skipping blank cells--and for each of these cell values:\n",
    "    - fetch the column header for that value\n",
    "    - fetch a specific value from the row (value under the 'cdmnumber' header)\n",
    "So, perhaps the `reader` function can do what I need??\n"
   ]
  },
  {
   "cell_type": "code",
   "execution_count": null,
   "metadata": {},
   "outputs": [],
   "source": [
    "# starting here with the reading...I'll figure out the writing next...\n",
    "    # accessing the headers\n",
    "\n",
    "with open('testdata/ssdc_test_text_001.csv') as file:\n",
    "    reader = csv.reader(file)\n",
    "    column_number = 0\n",
    "    row_number = 0\n",
    "    for row in reader:\n",
    "        if row_number == 0:\n",
    "            for cell in row:\n",
    "                print(f\"This header is {row[column_number]}.\")\n",
    "                column_number += 1\n",
    "            row_number += 1\n",
    "        else:\n",
    "            pass"
   ]
  },
  {
   "cell_type": "code",
   "execution_count": null,
   "metadata": {},
   "outputs": [],
   "source": [
    "# starting here with the reading...I'll figure out the writing next...\n",
    "    # put headers in a list to access later using column_number as index\n",
    "\n",
    "with open('testdata/ssdc_test_text_001.csv') as file:\n",
    "    reader = csv.reader(file)\n",
    "    column_number = 0\n",
    "    row_number = 0\n",
    "    headers = []\n",
    "    for row in reader:\n",
    "        if row_number == 0:\n",
    "            for cell in row:\n",
    "                headers.append(row[column_number])\n",
    "                column_number += 1\n",
    "            row_number += 1\n",
    "        else:\n",
    "            pass\n"
   ]
  },
  {
   "cell_type": "code",
   "execution_count": null,
   "metadata": {},
   "outputs": [],
   "source": [
    "# lemme see if I did what I think I did...\n",
    "print(headers)\n",
    "print(row_number)"
   ]
  },
  {
   "cell_type": "code",
   "execution_count": 2,
   "metadata": {},
   "outputs": [],
   "source": [
    "# can I write from what I'm reading??\n",
    "\n",
    "with open('testdata/ssdc_test_text_001.csv') as file:\n",
    "    reader = csv.reader(file)\n",
    "    row_number = 0\n",
    "    column_number = 0\n",
    "    headers = []\n",
    "    for row in reader:\n",
    "        if row_number == 0:\n",
    "            for cell in row:\n",
    "                headers.append(row[column_number])\n",
    "                column_number += 1\n",
    "            row_number += 1\n",
    "        else:\n",
    "            pass\n",
    "        \n",
    "    def create_row():\n",
    "        \n",
    "        \n",
    "    with open('testdata/ssdc_for_upload_001.csv', mode = 'w') as file_out: # don't forget write mode!\n",
    "        writer = csv.writer(file_out, delimiter = ',', quotechar = '\"', quoting = csv.QUOTE_MINIMAL)\n",
    "        row_number = 0\n",
    "        column_number = 0\n",
    "        for row in reader:\n",
    "            if row_number == 0:\n",
    "                pass\n",
    "            if row_number > 0 and row_number < 5:\n",
    "                writer.writerow({{headers[column_number]} : {row[column_number]}})\n",
    "                row_number += 1\n",
    "            else:\n",
    "                pass\n"
   ]
  },
  {
   "cell_type": "code",
   "execution_count": null,
   "metadata": {},
   "outputs": [],
   "source": []
  }
 ],
 "metadata": {
  "kernelspec": {
   "display_name": "Python 3",
   "language": "python",
   "name": "python3"
  },
  "language_info": {
   "codemirror_mode": {
    "name": "ipython",
    "version": 3
   },
   "file_extension": ".py",
   "mimetype": "text/x-python",
   "name": "python",
   "nbconvert_exporter": "python",
   "pygments_lexer": "ipython3",
   "version": "3.8.5"
  }
 },
 "nbformat": 4,
 "nbformat_minor": 4
}
