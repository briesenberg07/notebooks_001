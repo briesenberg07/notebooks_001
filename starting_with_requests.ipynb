{
 "cells": [
  {
   "cell_type": "markdown",
   "metadata": {},
   "source": [
    "# Python Requests library\n",
    "***Info @ [https://requests.readthedocs.io/en/master/](https://requests.readthedocs.io/en/master/)***"
   ]
  },
  {
   "cell_type": "markdown",
   "metadata": {},
   "source": [
    "## Quickstart\n",
    "***[https://docs.python-requests.org/en/latest/user/quickstart/](https://docs.python-requests.org/en/latest/user/quickstart/)***"
   ]
  },
  {
   "cell_type": "code",
   "execution_count": null,
   "metadata": {},
   "outputs": [],
   "source": [
    "import requests\n",
    "# example from doc\n",
    "r = requests.get('https://api.github.com/events')\n",
    "print(r)"
   ]
  },
  {
   "cell_type": "markdown",
   "metadata": {},
   "source": [
    "### Notes on example from doc\n",
    "- MDN Web Docs > \n",
    "  - [HTTP response status codes](https://developer.mozilla.org/en-US/docs/Web/HTTP/Status) > \n",
    "    - [200 OK](https://developer.mozilla.org/en-US/docs/Web/HTTP/Status/200)\n",
    "- OK, MDN doc has for a 200 response for GET, \"the resource has been fetched and transmitted in the message body\", but, I don't see any resource...\n"
   ]
  },
  {
   "cell_type": "markdown",
   "metadata": {},
   "source": [
    "## Sinopia API"
   ]
  },
  {
   "cell_type": "code",
   "execution_count": null,
   "metadata": {},
   "outputs": [],
   "source": [
    "# try a sinopia resource via the Sinopia API\n",
    "    # https://ld4p.github.io/sinopia_api/\n",
    "\n",
    "import requests\n",
    "r = requests.get('https://api.sinopia.io/resource/9f8d19d9-6a1c-4d2d-929e-d40f809306bb')\n",
    "print(r)"
   ]
  },
  {
   "cell_type": "code",
   "execution_count": null,
   "metadata": {},
   "outputs": [],
   "source": [
    "import rdflib\n",
    "g = rdflib.Graph()\n",
    "g.parse(r)"
   ]
  },
  {
   "cell_type": "markdown",
   "metadata": {},
   "source": [
    "### Notes on Sinopia GET\n",
    "- I obviously don't understand what's going on here--what is actually returned in the GET\n",
    "- Also note that GET isn't required to access a Sinopia resource, so perhaps I have a more basic misunderstanding here (see below)"
   ]
  },
  {
   "cell_type": "code",
   "execution_count": null,
   "metadata": {},
   "outputs": [],
   "source": [
    "from rdflib import Graph\n",
    "g = Graph()\n",
    "g.parse(\"https://api.sinopia.io/resource/9f8d19d9-6a1c-4d2d-929e-d40f809306bb\", format=\"json-ld\")\n",
    "# OK up to parsing\n",
    "    # I can g.serialize and output to file\n",
    "    # how can I display triples in stdout?"
   ]
  },
  {
   "cell_type": "markdown",
   "metadata": {},
   "source": [
    "### On accessing Sinopia resources using rdflib\n",
    "*move to separate rdflib notes*"
   ]
  },
  {
   "cell_type": "markdown",
   "metadata": {},
   "source": [
    "## CONTENTdm API"
   ]
  },
  {
   "cell_type": "code",
   "execution_count": 4,
   "metadata": {},
   "outputs": [
    {
     "data": {
      "text/plain": [
       "200"
      ]
     },
     "execution_count": 4,
     "metadata": {},
     "output_type": "execute_result"
    }
   ],
   "source": [
    "import requests\n",
    "\n",
    "url = 'https://digitalcollections.lib.washington.edu/digital/bl/dmwebservices/index.php?q=wsAPIDescribe/xml'\n",
    "\n",
    "r = requests.get(url)\n",
    "r.status_code"
   ]
  },
  {
   "cell_type": "code",
   "execution_count": 5,
   "metadata": {},
   "outputs": [
    {
     "data": {
      "text/plain": [
       "'<?xml version=\"1.0\" encoding=\"UTF-8\"?><wsapi><version>0.6</version></wsapi>'"
      ]
     },
     "execution_count": 5,
     "metadata": {},
     "output_type": "execute_result"
    }
   ],
   "source": [
    "r.text"
   ]
  },
  {
   "cell_type": "markdown",
   "metadata": {},
   "source": [
    "### Notes\n",
    "- This. Is. Great.\n",
    "    - the [text method](https://2.python-requests.org/en/master/api/#requests.Response.text) seems to be how I get my response in stdout"
   ]
  },
  {
   "cell_type": "code",
   "execution_count": null,
   "metadata": {},
   "outputs": [],
   "source": []
  }
 ],
 "metadata": {
  "kernelspec": {
   "display_name": "Python 3",
   "language": "python",
   "name": "python3"
  },
  "language_info": {
   "codemirror_mode": {
    "name": "ipython",
    "version": 3
   },
   "file_extension": ".py",
   "mimetype": "text/x-python",
   "name": "python",
   "nbconvert_exporter": "python",
   "pygments_lexer": "ipython3",
   "version": "3.8.5"
  }
 },
 "nbformat": 4,
 "nbformat_minor": 4
}
