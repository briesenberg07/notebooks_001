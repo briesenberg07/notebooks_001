{
 "cells": [
  {
   "cell_type": "markdown",
   "metadata": {},
   "source": [
    "# Create a dictionary from user input\n",
    "I need a dictionary"
   ]
  },
  {
   "cell_type": "code",
   "execution_count": 11,
   "metadata": {},
   "outputs": [
    {
     "name": "stdout",
     "output_type": "stream",
     "text": [
      "Enter a value to add to the dictionary for the key \"test_key_1\" or enter FINISH to stop:\n",
      "well\n",
      "Enter a value to add to the dictionary for the key \"test_key_2\" or enter FINISH to stop:\n",
      "shucks\n",
      "Enter a value to add to the dictionary for the key \"test_key_3\" or enter FINISH to stop:\n",
      "it\n",
      "Enter a value to add to the dictionary for the key \"test_key_4\" or enter FINISH to stop:\n",
      "don't\n",
      "Enter a value to add to the dictionary for the key \"test_key_5\" or enter FINISH to stop:\n",
      "work\n",
      "Enter a value to add to the dictionary for the key \"test_key_6\" or enter FINISH to stop:\n",
      "FINISH\n"
     ]
    },
    {
     "data": {
      "text/plain": [
       "{'test_key_1': 'well',\n",
       " 'test_key_2': 'shucks',\n",
       " 'test_key_3': 'it',\n",
       " 'test_key_4': \"don't\",\n",
       " 'test_key_5': 'work'}"
      ]
     },
     "execution_count": 11,
     "metadata": {},
     "output_type": "execute_result"
    }
   ],
   "source": [
    "# define function\n",
    "\n",
    "def make_a_dict(key_stem):\n",
    "        dictionary = {}\n",
    "        proceed = True\n",
    "        key_suffix = 1\n",
    "        while proceed == True:\n",
    "            add = input(f'Enter a value to add to the dictionary for the key \"{key_stem + str(key_suffix)}\" or enter FINISH to stop:\\n')\n",
    "            if add == \"FINISH\":\n",
    "                proceed = False\n",
    "            else:\n",
    "                dictionary.update({key_stem + str(key_suffix): add})\n",
    "                key_suffix += 1\n",
    "        return dictionary\n",
    "                \n",
    "# test function\n",
    "\n",
    "make_a_dict(\"test_key_\")\n"
   ]
  },
  {
   "cell_type": "markdown",
   "metadata": {},
   "source": [
    "## Any arbitrary var stands in the each key in a dictionary\n",
    "This is something that stood out to me for some reason\n",
    "Don't know why it should be surprising--arbitrary vars can be used to iterate through things like lists and tuples I believe"
   ]
  },
  {
   "cell_type": "code",
   "execution_count": 12,
   "metadata": {},
   "outputs": [
    {
     "ename": "NameError",
     "evalue": "name 'dictionary' is not defined",
     "output_type": "error",
     "traceback": [
      "\u001b[1;31m---------------------------------------------------------------------------\u001b[0m",
      "\u001b[1;31mNameError\u001b[0m                                 Traceback (most recent call last)",
      "\u001b[1;32m<ipython-input-12-5da37cc151ee>\u001b[0m in \u001b[0;36m<module>\u001b[1;34m\u001b[0m\n\u001b[1;32m----> 1\u001b[1;33m \u001b[0mprint\u001b[0m\u001b[1;33m(\u001b[0m\u001b[0mdictionary\u001b[0m\u001b[1;33m)\u001b[0m\u001b[1;33m\u001b[0m\u001b[1;33m\u001b[0m\u001b[0m\n\u001b[0m\u001b[0;32m      2\u001b[0m \u001b[1;31m# Still don't understand why the_dict isn't in memory...\u001b[0m\u001b[1;33m\u001b[0m\u001b[1;33m\u001b[0m\u001b[1;33m\u001b[0m\u001b[0m\n",
      "\u001b[1;31mNameError\u001b[0m: name 'dictionary' is not defined"
     ]
    }
   ],
   "source": [
    "print(dictionary)\n",
    "# Still don't understand why the_dict isn't in memory..."
   ]
  },
  {
   "cell_type": "code",
   "execution_count": 13,
   "metadata": {},
   "outputs": [
    {
     "ename": "NameError",
     "evalue": "name 'dictionary' is not defined",
     "output_type": "error",
     "traceback": [
      "\u001b[1;31m---------------------------------------------------------------------------\u001b[0m",
      "\u001b[1;31mNameError\u001b[0m                                 Traceback (most recent call last)",
      "\u001b[1;32m<ipython-input-13-85d7e60b2976>\u001b[0m in \u001b[0;36m<module>\u001b[1;34m\u001b[0m\n\u001b[0;32m      2\u001b[0m \u001b[1;31m# (although I don't know why it would if dictionary isn't defined)\u001b[0m\u001b[1;33m\u001b[0m\u001b[1;33m\u001b[0m\u001b[1;33m\u001b[0m\u001b[0m\n\u001b[0;32m      3\u001b[0m \u001b[1;33m\u001b[0m\u001b[0m\n\u001b[1;32m----> 4\u001b[1;33m \u001b[0mprint\u001b[0m\u001b[1;33m(\u001b[0m\u001b[0mdictionary\u001b[0m\u001b[1;33m[\u001b[0m\u001b[1;34m'test_key_1'\u001b[0m\u001b[1;33m]\u001b[0m\u001b[1;33m)\u001b[0m\u001b[1;33m\u001b[0m\u001b[1;33m\u001b[0m\u001b[0m\n\u001b[0m",
      "\u001b[1;31mNameError\u001b[0m: name 'dictionary' is not defined"
     ]
    }
   ],
   "source": [
    "# What if I try to access a value--perhaps that would work?\n",
    "# (although I don't know why it would if dictionary isn't defined)\n",
    "\n",
    "print(dictionary['test_key_1'])"
   ]
  },
  {
   "cell_type": "code",
   "execution_count": null,
   "metadata": {},
   "outputs": [],
   "source": []
  }
 ],
 "metadata": {
  "kernelspec": {
   "display_name": "Python 3",
   "language": "python",
   "name": "python3"
  },
  "language_info": {
   "codemirror_mode": {
    "name": "ipython",
    "version": 3
   },
   "file_extension": ".py",
   "mimetype": "text/x-python",
   "name": "python",
   "nbconvert_exporter": "python",
   "pygments_lexer": "ipython3",
   "version": "3.8.5"
  }
 },
 "nbformat": 4,
 "nbformat_minor": 4
}
