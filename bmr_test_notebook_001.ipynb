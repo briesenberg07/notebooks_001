{
 "cells": [
  {
   "cell_type": "markdown",
   "metadata": {},
   "source": [
    "# Just a first/test/scratch/messin' around notebook\n",
    "So, here we go. What do I want to do?\n"
   ]
  },
  {
   "cell_type": "markdown",
   "metadata": {},
   "source": [
    "## Practicing [`.split()`](https://docs.python.org/3.6/library/stdtypes.html#str.split)"
   ]
  },
  {
   "cell_type": "code",
   "execution_count": 4,
   "metadata": {},
   "outputs": [
    {
     "name": "stdout",
     "output_type": "stream",
     "text": [
      "['stuff', 'things', 'dunno', 'pizza', 'nachos', 'potatos', 'spelling']\n",
      "stuff things dunno pizza nachos potatos spelling\n"
     ]
    }
   ],
   "source": [
    "# I'll just review some string-method stuff I've been learning recently\n",
    "\n",
    "strings_space = \"stuff things dunno pizza nachos potatos spelling\"\n",
    "strings_slash = \"sushi/more nachos/more sushi/I'm hungry\"\n",
    "\n",
    "print(strings_space.split())\n",
    "\n",
    "# Curious, did the above command alter the var's value?\n",
    "print(strings_space)"
   ]
  },
  {
   "cell_type": "markdown",
   "metadata": {},
   "source": [
    "**Deep thoughts:**\n",
    "- A reminder that split() yields a list\n",
    "- Noting that my first line after the vars (`print()`) did not change the value of my var"
   ]
  }
 ],
 "metadata": {
  "kernelspec": {
   "display_name": "Python 3",
   "language": "python",
   "name": "python3"
  },
  "language_info": {
   "codemirror_mode": {
    "name": "ipython",
    "version": 3
   },
   "file_extension": ".py",
   "mimetype": "text/x-python",
   "name": "python",
   "nbconvert_exporter": "python",
   "pygments_lexer": "ipython3",
   "version": "3.8.5"
  }
 },
 "nbformat": 4,
 "nbformat_minor": 4
}
