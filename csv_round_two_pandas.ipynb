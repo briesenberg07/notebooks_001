{
 "cells": [
  {
   "cell_type": "markdown",
   "metadata": {},
   "source": [
    "# getting started working with csv data in Python\n",
    "- still working on the use case described in [tabular_data_and_python3_2021-12.md](https://gist.github.com/briesenberg07/1d3bdc9d079a8581768088dea1111f6b#using-python-3-to-transform-tabular-data-from-format-one-to-format-two)\n",
    "- continuing from [csv_round_one](csv_round_one_csvlib.ipynb)\n",
    "- as before much here is copied from the Real Python > [Reading and Writing CSV Files in Python](https://realpython.com/python-csv/) tutorial, but looking now at [Parsing CSV Files With the pandas Library](https://realpython.com/python-csv/#parsing-csv-files-with-the-pandas-library)\n",
    "- note to self that I'll need to `pip3` pandas for use in scripts to run in the WSL Ubuntu 20.04 terminal"
   ]
  },
  {
   "cell_type": "code",
   "execution_count": 1,
   "metadata": {},
   "outputs": [],
   "source": [
    "# i'll need to run this before any and all cells here\n",
    "import pandas"
   ]
  },
  {
   "cell_type": "code",
   "execution_count": 14,
   "metadata": {},
   "outputs": [],
   "source": [
    "# NOTE encountering encoding errors! I've altered the test file in this repo's testdata/ directory to elide this problem\n",
    "# frustratingly, cannot use pandas.read_csv('filename', encoding errors = 'ignore') and I'm not sure why...\n",
    "# see https://pandas.pydata.org/docs/reference/api/pandas.read_csv.html\n",
    "\n",
    "dataframe = pandas.read_csv('testdata/ssdc_test_text_001.csv')\n",
    "# printing takes up lots of space\n",
    "# print(datafile) "
   ]
  },
  {
   "cell_type": "code",
   "execution_count": 15,
   "metadata": {},
   "outputs": [
    {
     "name": "stdout",
     "output_type": "stream",
     "text": [
      "<class 'pandas.core.series.Series'>\n",
      "<class 'str'>\n",
      "<class 'str'>\n"
     ]
    }
   ],
   "source": [
    "# we can check the type of values in a column...\n",
    "# but I'm a little confused as to the syntax: compare the following two commands\n",
    "print(type(dataframe['Title'])) # **\n",
    "print(type(dataframe['Title'][0])) # **\n",
    "# **Note that we can't use this column-name key if it is set as the dataframe index (index_col), see below\n",
    "# So, we must check the type of one value (identified by row index?) in the column??\n",
    "print(type(dataframe['datemodified'][0]))"
   ]
  },
  {
   "cell_type": "code",
   "execution_count": 16,
   "metadata": {},
   "outputs": [],
   "source": [
    "# there is also something called the dataframe index\n",
    "dataframe = pandas.read_csv('testdata/ssdc_test_text_001.csv', index_col = 'Title')\n",
    "# print(dataframe)"
   ]
  },
  {
   "cell_type": "code",
   "execution_count": 21,
   "metadata": {},
   "outputs": [
    {
     "name": "stdout",
     "output_type": "stream",
     "text": [
      "<class 'pandas._libs.tslibs.timestamps.Timestamp'>\n"
     ]
    }
   ],
   "source": [
    "# we can also parse the type of a given column, and then confirm that values are formatted according to type\n",
    "dataframe = pandas.read_csv('testdata/ssdc_test_text_001.csv', parse_dates=['datecreated', 'datemodified'])\n",
    "print(type(dataframe['datemodified'][0]))"
   ]
  },
  {
   "cell_type": "markdown",
   "metadata": {},
   "source": [
    "Seems good...but I'll need to look beyond the tutorial in order to meet the use case...\n",
    "Pretty well stuck at this point so will pick up with more reading..."
   ]
  }
 ],
 "metadata": {
  "kernelspec": {
   "display_name": "Python 3",
   "language": "python",
   "name": "python3"
  },
  "language_info": {
   "codemirror_mode": {
    "name": "ipython",
    "version": 3
   },
   "file_extension": ".py",
   "mimetype": "text/x-python",
   "name": "python",
   "nbconvert_exporter": "python",
   "pygments_lexer": "ipython3",
   "version": "3.8.5"
  }
 },
 "nbformat": 4,
 "nbformat_minor": 4
}
