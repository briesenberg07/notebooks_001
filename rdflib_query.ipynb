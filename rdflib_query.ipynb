{
 "cells": [
  {
   "cell_type": "markdown",
   "id": "75b4699c",
   "metadata": {},
   "source": [
    "# querying a local triples file using rdflib"
   ]
  },
  {
   "cell_type": "markdown",
   "id": "c2161c40",
   "metadata": {},
   "source": [
    "## my use case\n",
    "Examine the kind and number of statements on:\n",
    "- the Bhagavad Gita written work (http://www.wikidata.org/entity/Q46802) and Annie Besant's English translation (http://www.wikidata.org/entity/Q63196925) in Wikidata\n",
    "    - I can use the [WD query service](https://query.wikidata.org/) for this\n",
    "- a [BF Hub/Work](https://id.loc.gov/resources/hubs/02138b5d-0a89-a6d8-1555-7f0731e6ea0c.html) (“Hub/Work”?), [BF Work](https://id.loc.gov/resources/works/1102998.html), and [BF Instance](https://id.loc.gov/resources/instances/1102998.html)\n",
    "    - I need a way to query these files\n",
    "    - No LOC endpoint\n",
    "    - I can easily download the files\n"
   ]
  },
  {
   "cell_type": "markdown",
   "id": "0ba83587",
   "metadata": {},
   "source": [
    "### first I need to install some libraries\n",
    "I believe that I could do this in the notebook itself; but I'll use the Anaconda Prompt.\n",
    "```\n",
    "(base) C:\\Users\\Benjamin>pip install rdflib\n",
    "[...stuff happens...]\n",
    "(base) C:\\Users\\Benjamin>pip install rdflib-jsonld\n",
    "[...more stuff happens...]\n",
    "```\n",
    "### next I need to try and figure out what I'm doing\n",
    "\n",
    "- I'm looking at the [rdflib 6.1.1 documentation](https://rdflib.readthedocs.io/en/stable/index.html) > [Querying with SPARQL](https://rdflib.readthedocs.io/en/stable/intro_to_sparql.html)\n",
    "- Also, here's a SO post that looks my speed: [Is there a Hello World example for SPARQL with RDFLib?](https://stackoverflow.com/questions/16829351/is-there-a-hello-world-example-for-sparql-with-rdflib)"
   ]
  },
  {
   "cell_type": "markdown",
   "id": "ae62e4a8",
   "metadata": {},
   "source": [
    "### query version one"
   ]
  },
  {
   "cell_type": "code",
   "execution_count": null,
   "id": "0fba825c",
   "metadata": {},
   "outputs": [],
   "source": [
    "import rdflib"
   ]
  },
  {
   "cell_type": "code",
   "execution_count": null,
   "id": "d8f9b9a9",
   "metadata": {},
   "outputs": [],
   "source": [
    "g = rdflib.Graph()\n",
    "g.parse(\"testdata/02138b5d-0a89-a6d8-1555-7f0731e6ea0c.rdf\", format=\"xml\")\n",
    "query = \"SELECT (COUNT(?property) AS ?statements) WHERE { <http://id.loc.gov/resources/hubs/02138b5d-0a89-a6d8-1555-7f0731e6ea0c> ?property ?value. }\"\n",
    "result = g.query(query)\n",
    "for row in result:\n",
    "    print(row)"
   ]
  },
  {
   "cell_type": "code",
   "execution_count": null,
   "id": "01a9e89a",
   "metadata": {},
   "outputs": [],
   "source": [
    "g2 = rdflib.Graph()\n",
    "g2.parse(\"testdata/1102998_Work.rdf\", format=\"xml\")\n",
    "query2 = \"SELECT (COUNT(?property2) AS ?statements2) WHERE { <http://id.loc.gov/resources/works/1102998> ?property2 ?value2. }\"\n",
    "result2 = g2.query(query2)\n",
    "for row in result2:\n",
    "    print(row)"
   ]
  },
  {
   "cell_type": "code",
   "execution_count": null,
   "id": "64117595",
   "metadata": {},
   "outputs": [],
   "source": [
    "g3 = rdflib.Graph()\n",
    "g3.parse(\"testdata/1102998_Instance.rdf\", format=\"xml\")\n",
    "query3 = \"SELECT (COUNT(?property2) AS ?statements2) WHERE { <http://id.loc.gov/resources/instances/1102998> ?property2 ?value2. }\"\n",
    "result3 = g3.query(query3)\n",
    "for row in result3:\n",
    "    print(row)"
   ]
  },
  {
   "cell_type": "markdown",
   "id": "067c0857",
   "metadata": {},
   "source": [
    "#### 🔍 query version one: success with very basic queries; repeating lots of things\n",
    "Things I'd like to improve:\n",
    "- use one query to get statements on all three resources, rather than repeat the query for each resource/file\n",
    "    - maybe JOIN?\n",
    "- To do the above, would I need to load the triples from all three downloaded BF files into one graph?\n",
    "\n",
    "**RESOURCES**\n",
    "- rdflib > [Querying with SPARQL](https://rdflib.readthedocs.io/en/stable/intro_to_sparql.html#querying-with-sparql)\n",
    "- a HA! [Merging graphs](https://rdflib.readthedocs.io/en/stable/merging.html#merging-graphs)\n",
    "\n",
    "```\n",
    "from rdflib import Graph\n",
    "graph = Graph()\n",
    "graph.parse(input1)\n",
    "graph.parse(input2)\n",
    "```\n",
    "\n",
    "> graph now contains the merged graph of input1 and input2.\n",
    "\n",
    "*It's that easy!?*"
   ]
  },
  {
   "cell_type": "markdown",
   "id": "267731cc",
   "metadata": {},
   "source": [
    "### query version two"
   ]
  },
  {
   "cell_type": "code",
   "execution_count": null,
   "id": "2dad935d",
   "metadata": {},
   "outputs": [],
   "source": [
    "from rdflib import Graph"
   ]
  },
  {
   "cell_type": "code",
   "execution_count": null,
   "id": "491cc3bd",
   "metadata": {},
   "outputs": [],
   "source": [
    "# create a combined graph\n",
    "cg = Graph()\n",
    "cg.parse(\"testdata/02138b5d-0a89-a6d8-1555-7f0731e6ea0c.rdf\", format=\"xml\")\n",
    "cg.parse(\"testdata/1102998_Work.rdf\", format=\"xml\")\n",
    "cg.parse(\"testdata/1102998_Instance.rdf\", format=\"xml\")"
   ]
  },
  {
   "cell_type": "code",
   "execution_count": null,
   "id": "7b25f5e2",
   "metadata": {},
   "outputs": [],
   "source": [
    "query = \"SELECT (COUNT(?property) AS ?statements) WHERE { <http://id.loc.gov/resources/hubs/02138b5d-0a89-a6d8-1555-7f0731e6ea0c> ?property ?value. }\"\n",
    "result = cg.query(query)\n",
    "for row in result:\n",
    "    print(row)\n",
    "query2 = \"SELECT (COUNT(?property2) AS ?statements2) WHERE { <http://id.loc.gov/resources/works/1102998> ?property2 ?value2. }\"\n",
    "result2 = cg.query(query2)\n",
    "for row in result2:\n",
    "    print(row)\n",
    "query3 = \"SELECT (COUNT(?property2) AS ?statements2) WHERE { <http://id.loc.gov/resources/instances/1102998> ?property2 ?value2. }\"\n",
    "result3 = cg.query(query3)\n",
    "for row in result3:\n",
    "    print(row)"
   ]
  },
  {
   "cell_type": "markdown",
   "id": "896ee7c8",
   "metadata": {},
   "source": [
    "#### 🔍 query version two - query one graph 3x instead of three graphs 1x/each\n",
    "**NOTE** that I got a different triple count for the `bf:Hub` (!?!)  \n",
    "Next to do is to improve my query syntax so that one query can retrieve the statements on the Hub, the Work and the Instance\n",
    "\n",
    "**QUESTIONS/RESOURCES/ETC.**\n",
    "- I *think* that JOIN is what I need?\n",
    "- How to check my SPARQL syntax before putting the query string in a var??\n",
    "    - [Here](http://sparql.org/query-validator.html)'s a SPARQL query validator\n",
    "    - \n",
    "- Attempting to get a query structure right in the Wikidata query service but [not having much luck so far...](https://w.wiki/57re)"
   ]
  },
  {
   "cell_type": "markdown",
   "id": "747481f9",
   "metadata": {},
   "source": [
    "### query version three"
   ]
  },
  {
   "cell_type": "code",
   "execution_count": 1,
   "id": "036cb219",
   "metadata": {},
   "outputs": [
    {
     "data": {
      "text/plain": [
       "<Graph identifier=N3df76661d432471d9dcb6bbd71b61fb5 (<class 'rdflib.graph.Graph'>)>"
      ]
     },
     "execution_count": 1,
     "metadata": {},
     "output_type": "execute_result"
    }
   ],
   "source": [
    "from rdflib import Graph\n",
    "cg = Graph() #combine files\n",
    "cg.parse(\"testdata/548884da-f5d9-240a-8ed2-c453e1183e01.rdf\", format=\"xml\")\n",
    "cg.parse(\"testdata/9844232_Work.rdf\", format=\"xml\")\n",
    "cg.parse(\"testdata/9844232_Instance.rdf\", format=\"xml\")"
   ]
  },
  {
   "cell_type": "code",
   "execution_count": 3,
   "id": "cb9cf6c9",
   "metadata": {},
   "outputs": [
    {
     "name": "stdout",
     "output_type": "stream",
     "text": [
      "(rdflib.term.Literal('181720', datatype=rdflib.term.URIRef('http://www.w3.org/2001/XMLSchema#integer')),)\n"
     ]
    }
   ],
   "source": [
    "# I don't think there are really 180K+ statements on the Hub, Work, and Instance...\n",
    "query = \"SELECT  (COUNT(( ( ?property1 + ?property2 ) + ?property3 )) AS ?statements) WHERE { <http://id.loc.gov/resources/hubs/548884da-f5d9-240a-8ed2-c453e1183e01> ?property1  ?value1 . <http://id.loc.gov/resources/works/9844232>  ?property2  ?value2 . <http://id.loc.gov/resources/instances/9844232> ?property3  ?value3 }\"\n",
    "result = cg.query(query)\n",
    "for row in result:\n",
    "    print(row)"
   ]
  },
  {
   "cell_type": "code",
   "execution_count": 7,
   "id": "4a46630d",
   "metadata": {},
   "outputs": [
    {
     "name": "stdout",
     "output_type": "stream",
     "text": [
      "(rdflib.term.Literal('1302', datatype=rdflib.term.URIRef('http://www.w3.org/2001/XMLSchema#integer')),)\n"
     ]
    }
   ],
   "source": [
    "query2 = \"SELECT (COUNT (?p) AS ?statements) WHERE { ?s ?p ?o . }\"\n",
    "result = cg.query(query2)\n",
    "for row in result:\n",
    "    print(row)"
   ]
  },
  {
   "cell_type": "code",
   "execution_count": 10,
   "id": "6b1a44ab",
   "metadata": {},
   "outputs": [
    {
     "name": "stdout",
     "output_type": "stream",
     "text": [
      "<class 'rdflib.plugins.sparql.processor.SPARQLResult'>\n",
      "(rdflib.term.URIRef('http://id.loc.gov/authorities/subjects/sh85108438'), rdflib.term.URIRef('http://www.loc.gov/mads/rdf/v1#authoritativeLabel'), rdflib.term.Literal('Psychological fiction.'))\n",
      "(rdflib.term.BNode('Nbfc91fb33df04d26a297464efffdc8b9'), rdflib.term.URIRef('http://www.w3.org/1999/02/22-rdf-syntax-ns#type'), rdflib.term.URIRef('http://id.loc.gov/ontologies/bibframe/Title'))\n",
      "(rdflib.term.URIRef('http://id.loc.gov/resources/works/8272098'), rdflib.term.URIRef('http://id.loc.gov/ontologies/bibframe/title'), rdflib.term.BNode('Nbb121a01da3341a2ba9fffdf0ef90758'))\n",
      "(rdflib.term.URIRef('http://id.loc.gov/resources/works/2249719'), rdflib.term.URIRef('http://www.w3.org/1999/02/22-rdf-syntax-ns#type'), rdflib.term.URIRef('http://id.loc.gov/ontologies/bibframe/Work'))\n",
      "(rdflib.term.URIRef('http://id.loc.gov/resources/hubs/548884da-f5d9-240a-8ed2-c453e1183e01'), rdflib.term.URIRef('http://id.loc.gov/ontologies/bflc/subjectOf'), rdflib.term.URIRef('http://id.loc.gov/resources/works/3191277'))\n",
      "(rdflib.term.BNode('Ne1a70aaefbdf4a7cb056e655ba48e197'), rdflib.term.URIRef('http://www.w3.org/2000/01/rdf-schema#label'), rdflib.term.Literal('Moby Dick.'))\n",
      "(rdflib.term.URIRef('http://id.loc.gov/resources/hubs/548884da-f5d9-240a-8ed2-c453e1183e01'), rdflib.term.URIRef('http://id.loc.gov/ontologies/bibframe/relatedTo'), rdflib.term.URIRef('http://id.loc.gov/resources/works/7480680'))\n",
      "(rdflib.term.URIRef('http://id.loc.gov/resources/hubs/548884da-f5d9-240a-8ed2-c453e1183e01'), rdflib.term.URIRef('http://id.loc.gov/ontologies/bflc/subjectOf'), rdflib.term.URIRef('http://id.loc.gov/resources/works/12084569'))\n",
      "(rdflib.term.URIRef('http://id.loc.gov/resources/works/4801165'), rdflib.term.URIRef('http://www.w3.org/1999/02/22-rdf-syntax-ns#type'), rdflib.term.URIRef('http://id.loc.gov/ontologies/bibframe/Work'))\n",
      "(rdflib.term.URIRef('http://id.loc.gov/resources/hubs/548884da-f5d9-240a-8ed2-c453e1183e01'), rdflib.term.URIRef('http://id.loc.gov/ontologies/bflc/subjectOf'), rdflib.term.URIRef('http://id.loc.gov/resources/works/7943938'))\n"
     ]
    }
   ],
   "source": [
    "# Really need to know more about rdflib.plugins.sparql.processor.SPARQLResult in order to print result in an understandable way...\n",
    "query3 = \"SELECT ?s ?p ?o WHERE { ?s ?p ?o .} LIMIT 10\"\n",
    "result = cg.query(query3)\n",
    "print(type(result))\n",
    "for row in result:\n",
    "    print(row)"
   ]
  },
  {
   "cell_type": "markdown",
   "id": "4827b4e9",
   "metadata": {},
   "source": [
    "#### 🔍 query version three - doesn't work yet\n",
    "Something is going wrong in my attept to retrieve statements on 3 IRIs...\n",
    "\n",
    "**MORE NOTES/QUESTIONS/RESOURCES**\n",
    "- Need to understand [class rdflib.plugins.sparql.processor.SPARQLResult](https://rdflib.readthedocs.io/en/stable/apidocs/rdflib.plugins.sparql.html#rdflib.plugins.sparql.processor.SPARQLResult) better for printing query results? Although the docs li\n"
   ]
  }
 ],
 "metadata": {
  "kernelspec": {
   "display_name": "Python 3 (ipykernel)",
   "language": "python",
   "name": "python3"
  },
  "language_info": {
   "codemirror_mode": {
    "name": "ipython",
    "version": 3
   },
   "file_extension": ".py",
   "mimetype": "text/x-python",
   "name": "python",
   "nbconvert_exporter": "python",
   "pygments_lexer": "ipython3",
   "version": "3.9.7"
  }
 },
 "nbformat": 4,
 "nbformat_minor": 5
}
