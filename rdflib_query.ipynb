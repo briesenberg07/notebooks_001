{
 "cells": [
  {
   "cell_type": "markdown",
   "id": "75b4699c",
   "metadata": {},
   "source": [
    "# querying a local triples file using rdflib"
   ]
  },
  {
   "cell_type": "markdown",
   "id": "c2161c40",
   "metadata": {},
   "source": [
    "## my use case\n",
    "Examine the kind and number of statements on:\n",
    "- the Bhagavad Gita written work (http://www.wikidata.org/entity/Q46802) and Annie Besant's English translation (http://www.wikidata.org/entity/Q63196925) in Wikidata\n",
    "    - I can use the [WD query service](https://query.wikidata.org/) for this\n",
    "- a [BF Hub/Work](https://id.loc.gov/resources/hubs/02138b5d-0a89-a6d8-1555-7f0731e6ea0c.html) (“Hub/Work”?), [BF Work](https://id.loc.gov/resources/works/1102998.html), and [BF Instance](https://id.loc.gov/resources/instances/1102998.html)\n",
    "    - I need a way to query these files\n",
    "    - No LOC endpoint\n",
    "    - I can easily download the files\n"
   ]
  },
  {
   "cell_type": "markdown",
   "id": "0ba83587",
   "metadata": {},
   "source": [
    "### first I need to install some libraries\n",
    "I believe that I could do this in the notebook itself; but I'll use the Anaconda Prompt.\n",
    "```\n",
    "(base) C:\\Users\\Benjamin>pip install rdflib\n",
    "[...stuff happens...]\n",
    "(base) C:\\Users\\Benjamin>pip install rdflib-jsonld\n",
    "[...more stuff happens...]\n",
    "```\n",
    "### next I need to try and figure out what I'm doing\n",
    "\n",
    "- I'm looking at the [rdflib 6.1.1 documentation](https://rdflib.readthedocs.io/en/stable/index.html) > [Querying with SPARQL](https://rdflib.readthedocs.io/en/stable/intro_to_sparql.html)\n",
    "- Also, here's a SO post that looks my speed: [Is there a Hello World example for SPARQL with RDFLib?](https://stackoverflow.com/questions/16829351/is-there-a-hello-world-example-for-sparql-with-rdflib)"
   ]
  },
  {
   "cell_type": "markdown",
   "id": "ae62e4a8",
   "metadata": {},
   "source": [
    "### query version one"
   ]
  },
  {
   "cell_type": "code",
   "execution_count": 7,
   "id": "0fba825c",
   "metadata": {},
   "outputs": [],
   "source": [
    "import rdflib"
   ]
  },
  {
   "cell_type": "code",
   "execution_count": 8,
   "id": "d8f9b9a9",
   "metadata": {},
   "outputs": [
    {
     "name": "stdout",
     "output_type": "stream",
     "text": [
      "(rdflib.term.Literal('109', datatype=rdflib.term.URIRef('http://www.w3.org/2001/XMLSchema#integer')),)\n"
     ]
    }
   ],
   "source": [
    "g = rdflib.Graph()\n",
    "g.parse(\"testdata/02138b5d-0a89-a6d8-1555-7f0731e6ea0c.rdf\", format=\"xml\")\n",
    "query = \"SELECT (COUNT(?property) AS ?statements) WHERE { <http://id.loc.gov/resources/hubs/02138b5d-0a89-a6d8-1555-7f0731e6ea0c> ?property ?value. }\"\n",
    "result = g.query(query)\n",
    "for row in result:\n",
    "    print(row)"
   ]
  },
  {
   "cell_type": "code",
   "execution_count": 9,
   "id": "01a9e89a",
   "metadata": {},
   "outputs": [
    {
     "name": "stdout",
     "output_type": "stream",
     "text": [
      "(rdflib.term.Literal('20', datatype=rdflib.term.URIRef('http://www.w3.org/2001/XMLSchema#integer')),)\n"
     ]
    }
   ],
   "source": [
    "g2 = rdflib.Graph()\n",
    "g2.parse(\"testdata/1102998.rdf\", format=\"xml\")\n",
    "query2 = \"SELECT (COUNT(?property2) AS ?statements2) WHERE { <http://id.loc.gov/resources/works/1102998> ?property2 ?value2. }\"\n",
    "result2 = g2.query(query2)\n",
    "for row in result2:\n",
    "    print(row)"
   ]
  },
  {
   "cell_type": "code",
   "execution_count": 10,
   "id": "64117595",
   "metadata": {},
   "outputs": [
    {
     "name": "stdout",
     "output_type": "stream",
     "text": [
      "(rdflib.term.Literal('21', datatype=rdflib.term.URIRef('http://www.w3.org/2001/XMLSchema#integer')),)\n"
     ]
    }
   ],
   "source": [
    "g3 = rdflib.Graph()\n",
    "g3.parse(\"testdata/1102998_Instance.rdf\", format=\"xml\")\n",
    "query3 = \"SELECT (COUNT(?property2) AS ?statements2) WHERE { <http://id.loc.gov/resources/instances/1102998> ?property2 ?value2. }\"\n",
    "result3 = g3.query(query3)\n",
    "for row in result3:\n",
    "    print(row)"
   ]
  },
  {
   "cell_type": "markdown",
   "id": "067c0857",
   "metadata": {},
   "source": [
    "#### 🔍 query version one: success with very basic queries; repeating lots of things\n",
    "Things I'd like to improve:\n",
    "- use one query to get statements on all three resources, rather than repeat the query for each resource/file\n",
    "    - maybe JOIN?\n",
    "- To do the above, would I need to load the triples from all three downloaded BF files into one graph?\n",
    "\n",
    "**RESOURCES**\n",
    "- rdflib > [Querying with SPARQL](https://rdflib.readthedocs.io/en/stable/intro_to_sparql.html#querying-with-sparql)\n",
    "- a HA! [Merging graphs](https://rdflib.readthedocs.io/en/stable/merging.html#merging-graphs)\n",
    "\n",
    "```\n",
    "from rdflib import Graph\n",
    "graph = Graph()\n",
    "graph.parse(input1)\n",
    "graph.parse(input2)\n",
    "```\n",
    "\n",
    "> graph now contains the merged graph of input1 and input2.\n",
    "\n",
    "*It's that easy!?*"
   ]
  },
  {
   "cell_type": "markdown",
   "id": "267731cc",
   "metadata": {},
   "source": [
    "### query version two"
   ]
  },
  {
   "cell_type": "code",
   "execution_count": 2,
   "id": "2dad935d",
   "metadata": {},
   "outputs": [],
   "source": [
    "from rdflib import Graph"
   ]
  },
  {
   "cell_type": "code",
   "execution_count": 3,
   "id": "491cc3bd",
   "metadata": {},
   "outputs": [
    {
     "data": {
      "text/plain": [
       "<Graph identifier=Ndb0686f2a4874568bdc3142430ca9184 (<class 'rdflib.graph.Graph'>)>"
      ]
     },
     "execution_count": 3,
     "metadata": {},
     "output_type": "execute_result"
    }
   ],
   "source": [
    "# create a combined graph\n",
    "cg = Graph()\n",
    "cg.parse(\"testdata/02138b5d-0a89-a6d8-1555-7f0731e6ea0c.rdf\", format=\"xml\")\n",
    "cg.parse(\"testdata/1102998.rdf\", format=\"xml\")\n",
    "cg.parse(\"testdata/1102998_Instance.rdf\", format=\"xml\")"
   ]
  },
  {
   "cell_type": "code",
   "execution_count": 5,
   "id": "7b25f5e2",
   "metadata": {},
   "outputs": [
    {
     "name": "stdout",
     "output_type": "stream",
     "text": [
      "(rdflib.term.Literal('111', datatype=rdflib.term.URIRef('http://www.w3.org/2001/XMLSchema#integer')),)\n",
      "(rdflib.term.Literal('20', datatype=rdflib.term.URIRef('http://www.w3.org/2001/XMLSchema#integer')),)\n",
      "(rdflib.term.Literal('22', datatype=rdflib.term.URIRef('http://www.w3.org/2001/XMLSchema#integer')),)\n"
     ]
    }
   ],
   "source": [
    "query = \"SELECT (COUNT(?property) AS ?statements) WHERE { <http://id.loc.gov/resources/hubs/02138b5d-0a89-a6d8-1555-7f0731e6ea0c> ?property ?value. }\"\n",
    "result = cg.query(query)\n",
    "for row in result:\n",
    "    print(row)\n",
    "query2 = \"SELECT (COUNT(?property2) AS ?statements2) WHERE { <http://id.loc.gov/resources/works/1102998> ?property2 ?value2. }\"\n",
    "result2 = cg.query(query2)\n",
    "for row in result2:\n",
    "    print(row)\n",
    "query3 = \"SELECT (COUNT(?property2) AS ?statements2) WHERE { <http://id.loc.gov/resources/instances/1102998> ?property2 ?value2. }\"\n",
    "result3 = cg.query(query3)\n",
    "for row in result3:\n",
    "    print(row)"
   ]
  },
  {
   "cell_type": "markdown",
   "id": "896ee7c8",
   "metadata": {},
   "source": [
    "#### 🔍 query version two - query one graph 3x instead of three graphs 1x/each\n",
    "**NOTE** that I got a different triple count for the `bf:Hub` (!?!)  \n",
    "Next to do is to improve my query syntax so that one query can retrieve the statements on the Hub, the Work and the Instance\n",
    "\n",
    "**QUESTIONS/RESOURCES/ETC.**\n",
    "- I *think* that JOIN is what I need?\n",
    "- How to check my SPARQL syntax before putting the query string in a var??\n",
    "- Attempting to get a query structure right in the Wikidata query service but [not having much luck so far...](https://w.wiki/57re)"
   ]
  },
  {
   "cell_type": "code",
   "execution_count": null,
   "id": "036cb219",
   "metadata": {},
   "outputs": [],
   "source": []
  }
 ],
 "metadata": {
  "kernelspec": {
   "display_name": "Python 3",
   "language": "python",
   "name": "python3"
  },
  "language_info": {
   "codemirror_mode": {
    "name": "ipython",
    "version": 3
   },
   "file_extension": ".py",
   "mimetype": "text/x-python",
   "name": "python",
   "nbconvert_exporter": "python",
   "pygments_lexer": "ipython3",
   "version": "3.8.8"
  }
 },
 "nbformat": 4,
 "nbformat_minor": 5
}
