{
 "cells": [
  {
   "cell_type": "markdown",
   "id": "75b4699c",
   "metadata": {},
   "source": [
    "# querying a local triples file using rdflib"
   ]
  },
  {
   "cell_type": "markdown",
   "id": "0ba83587",
   "metadata": {},
   "source": [
    "## first I need to install some libraries\n",
    "I believe that I could do this in the notebook itself; but I'll use the Anaconda Prompt.\n",
    "```\n",
    "(base) C:\\Users\\Benjamin>pip install rdflib\n",
    "Collecting rdflib\n",
    "  Downloading rdflib-6.1.1-py3-none-any.whl (482 kB)\n",
    "     |████████████████████████████████| 482 kB 3.3 MB/s\n",
    "Requirement already satisfied: pyparsing in c:\\programdata\\anaconda3\\lib\\site-packages (from rdflib) (3.0.4)\n",
    "Collecting isodate\n",
    "  Downloading isodate-0.6.1-py2.py3-none-any.whl (41 kB)\n",
    "     |████████████████████████████████| 41 kB ...\n",
    "Requirement already satisfied: setuptools in c:\\programdata\\anaconda3\\lib\\site-packages (from rdflib) (58.0.4)\n",
    "Requirement already satisfied: six in c:\\programdata\\anaconda3\\lib\\site-packages (from isodate->rdflib) (1.16.0)\n",
    "Installing collected packages: isodate, rdflib\n",
    "Successfully installed isodate-0.6.1 rdflib-6.1.1\n",
    "\n",
    "(base) C:\\Users\\Benjamin>pip install rdflib-jsonld\n",
    "Collecting rdflib-jsonld\n",
    "  Downloading rdflib_jsonld-0.6.2-py2.py3-none-any.whl (4.0 kB)\n",
    "Requirement already satisfied: rdflib>=5.0.0 in c:\\programdata\\anaconda3\\lib\\site-packages (from rdflib-jsonld) (6.1.1)\n",
    "Requirement already satisfied: isodate in c:\\programdata\\anaconda3\\lib\\site-packages (from rdflib>=5.0.0->rdflib-jsonld) (0.6.1)\n",
    "Requirement already satisfied: pyparsing in c:\\programdata\\anaconda3\\lib\\site-packages (from rdflib>=5.0.0->rdflib-jsonld) (3.0.4)\n",
    "Requirement already satisfied: setuptools in c:\\programdata\\anaconda3\\lib\\site-packages (from rdflib>=5.0.0->rdflib-jsonld) (58.0.4)\n",
    "Requirement already satisfied: six in c:\\programdata\\anaconda3\\lib\\site-packages (from isodate->rdflib>=5.0.0->rdflib-jsonld) (1.16.0)\n",
    "Installing collected packages: rdflib-jsonld\n",
    "Successfully installed rdflib-jsonld-0.6.2\n",
    "```"
   ]
  },
  {
   "cell_type": "markdown",
   "id": "061c37ed",
   "metadata": {},
   "source": [
    "## next I need to try and figure out what I'm doing\n",
    "\n",
    "- I'm looking at the [rdflib 6.1.1 documentation](https://rdflib.readthedocs.io/en/stable/index.html) > [Querying with SPARQL](https://rdflib.readthedocs.io/en/stable/intro_to_sparql.html)\n",
    "- Also, here's a SO post that looks my speed: [Is there a Hello World example for SPARQL with RDFLib?](https://stackoverflow.com/questions/16829351/is-there-a-hello-world-example-for-sparql-with-rdflib)"
   ]
  },
  {
   "cell_type": "markdown",
   "id": "c2161c40",
   "metadata": {},
   "source": [
    "## my use case\n",
    "Examine the kind and number of statements on:\n",
    "- the Bhagavad Gita written work (http://www.wikidata.org/entity/Q46802) and Annie Besant's English translation (http://www.wikidata.org/entity/Q63196925) in Wikidata\n",
    "    - I can use the [WD query service](https://query.wikidata.org/) for this\n",
    "- a [BF Hub/Work](https://id.loc.gov/resources/hubs/02138b5d-0a89-a6d8-1555-7f0731e6ea0c.html) (“Hub/Work”?), [BF Work](https://id.loc.gov/resources/works/1102998.html), and [BF Instance](https://id.loc.gov/resources/instances/1102998.html)\n",
    "    - I need a way to query these files\n",
    "    - No LOC endpoint\n",
    "    - I can easily download the files\n"
   ]
  }
 ],
 "metadata": {
  "kernelspec": {
   "display_name": "Python 3 (ipykernel)",
   "language": "python",
   "name": "python3"
  },
  "language_info": {
   "codemirror_mode": {
    "name": "ipython",
    "version": 3
   },
   "file_extension": ".py",
   "mimetype": "text/x-python",
   "name": "python",
   "nbconvert_exporter": "python",
   "pygments_lexer": "ipython3",
   "version": "3.9.7"
  }
 },
 "nbformat": 4,
 "nbformat_minor": 5
}
