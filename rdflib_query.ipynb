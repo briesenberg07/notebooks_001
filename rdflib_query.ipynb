{
 "cells": [
  {
   "cell_type": "markdown",
   "id": "75b4699c",
   "metadata": {},
   "source": [
    "# querying a local triples file using rdflib"
   ]
  },
  {
   "cell_type": "markdown",
   "id": "0ba83587",
   "metadata": {},
   "source": [
    "## first I need to install some libraries\n",
    "I believe that I could do this in the notebook itself; but I'll use the Anaconda Prompt.\n",
    "```\n",
    "(base) C:\\Users\\Benjamin>pip install rdflib\n",
    "Collecting rdflib\n",
    "  Downloading rdflib-6.1.1-py3-none-any.whl (482 kB)\n",
    "     |████████████████████████████████| 482 kB 3.3 MB/s\n",
    "Requirement already satisfied: pyparsing in c:\\programdata\\anaconda3\\lib\\site-packages (from rdflib) (3.0.4)\n",
    "Collecting isodate\n",
    "  Downloading isodate-0.6.1-py2.py3-none-any.whl (41 kB)\n",
    "     |████████████████████████████████| 41 kB ...\n",
    "Requirement already satisfied: setuptools in c:\\programdata\\anaconda3\\lib\\site-packages (from rdflib) (58.0.4)\n",
    "Requirement already satisfied: six in c:\\programdata\\anaconda3\\lib\\site-packages (from isodate->rdflib) (1.16.0)\n",
    "Installing collected packages: isodate, rdflib\n",
    "Successfully installed isodate-0.6.1 rdflib-6.1.1\n",
    "\n",
    "(base) C:\\Users\\Benjamin>pip install rdflib-jsonld\n",
    "Collecting rdflib-jsonld\n",
    "  Downloading rdflib_jsonld-0.6.2-py2.py3-none-any.whl (4.0 kB)\n",
    "Requirement already satisfied: rdflib>=5.0.0 in c:\\programdata\\anaconda3\\lib\\site-packages (from rdflib-jsonld) (6.1.1)\n",
    "Requirement already satisfied: isodate in c:\\programdata\\anaconda3\\lib\\site-packages (from rdflib>=5.0.0->rdflib-jsonld) (0.6.1)\n",
    "Requirement already satisfied: pyparsing in c:\\programdata\\anaconda3\\lib\\site-packages (from rdflib>=5.0.0->rdflib-jsonld) (3.0.4)\n",
    "Requirement already satisfied: setuptools in c:\\programdata\\anaconda3\\lib\\site-packages (from rdflib>=5.0.0->rdflib-jsonld) (58.0.4)\n",
    "Requirement already satisfied: six in c:\\programdata\\anaconda3\\lib\\site-packages (from isodate->rdflib>=5.0.0->rdflib-jsonld) (1.16.0)\n",
    "Installing collected packages: rdflib-jsonld\n",
    "Successfully installed rdflib-jsonld-0.6.2\n",
    "```"
   ]
  },
  {
   "cell_type": "markdown",
   "id": "061c37ed",
   "metadata": {},
   "source": [
    "## next I need to try and figure out what I'm doing\n",
    "\n",
    "- I'm looking at the [rdflib 6.1.1 documentation](https://rdflib.readthedocs.io/en/stable/index.html) > [Querying with SPARQL](https://rdflib.readthedocs.io/en/stable/intro_to_sparql.html)\n",
    "- Also, here's a SO post that looks my speed: [Is there a Hello World example for SPARQL with RDFLib?](https://stackoverflow.com/questions/16829351/is-there-a-hello-world-example-for-sparql-with-rdflib)"
   ]
  },
  {
   "cell_type": "markdown",
   "id": "c2161c40",
   "metadata": {},
   "source": [
    "## my use case\n",
    "Examine the kind and number of statements on:\n",
    "- the Bhagavad Gita written work (http://www.wikidata.org/entity/Q46802) and Annie Besant's English translation (http://www.wikidata.org/entity/Q63196925) in Wikidata\n",
    "    - I can use the [WD query service](https://query.wikidata.org/) for this\n",
    "- a [BF Hub/Work](https://id.loc.gov/resources/hubs/02138b5d-0a89-a6d8-1555-7f0731e6ea0c.html) (“Hub/Work”?), [BF Work](https://id.loc.gov/resources/works/1102998.html), and [BF Instance](https://id.loc.gov/resources/instances/1102998.html)\n",
    "    - I need a way to query these files\n",
    "    - No LOC endpoint\n",
    "    - I can easily download the files\n"
   ]
  },
  {
   "cell_type": "code",
   "execution_count": 2,
   "id": "0fba825c",
   "metadata": {},
   "outputs": [],
   "source": [
    "import rdflib"
   ]
  },
  {
   "cell_type": "code",
   "execution_count": 5,
   "id": "d8f9b9a9",
   "metadata": {},
   "outputs": [
    {
     "name": "stdout",
     "output_type": "stream",
     "text": [
      "(rdflib.term.Literal('109', datatype=rdflib.term.URIRef('http://www.w3.org/2001/XMLSchema#integer')),)\n"
     ]
    }
   ],
   "source": [
    "g = rdflib.Graph()\n",
    "g.parse(\"testdata/02138b5d-0a89-a6d8-1555-7f0731e6ea0c.rdf\", format=\"xml\")\n",
    "query = \"SELECT (COUNT(?property) AS ?statements) WHERE { <http://id.loc.gov/resources/hubs/02138b5d-0a89-a6d8-1555-7f0731e6ea0c> ?property ?value. }\"\n",
    "result = g.query(query)\n",
    "for row in result:\n",
    "    print(row)"
   ]
  },
  {
   "cell_type": "code",
   "execution_count": 4,
   "id": "01a9e89a",
   "metadata": {},
   "outputs": [
    {
     "name": "stdout",
     "output_type": "stream",
     "text": [
      "(rdflib.term.Literal('20', datatype=rdflib.term.URIRef('http://www.w3.org/2001/XMLSchema#integer')),)\n"
     ]
    }
   ],
   "source": [
    "g2 = rdflib.Graph()\n",
    "g2.parse(\"testdata/1102998.rdf\", format=\"xml\")\n",
    "query2 = \"SELECT (COUNT(?property2) AS ?statements2) WHERE { <http://id.loc.gov/resources/works/1102998> ?property2 ?value2. }\"\n",
    "result2 = g2.query(query2)\n",
    "for row in result2:\n",
    "    print(row)"
   ]
  },
  {
   "cell_type": "code",
   "execution_count": 7,
   "id": "64117595",
   "metadata": {},
   "outputs": [
    {
     "name": "stdout",
     "output_type": "stream",
     "text": [
      "(rdflib.term.Literal('21', datatype=rdflib.term.URIRef('http://www.w3.org/2001/XMLSchema#integer')),)\n"
     ]
    }
   ],
   "source": [
    "g3 = rdflib.Graph()\n",
    "g3.parse(\"testdata/1102998_Instance.rdf\", format=\"xml\")\n",
    "query3 = \"SELECT (COUNT(?property2) AS ?statements2) WHERE { <http://id.loc.gov/resources/instances/1102998> ?property2 ?value2. }\"\n",
    "result3 = g3.query(query3)\n",
    "for row in result3:\n",
    "    print(row)"
   ]
  },
  {
   "cell_type": "markdown",
   "id": "067c0857",
   "metadata": {},
   "source": [
    "### success with very basic queries above\n",
    "But would like to simply use one query on three resources and add all triples together, or similar, rather than repeat the query for each resource/file..."
   ]
  }
 ],
 "metadata": {
  "kernelspec": {
   "display_name": "Python 3",
   "language": "python",
   "name": "python3"
  },
  "language_info": {
   "codemirror_mode": {
    "name": "ipython",
    "version": 3
   },
   "file_extension": ".py",
   "mimetype": "text/x-python",
   "name": "python",
   "nbconvert_exporter": "python",
   "pygments_lexer": "ipython3",
   "version": "3.8.8"
  }
 },
 "nbformat": 4,
 "nbformat_minor": 5
}
