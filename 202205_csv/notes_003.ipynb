{
 "cells": [
  {
   "cell_type": "markdown",
   "metadata": {},
   "source": [
    "# getting started working with csv data in Python, 003\n",
    "Continuing from [csv_reformat_notes_002](csv_reformat_notes_002.ipynb)"
   ]
  },
  {
   "cell_type": "code",
   "execution_count": 10,
   "metadata": {},
   "outputs": [
    {
     "name": "stdout",
     "output_type": "stream",
     "text": [
      "Here are the headers, separated by slashes:\n",
      "﻿cdmnumber / containerco_cdmnumber / cdmfilename / containerco_cdmfilename / Title / Title (Translated) / Title (Non-Latin Script) / Title (ALA-LC Romanization) / Title (Harvard Romanization) / Interviewee / Interviewee Birthplace / Primary Performer / Performer / Performer Birthplace / Interviewer / Videographer / Author / Editor / Publisher / Publisher Location / Printer / Printer Location / Translator / Donor / Lender / Former Owner / Date (EDTF) / Date / Dates / Interviewee Biography / Notes / Subjects (LCSH) / Genre/Form (LCGFT) / Related OCLC Record / Object Type / Cross Reference / Romancero Theme / Cross Reference / Individuals Discussed / Organizations Discussed / Geographic Coverage / Time Period Discussed / Index / Recording Location / Language / Digital Collection / Sephardic Studies Accession Number (SSAN) / Restrictions / Rights URI / Ordering Information / Repository / Repository Collection / Repository Collection Guide / Type / Extent / Original Format / Physical Description / Timecode Start / Digital Reproduction Information / Digital Format / Cataloging / digitalFileName / Staff Notes / record - ItemURL\n"
     ]
    }
   ],
   "source": [
    "# use .csv, not .xlsx\n",
    "import csv\n",
    "with open('testdata/ssdc_test_002.csv', encoding='utf8') as file: #encoding arg is *important*\n",
    "    reader = csv.reader(file, delimiter=\",\")\n",
    "    line_count = 0\n",
    "    for row in reader:\n",
    "        if line_count == 0:\n",
    "            print(f\"Here are the headers, separated by slashes:\\n{' / '.join(row)}\")\n",
    "            line_count +=1\n",
    "        else:\n",
    "            pass"
   ]
  },
  {
   "cell_type": "markdown",
   "metadata": {},
   "source": [
    "## NOTE 001\n",
    "### File for processing: \n",
    "Excel > File > Save As > CSV UTF-8 (Comma delimited)(\\*.csv)\n",
    "\n",
    "![Excel user interface showing file format options](images/excel_save_as_001.png)\n",
    "\n",
    "### **Python (3.8) [built-in functions](https://docs.python.org/3.8/library/functions.html#built-in-functions) > [open()](https://docs.python.org/3.8/library/functions.html#open)**\n",
    "\n",
    "Without `encoding='utf8'` arg in `open()` above, error is raised:\n",
    "\n",
    "> UnicodeDecodeError: 'charmap' codec can't decode byte 0x90 in position 1182: character maps to <undefined>\n"
   ]
  },
  {
   "cell_type": "code",
   "execution_count": 16,
   "metadata": {},
   "outputs": [
    {
     "name": "stdout",
     "output_type": "stream",
     "text": [
      "this is the header row\n"
     ]
    },
    {
     "ename": "KeyError",
     "evalue": "'cdmnumber'",
     "output_type": "error",
     "traceback": [
      "\u001b[1;31m---------------------------------------------------------------------------\u001b[0m",
      "\u001b[1;31mKeyError\u001b[0m                                  Traceback (most recent call last)",
      "\u001b[1;32m~\\AppData\\Local\\Temp/ipykernel_1548/3165140833.py\u001b[0m in \u001b[0;36m<module>\u001b[1;34m\u001b[0m\n\u001b[0;32m      8\u001b[0m             \u001b[0mrowcount\u001b[0m \u001b[1;33m+=\u001b[0m \u001b[1;36m1\u001b[0m\u001b[1;33m\u001b[0m\u001b[1;33m\u001b[0m\u001b[0m\n\u001b[0;32m      9\u001b[0m         \u001b[1;32melif\u001b[0m \u001b[0mrowcount\u001b[0m \u001b[1;33m>\u001b[0m \u001b[1;36m0\u001b[0m \u001b[1;32mand\u001b[0m \u001b[0mrowcount\u001b[0m \u001b[1;33m<\u001b[0m \u001b[1;36m10\u001b[0m\u001b[1;33m:\u001b[0m\u001b[1;33m\u001b[0m\u001b[1;33m\u001b[0m\u001b[0m\n\u001b[1;32m---> 10\u001b[1;33m             \u001b[0mprint\u001b[0m\u001b[1;33m(\u001b[0m\u001b[1;34mf\"cdmnumber: {row['cdmnumber']} / title: {row['Title']}\"\u001b[0m\u001b[1;33m)\u001b[0m\u001b[1;33m\u001b[0m\u001b[1;33m\u001b[0m\u001b[0m\n\u001b[0m\u001b[0;32m     11\u001b[0m             \u001b[0mrowcount\u001b[0m \u001b[1;33m+=\u001b[0m \u001b[1;36m1\u001b[0m\u001b[1;33m\u001b[0m\u001b[1;33m\u001b[0m\u001b[0m\n\u001b[0;32m     12\u001b[0m         \u001b[1;32melse\u001b[0m\u001b[1;33m:\u001b[0m\u001b[1;33m\u001b[0m\u001b[1;33m\u001b[0m\u001b[0m\n",
      "\u001b[1;31mKeyError\u001b[0m: 'cdmnumber'"
     ]
    }
   ],
   "source": [
    "# csv.DictReader\n",
    "with open('testdata/ssdc_test_002.csv', encoding = 'utf8') as file:\n",
    "    reader = csv.DictReader(file)\n",
    "    rowcount = 0\n",
    "    for row in reader:\n",
    "        if rowcount == 0:\n",
    "            print(\"this is the header row\")\n",
    "            rowcount += 1\n",
    "        elif rowcount > 0 and rowcount < 10:\n",
    "            print(f\"cdmnumber: {row['cdmnumber']} / title: {row['Title']}\")\n",
    "            rowcount += 1\n",
    "        else:\n",
    "            pass\n",
    "    \n",
    "        "
   ]
  },
  {
   "cell_type": "markdown",
   "metadata": {},
   "source": [
    "## NOTE 002\n",
    "### **[CSV module](https://docs.python.org/3.8/library/csv.html?highlight=csv%20module#module-csv) > class [csv.DictReader](https://docs.python.org/3.8/library/csv.html?highlight=csv%20module#csv.DictReader)\n",
    "\n",
    "\n"
   ]
  },
  {
   "cell_type": "code",
   "execution_count": 1,
   "metadata": {},
   "outputs": [
    {
     "ename": "FileNotFoundError",
     "evalue": "[Errno 2] No such file or directory: 'data_in_02.csv'",
     "output_type": "error",
     "traceback": [
      "\u001b[1;31m---------------------------------------------------------------------------\u001b[0m",
      "\u001b[1;31mFileNotFoundError\u001b[0m                         Traceback (most recent call last)",
      "\u001b[1;32m<ipython-input-1-df2f3f911b15>\u001b[0m in \u001b[0;36m<module>\u001b[1;34m\u001b[0m\n\u001b[0;32m      7\u001b[0m \u001b[1;33m\u001b[0m\u001b[0m\n\u001b[0;32m      8\u001b[0m \u001b[1;32mimport\u001b[0m \u001b[0mcsv\u001b[0m\u001b[1;33m\u001b[0m\u001b[1;33m\u001b[0m\u001b[0m\n\u001b[1;32m----> 9\u001b[1;33m \u001b[1;32mwith\u001b[0m \u001b[0mopen\u001b[0m\u001b[1;33m(\u001b[0m\u001b[1;34m'data_in_02.csv'\u001b[0m\u001b[1;33m,\u001b[0m \u001b[0mnewline\u001b[0m \u001b[1;33m=\u001b[0m \u001b[1;34m''\u001b[0m\u001b[1;33m)\u001b[0m \u001b[1;32mas\u001b[0m \u001b[0mfile_in\u001b[0m\u001b[1;33m:\u001b[0m\u001b[1;33m\u001b[0m\u001b[1;33m\u001b[0m\u001b[0m\n\u001b[0m\u001b[0;32m     10\u001b[0m     \u001b[0mreader\u001b[0m \u001b[1;33m=\u001b[0m \u001b[0mcsv\u001b[0m\u001b[1;33m.\u001b[0m\u001b[0mDictReader\u001b[0m\u001b[1;33m(\u001b[0m\u001b[0mfile_in\u001b[0m\u001b[1;33m)\u001b[0m\u001b[1;33m\u001b[0m\u001b[1;33m\u001b[0m\u001b[0m\n\u001b[0;32m     11\u001b[0m     \u001b[1;32mfor\u001b[0m \u001b[0mrow\u001b[0m \u001b[1;32min\u001b[0m \u001b[0mreader\u001b[0m\u001b[1;33m:\u001b[0m\u001b[1;33m\u001b[0m\u001b[1;33m\u001b[0m\u001b[0m\n",
      "\u001b[1;31mFileNotFoundError\u001b[0m: [Errno 2] No such file or directory: 'data_in_02.csv'"
     ]
    }
   ],
   "source": [
    "# Okay I think I'm going to need to access values by header, so I'll need\n",
    "    # class csv.DictReader\n",
    "\n",
    "# use the example from:\n",
    "# https://docs.python.org/3.8/library/csv.html?highlight=csv#csv.DictReader\n",
    "# with my input file data_in_02.csv\n",
    "\n",
    "import csv\n",
    "with open('data_in_02.csv', newline = '') as file_in:\n",
    "    reader = csv.DictReader(file_in)\n",
    "    for row in reader:\n",
    "        print(row['id'], row['name'])\n",
    "\n",
    "# okay, this is great, this is progress\n",
    "# I'll need to go from this (providing headers to print or do something with) to\n",
    "    # iterating over a list of headers and writing when the cell has a value"
   ]
  },
  {
   "cell_type": "code",
   "execution_count": 2,
   "metadata": {},
   "outputs": [
    {
     "ename": "FileNotFoundError",
     "evalue": "[Errno 2] No such file or directory: 'data_in_02.csv'",
     "output_type": "error",
     "traceback": [
      "\u001b[1;31m---------------------------------------------------------------------------\u001b[0m",
      "\u001b[1;31mFileNotFoundError\u001b[0m                         Traceback (most recent call last)",
      "\u001b[1;32m<ipython-input-2-fefae8c9a1bd>\u001b[0m in \u001b[0;36m<module>\u001b[1;34m\u001b[0m\n\u001b[0;32m     11\u001b[0m ]\n\u001b[0;32m     12\u001b[0m \u001b[1;33m\u001b[0m\u001b[0m\n\u001b[1;32m---> 13\u001b[1;33m \u001b[1;32mwith\u001b[0m \u001b[0mopen\u001b[0m\u001b[1;33m(\u001b[0m\u001b[1;34m'data_in_02.csv'\u001b[0m\u001b[1;33m,\u001b[0m \u001b[0mnewline\u001b[0m \u001b[1;33m=\u001b[0m \u001b[1;34m''\u001b[0m\u001b[1;33m)\u001b[0m \u001b[1;32mas\u001b[0m \u001b[0mfile_in\u001b[0m\u001b[1;33m:\u001b[0m\u001b[1;33m\u001b[0m\u001b[1;33m\u001b[0m\u001b[0m\n\u001b[0m\u001b[0;32m     14\u001b[0m     \u001b[0mreader\u001b[0m \u001b[1;33m=\u001b[0m \u001b[0mcsv\u001b[0m\u001b[1;33m.\u001b[0m\u001b[0mDictReader\u001b[0m\u001b[1;33m(\u001b[0m\u001b[0mfile_in\u001b[0m\u001b[1;33m)\u001b[0m\u001b[1;33m\u001b[0m\u001b[1;33m\u001b[0m\u001b[0m\n\u001b[0;32m     15\u001b[0m \u001b[1;33m\u001b[0m\u001b[0m\n",
      "\u001b[1;31mFileNotFoundError\u001b[0m: [Errno 2] No such file or directory: 'data_in_02.csv'"
     ]
    }
   ],
   "source": [
    "# getting a bit closer to what I need to do here...\n",
    "\n",
    "import csv\n",
    "\n",
    "headers = [\n",
    "    'id',\n",
    "    'name',\n",
    "    'size',\n",
    "    'date',\n",
    "    'rating'\n",
    "]\n",
    "\n",
    "with open('data_in_02.csv', newline = '') as file_in:\n",
    "    reader = csv.DictReader(file_in)\n",
    "    \n",
    "    for row in reader:\n",
    "        for header in headers:\n",
    "            if row[header] == '':\n",
    "                pass\n",
    "            else:\n",
    "                print(f\"{header}: {row[header]}\")\n",
    "        \n",
    "# so probably next will want to look at class csv.DictWriter?\n",
    "# https://docs.python.org/3.8/library/csv.html?highlight=csv#csv.DictWriter    "
   ]
  }
 ],
 "metadata": {
  "kernelspec": {
   "display_name": "Python 3",
   "language": "python",
   "name": "python3"
  },
  "language_info": {
   "codemirror_mode": {
    "name": "ipython",
    "version": 3
   },
   "file_extension": ".py",
   "mimetype": "text/x-python",
   "name": "python",
   "nbconvert_exporter": "python",
   "pygments_lexer": "ipython3",
   "version": "3.8.5"
  }
 },
 "nbformat": 4,
 "nbformat_minor": 5
}
