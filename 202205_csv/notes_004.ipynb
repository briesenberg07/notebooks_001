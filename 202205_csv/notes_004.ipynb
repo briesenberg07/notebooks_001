{
 "cells": [
  {
   "cell_type": "markdown",
   "metadata": {},
   "source": [
    "# getting started working with csv data in Python, 001\n",
    "...continuted, after some time\n",
    "## resources\n",
    "- [csv - CSV File Reading and Writing](https://docs.python.org/3.8/library/csv.html?highlight=csv#module-csv)"
   ]
  },
  {
   "cell_type": "code",
   "execution_count": 1,
   "metadata": {},
   "outputs": [],
   "source": [
    "import csv"
   ]
  },
  {
   "cell_type": "code",
   "execution_count": null,
   "metadata": {},
   "outputs": [],
   "source": [
    "# just basic csv.reader stuff \n",
    "# some of these args could be dispensed with?\n",
    "with open('testdata/csv_test_001.csv', encoding = 'utf8', errors = 'ignore', newline = '') as file_in:\n",
    "    reader = csv.reader(file_in)\n",
    "    for row in reader:\n",
    "        print(row)"
   ]
  },
  {
   "cell_type": "markdown",
   "metadata": {},
   "source": [
    "## note\n",
    "- `\\ufeff`: See [u'\\ufeff' in Python string](https://stackoverflow.com/questions/17912307/u-ufeff-in-python-string)"
   ]
  },
  {
   "cell_type": "code",
   "execution_count": null,
   "metadata": {},
   "outputs": [],
   "source": [
    "# I shall try it a different way\n",
    "with open('testdata/csv_test_001.csv', encoding = 'utf8', errors = 'ignore', newline = '') as file_in:\n",
    "    reader = csv.reader(file_in)\n",
    "    for row in reader:\n",
    "        for value in row:\n",
    "            if value == '':\n",
    "                pass\n",
    "            else:\n",
    "                print(value)\n",
    "# I *can* access a value within a row!"
   ]
  },
  {
   "cell_type": "code",
   "execution_count": 10,
   "metadata": {},
   "outputs": [
    {
     "name": "stdout",
     "output_type": "stream",
     "text": [
      "first row / HEADERS: ﻿id / string / attribute / value / comment\n",
      "row number 2\n",
      "column 1 / value = 1\n",
      "column 2 / value = יל בוקייטו די רומאנסאס : קאנטיקאס ריקוז''יד'אס, פארה נוב'יאס אי פאריד\n",
      "column 3 / value = color\n",
      "column 4 / value = red\n",
      "column 5 / value = full row\n",
      "row number 3\n",
      "column 1 / value = 2\n",
      "column 2 / value = ピザ\n",
      "column 3 / value = cost\n",
      "column 4 / value = cheap\n",
      "column 5 / value = full row\n",
      "row number 4\n",
      "column 1 / value = \n",
      "column 1 / value = \n",
      "column 1 / value = \n",
      "column 1 / value = \n",
      "column 1 / value = \n",
      "row number 5\n",
      "column 1 / value = 3\n",
      "column 2 / value = hello\n",
      "column 3 / value = \n",
      "column 3 / value = \n",
      "column 5 / value = blank cells\n",
      "row number 6\n",
      "column 1 / value = 4\n",
      "column 2 / value = bateau à voile\n",
      "column 3 / value = English\n",
      "column 4 / value = sailboat\n",
      "column 5 / value = full row\n"
     ]
    }
   ],
   "source": [
    "with open('testdata/csv_test_001.csv', encoding = 'utf8', errors = 'ignore', newline = '') as file_in:\n",
    "    reader = csv.reader(file_in)\n",
    "    rowcount = 0\n",
    "    for row in reader:\n",
    "        if rowcount == 0:\n",
    "            print(f\"first row / HEADERS: {' / '.join(row)}\")\n",
    "            rowcount += 1\n",
    "        elif rowcount > 0:\n",
    "            # (see aside [1]\n",
    "            print(f\"row number {rowcount + 1}\")\n",
    "            for value in row:\n",
    "                  print(f\"column {row.index(value) + 1} / value = {value}\")\n",
    "            rowcount += 1\n",
    "        else:\n",
    "            print(\"ERROR ERROR ERROR...\")\n",
    "# aside [1]: \n",
    "    # it seems that the reader object should be iterable, and I should be able to get a row number from\n",
    "    # an index or something other than my rowcount)"
   ]
  },
  {
   "cell_type": "markdown",
   "metadata": {},
   "source": [
    "## notes\n",
    "- Accessing the index of each cell in a row is good, it's very important, I believe that I'll need this to retrieve the matching header for each cell value\n",
    "- Next I believe that I'll create a dictionary containing the headers and match cell values to headers"
   ]
  },
  {
   "cell_type": "code",
   "execution_count": 3,
   "metadata": {},
   "outputs": [
    {
     "name": "stdout",
     "output_type": "stream",
     "text": [
      "updated headers dict\n",
      "{0: 'id', 1: 'string', 2: 'attribute', 3: 'value', 4: 'comment'}\n"
     ]
    }
   ],
   "source": [
    "with open('testdata/csv_test_001.csv', encoding = 'utf-8-sig', errors = 'ignore', newline = '') as file_in:\n",
    "    reader = csv.reader(file_in)\n",
    "    rowcount = 0\n",
    "    headers = {}\n",
    "    for row in reader:\n",
    "        if rowcount == 0:\n",
    "            for cell in row:\n",
    "                header = {row.index(cell): cell}\n",
    "                headers.update(header)\n",
    "            print(\"updated headers dict\")\n",
    "            rowcount += 1\n",
    "        else:\n",
    "            pass\n",
    "    print(headers)\n",
    "    "
   ]
  },
  {
   "cell_type": "markdown",
   "metadata": {},
   "source": [
    "## notes\n",
    "- Okay the `/ufeff` is causing problems here, I will have to deal with it\n",
    "- 🎉 super-very-easy solution > use arg `encoding = 'utf-8-sig'` in the `open()` function (see [open() (for Python 3.8)](https://docs.python.org/3.8/library/functions.html#open))\n",
    "- Note that [the StackOverflow post](https://stackoverflow.com/questions/17912307/u-ufeff-in-python-string) also includes some more in-depth information beyond the \"easy solution\""
   ]
  },
  {
   "cell_type": "markdown",
   "metadata": {},
   "source": [
    "## 💥here's where it breaks down💥"
   ]
  },
  {
   "cell_type": "code",
   "execution_count": 18,
   "metadata": {},
   "outputs": [
    {
     "ename": "ValueError",
     "evalue": "0 is not in list",
     "output_type": "error",
     "traceback": [
      "\u001b[1;31m---------------------------------------------------------------------------\u001b[0m",
      "\u001b[1;31mValueError\u001b[0m                                Traceback (most recent call last)",
      "\u001b[1;32m<ipython-input-18-9208bce7fd84>\u001b[0m in \u001b[0;36m<module>\u001b[1;34m\u001b[0m\n\u001b[0;32m     17\u001b[0m                         \u001b[1;32mpass\u001b[0m\u001b[1;33m\u001b[0m\u001b[1;33m\u001b[0m\u001b[0m\n\u001b[0;32m     18\u001b[0m                     \u001b[1;32melse\u001b[0m\u001b[1;33m:\u001b[0m\u001b[1;33m\u001b[0m\u001b[1;33m\u001b[0m\u001b[0m\n\u001b[1;32m---> 19\u001b[1;33m                         \u001b[0mrowvalues\u001b[0m\u001b[1;33m.\u001b[0m\u001b[0mappend\u001b[0m\u001b[1;33m(\u001b[0m\u001b[1;34mf\"{row.index(0)}\"\u001b[0m\u001b[1;33m)\u001b[0m\u001b[1;33m\u001b[0m\u001b[1;33m\u001b[0m\u001b[0m\n\u001b[0m\u001b[0;32m     20\u001b[0m                         \u001b[0mrowvalues\u001b[0m\u001b[1;33m.\u001b[0m\u001b[0mappend\u001b[0m\u001b[1;33m(\u001b[0m\u001b[0mcell\u001b[0m\u001b[1;33m)\u001b[0m\u001b[1;33m\u001b[0m\u001b[1;33m\u001b[0m\u001b[0m\n\u001b[0;32m     21\u001b[0m                         \u001b[0mrowvalues\u001b[0m\u001b[1;33m.\u001b[0m\u001b[0mappend\u001b[0m\u001b[1;33m(\u001b[0m\u001b[1;34mf\"{headers[cell]}\"\u001b[0m\u001b[1;33m)\u001b[0m\u001b[1;33m\u001b[0m\u001b[1;33m\u001b[0m\u001b[0m\n",
      "\u001b[1;31mValueError\u001b[0m: 0 is not in list"
     ]
    }
   ],
   "source": [
    "with open('testdata/csv_test_001.csv', encoding = 'utf-8-sig', errors = 'ignore', newline = '') as file_in:\n",
    "    reader = csv.reader(file_in)\n",
    "    rowcount = 0\n",
    "    headers = {}\n",
    "    for row in reader:\n",
    "        with open('testdata/csv_test_001_out.csv', mode = 'w') as file_out:\n",
    "            writer = csv.writer(file_out, delimiter = ',', quotechar = '\"', quoting = csv.QUOTE_MINIMAL)\n",
    "            if rowcount == 0:\n",
    "                for cell in row:\n",
    "                    header = {row.index(cell): cell}\n",
    "                    headers.update(header)\n",
    "            rowcount += 1\n",
    "            if rowcount > 0:\n",
    "                rowvalues = []\n",
    "                for cell in row:\n",
    "                    if row.index(cell) == 0:\n",
    "                        pass\n",
    "                    else:\n",
    "                        rowvalues.append(f\"{row.index(0)}\")\n",
    "                        rowvalues.append(cell)\n",
    "                        rowvalues.append(f\"{headers[cell]}\")\n",
    "                        writer.writerow(rowvalues)\n",
    "print(headers)            "
   ]
  }
 ],
 "metadata": {
  "kernelspec": {
   "display_name": "Python 3",
   "language": "python",
   "name": "python3"
  },
  "language_info": {
   "codemirror_mode": {
    "name": "ipython",
    "version": 3
   },
   "file_extension": ".py",
   "mimetype": "text/x-python",
   "name": "python",
   "nbconvert_exporter": "python",
   "pygments_lexer": "ipython3",
   "version": "3.8.5"
  }
 },
 "nbformat": 4,
 "nbformat_minor": 5
}
