{
 "cells": [
  {
   "cell_type": "code",
   "execution_count": 10,
   "metadata": {},
   "outputs": [
    {
     "name": "stdout",
     "output_type": "stream",
     "text": [
      "NOTSET\n",
      "<class 'str'>\n",
      "{0: 'cdmnumber', 1: 'string', 2: 'attribute', 3: 'value', 4: 'comment'}\n",
      "58\n",
      "<class 'int'>\n",
      "{0: 'cdmnumber', 1: 'Title', 2: 'Title (Translated)', 3: 'Title (Non-Latin Script)', 4: 'Title (ALA-LC Romanization)', 5: 'Title (Harvard Romanization)', 6: 'Interviewee', 7: 'Interviewee Birthplace', 8: 'Primary Performer', 9: 'Performer', 10: 'Performer Birthplace', 11: 'Interviewer', 12: 'Videographer', 13: 'Author', 14: 'Editor', 15: 'Publisher', 16: 'Publisher Location', 17: 'Printer', 18: 'Printer Location', 19: 'Translator', 20: 'Donor', 21: 'Lender', 22: 'Former Owner', 23: 'Date (EDTF)', 24: 'Date', 25: 'Dates', 26: 'Interviewee Biography', 27: 'Notes', 28: 'Subjects (LCSH)', 29: 'Genre/Form (LCGFT)', 30: 'Related OCLC Record', 31: 'Object Type', 32: 'Cross Reference', 33: 'Romancero Theme', 34: 'Individuals Discussed', 35: 'Organizations Discussed', 36: 'Geographic Coverage', 37: 'Time Period Discussed', 38: 'Index', 39: 'Recording Location', 40: 'Language', 41: 'Digital Collection', 42: 'Sephardic Studies Accession Number (SSAN)', 43: 'Restrictions', 44: 'Rights URI', 45: 'Ordering Information', 46: 'Repository', 47: 'Repository Collection', 48: 'Repository Collection Guide', 49: 'Type', 50: 'Extent', 51: 'Original Format', 52: 'Physical Description', 53: 'Timecode Start', 54: 'Digital Reproduction Information', 55: 'Digital Format', 56: 'Cataloging', 57: 'digitalFileName'}\n"
     ]
    }
   ],
   "source": [
    "# check headers\n",
    "import csv\n",
    "\n",
    "def get_headers(in_file):\n",
    "    with open(in_file, encoding = 'utf-8-sig', errors = 'ignore', newline = '') as file_in:\n",
    "        reader = csv.reader(file_in)\n",
    "        rowcount = 0\n",
    "        endrow = 'NOTSET'\n",
    "        headers = {}\n",
    "        for row in reader:\n",
    "            if rowcount == 0:\n",
    "                for cell in row:\n",
    "                    if cell != '':\n",
    "                        header = {row.index(cell): cell}\n",
    "                        headers.update(header)\n",
    "                    elif cell == '':\n",
    "                        endrow = row.index(cell)\n",
    "                        pass\n",
    "                    else:\n",
    "                        pass\n",
    "                rowcount += 1\n",
    "            else:\n",
    "                pass\n",
    "    print(endrow)\n",
    "    print(type(endrow))\n",
    "    print(headers)\n",
    "\n",
    "get_headers('testdata/csv_test_in_001.csv')\n",
    "get_headers('testdata/csv_test_in_002.csv')\n"
   ]
  },
  {
   "cell_type": "markdown",
   "metadata": {},
   "source": [
    "# This (^^^) is interesting\n",
    "behavior is different for fewer columns vs. less"
   ]
  },
  {
   "cell_type": "markdown",
   "metadata": {},
   "source": [
    "# the current draft, the current problem...\n",
    "...getting a KeyError with [this version](https://gist.github.com/briesenberg07/1d3bdc9d079a8581768088dea1111f6b/4ff203a01d6b520bc5c444b00430ef80688825aa#file-_reformat_csv_001-py)..."
   ]
  },
  {
   "cell_type": "code",
   "execution_count": 9,
   "metadata": {},
   "outputs": [
    {
     "name": "stdout",
     "output_type": "stream",
     "text": [
      "Enter filepath for the input CSV file: testdata/csv_test_in_002.csv\n",
      "Enter filepath for an output CSV file to write: testdata/csv_test_out_002.csv\n"
     ]
    },
    {
     "ename": "KeyError",
     "evalue": "58",
     "output_type": "error",
     "traceback": [
      "\u001b[1;31m---------------------------------------------------------------------------\u001b[0m",
      "\u001b[1;31mKeyError\u001b[0m                                  Traceback (most recent call last)",
      "\u001b[1;32m<ipython-input-9-6e1e6a594012>\u001b[0m in \u001b[0;36m<module>\u001b[1;34m\u001b[0m\n\u001b[0;32m     50\u001b[0m \u001b[0mfile_in\u001b[0m \u001b[1;33m=\u001b[0m \u001b[0minput\u001b[0m\u001b[1;33m(\u001b[0m\u001b[1;34m\"Enter filepath for the input CSV file: \"\u001b[0m\u001b[1;33m)\u001b[0m\u001b[1;33m\u001b[0m\u001b[1;33m\u001b[0m\u001b[0m\n\u001b[0;32m     51\u001b[0m \u001b[0mfile_out\u001b[0m \u001b[1;33m=\u001b[0m \u001b[0minput\u001b[0m\u001b[1;33m(\u001b[0m\u001b[1;34m\"Enter filepath for an output CSV file to write: \"\u001b[0m\u001b[1;33m)\u001b[0m\u001b[1;33m\u001b[0m\u001b[1;33m\u001b[0m\u001b[0m\n\u001b[1;32m---> 52\u001b[1;33m \u001b[0mconvert\u001b[0m\u001b[1;33m(\u001b[0m\u001b[0mfile_in\u001b[0m\u001b[1;33m,\u001b[0m \u001b[0mfile_out\u001b[0m\u001b[1;33m)\u001b[0m\u001b[1;33m\u001b[0m\u001b[1;33m\u001b[0m\u001b[0m\n\u001b[0m",
      "\u001b[1;32m<ipython-input-9-6e1e6a594012>\u001b[0m in \u001b[0;36mconvert\u001b[1;34m(file_in, file_out)\u001b[0m\n\u001b[0;32m     30\u001b[0m                             \u001b[0mnewrow\u001b[0m\u001b[1;33m.\u001b[0m\u001b[0mappend\u001b[0m\u001b[1;33m(\u001b[0m\u001b[0mrow\u001b[0m\u001b[1;33m[\u001b[0m\u001b[1;36m0\u001b[0m\u001b[1;33m]\u001b[0m\u001b[1;33m)\u001b[0m\u001b[1;33m\u001b[0m\u001b[1;33m\u001b[0m\u001b[0m\n\u001b[0;32m     31\u001b[0m                             \u001b[0mnewrow\u001b[0m\u001b[1;33m.\u001b[0m\u001b[0mappend\u001b[0m\u001b[1;33m(\u001b[0m\u001b[0mcell\u001b[0m\u001b[1;33m)\u001b[0m\u001b[1;33m\u001b[0m\u001b[1;33m\u001b[0m\u001b[0m\n\u001b[1;32m---> 32\u001b[1;33m                             \u001b[0mnewrow\u001b[0m\u001b[1;33m.\u001b[0m\u001b[0mappend\u001b[0m\u001b[1;33m(\u001b[0m\u001b[0mheaders\u001b[0m\u001b[1;33m[\u001b[0m\u001b[0mrow\u001b[0m\u001b[1;33m.\u001b[0m\u001b[0mindex\u001b[0m\u001b[1;33m(\u001b[0m\u001b[0mcell\u001b[0m\u001b[1;33m)\u001b[0m\u001b[1;33m]\u001b[0m\u001b[1;33m)\u001b[0m \u001b[1;31m# getting errors here!\u001b[0m\u001b[1;33m\u001b[0m\u001b[1;33m\u001b[0m\u001b[0m\n\u001b[0m\u001b[0;32m     33\u001b[0m                             \u001b[0mwriter\u001b[0m\u001b[1;33m.\u001b[0m\u001b[0mwriterow\u001b[0m\u001b[1;33m(\u001b[0m\u001b[0mnewrow\u001b[0m\u001b[1;33m)\u001b[0m\u001b[1;33m\u001b[0m\u001b[1;33m\u001b[0m\u001b[0m\n\u001b[0;32m     34\u001b[0m                     \u001b[0mrowcount\u001b[0m \u001b[1;33m+=\u001b[0m \u001b[1;36m1\u001b[0m\u001b[1;33m\u001b[0m\u001b[1;33m\u001b[0m\u001b[0m\n",
      "\u001b[1;31mKeyError\u001b[0m: 58"
     ]
    }
   ],
   "source": [
    "# ...\n",
    "import csv\n",
    "\n",
    "def convert(file_in, file_out):\n",
    "    with open(file_in, encoding = 'utf-8-sig', errors = 'ignore', newline = '') as file_in:\n",
    "        reader = csv.reader(file_in)\n",
    "        rowcount = 0\n",
    "        emptyrows = 0\n",
    "        headers = {}\n",
    "\n",
    "        with open(file_out, encoding = 'utf-8-sig', mode = 'w', newline = '') as file_out:\n",
    "            writer = csv.writer(file_out, delimiter = ',', quotechar = '\"', quoting = csv.QUOTE_MINIMAL)\n",
    "            newheaders = ['cdmnumber', 'value', 'field']\n",
    "            writer.writerow(newheaders)\n",
    "            for row in reader:\n",
    "                if rowcount == 0:\n",
    "                    for cell in row:\n",
    "                        header = {row.index(cell): cell}\n",
    "                        headers.update(header)\n",
    "                        rowcount += 1\n",
    "                elif rowcount > 0 and row[0] != '':\n",
    "                    for cell in row:\n",
    "                        newrow = []\n",
    "                        if row.index(cell) == 0:\n",
    "                            pass\n",
    "                        else:\n",
    "                            newrow.append(row[0])\n",
    "                            newrow.append(cell)\n",
    "                            newrow.append(headers[row.index(cell)]) # getting errors here!\n",
    "                            writer.writerow(newrow)\n",
    "                    rowcount += 1\n",
    "                elif rowcount > 0 and row[0] == '':\n",
    "                    emptyrows += 1\n",
    "                else:\n",
    "                    pass # not quite sure how an else could occur...\n",
    "    # very minimal report\n",
    "    # add better printout of headers\n",
    "    print(headers)\n",
    "    print(f\"{rowcount} rows containing data were processed\")\n",
    "    if emptyrows == 1:\n",
    "        print(f\"{emptyrows} empty row was skipped\")\n",
    "    elif emptyrows > 1:\n",
    "        print(f\"{emptyrows} empty rows were skipped\")\n",
    "    else:\n",
    "        pass\n",
    "\n",
    "file_in = input(\"Enter filepath for the input CSV file: \")\n",
    "file_out = input(\"Enter filepath for an output CSV file to write: \")\n",
    "convert(file_in, file_out)"
   ]
  },
  {
   "cell_type": "markdown",
   "metadata": {},
   "source": [
    "## KeyError!!\n",
    "```\n",
    "---------------------------------------------------------------------------\n",
    "KeyError                                  Traceback (most recent call last)\n",
    "<ipython-input-9-6e1e6a594012> in <module>\n",
    "     50 file_in = input(\"Enter filepath for the input CSV file: \")\n",
    "     51 file_out = input(\"Enter filepath for an output CSV file to write: \")\n",
    "---> 52 convert(file_in, file_out)\n",
    "\n",
    "<ipython-input-9-6e1e6a594012> in convert(file_in, file_out)\n",
    "     30                             newrow.append(row[0])\n",
    "     31                             newrow.append(cell)\n",
    "---> 32                             newrow.append(headers[row.index(cell)]) # getting errors here!\n",
    "     33                             writer.writerow(newrow)\n",
    "     34                     rowcount += 1\n",
    "\n",
    "KeyError: 58\n",
    "```\n",
    "### I THINK THAT...\n",
    "...I need to stop the script from attempting to process the cell following the last cell which has a value in it...\n",
    "...so perhaps grabbing the index of the last column with a header in it, and using that to limit processing...\n",
    "maybe something like:\n",
    "\n",
    "```\n",
    "[get an index of the first empty column after the headers]\n",
    "...\n",
    "for cell in row:\n",
    "    if row.index(cell) < maxIndex:\n",
    "        ...\n",
    "```\n"
   ]
  },
  {
   "cell_type": "code",
   "execution_count": 14,
   "metadata": {},
   "outputs": [
    {
     "name": "stdout",
     "output_type": "stream",
     "text": [
      "Enter filepath for the input CSV file: testdata/csv_test_in_002.csv\n",
      "Enter filepath for an output CSV file to write: testdata/csv_test_out_002.csv\n",
      "{0: 'cdmnumber', 1: 'Title', 2: 'Title (Translated)', 3: 'Title (Non-Latin Script)', 4: 'Title (ALA-LC Romanization)', 5: 'Title (Harvard Romanization)', 6: 'Interviewee', 7: 'Interviewee Birthplace', 8: 'Primary Performer', 9: 'Performer', 10: 'Performer Birthplace', 11: 'Interviewer', 12: 'Videographer', 13: 'Author', 14: 'Editor', 15: 'Publisher', 16: 'Publisher Location', 17: 'Printer', 18: 'Printer Location', 19: 'Translator', 20: 'Donor', 21: 'Lender', 22: 'Former Owner', 23: 'Date (EDTF)', 24: 'Date', 25: 'Dates', 26: 'Interviewee Biography', 27: 'Notes', 28: 'Subjects (LCSH)', 29: 'Genre/Form (LCGFT)', 30: 'Related OCLC Record', 31: 'Object Type', 32: 'Cross Reference', 33: 'Romancero Theme', 34: 'Individuals Discussed', 35: 'Organizations Discussed', 36: 'Geographic Coverage', 37: 'Time Period Discussed', 38: 'Index', 39: 'Recording Location', 40: 'Language', 41: 'Digital Collection', 42: 'Sephardic Studies Accession Number (SSAN)', 43: 'Restrictions', 44: 'Rights URI', 45: 'Ordering Information', 46: 'Repository', 47: 'Repository Collection', 48: 'Repository Collection Guide', 49: 'Type', 50: 'Extent', 51: 'Original Format', 52: 'Physical Description', 53: 'Timecode Start', 54: 'Digital Reproduction Information', 55: 'Digital Format', 56: 'Cataloging', 57: 'digitalFileName'}\n",
      "2526 rows containing data were processed\n",
      "45 empty rows were skipped\n"
     ]
    }
   ],
   "source": [
    "# ...\n",
    "import csv\n",
    "\n",
    "def convert(file_in, file_out):\n",
    "    with open(file_in, encoding = 'utf-8-sig', errors = 'ignore', newline = '') as file_in:\n",
    "        reader = csv.reader(file_in)\n",
    "        rowcount = 0\n",
    "        emptyrows = 0\n",
    "        headers = {}\n",
    "        endheaders = 'NOTSET'\n",
    "\n",
    "        with open(file_out, encoding = 'utf-8-sig', mode = 'w', newline = '') as file_out:\n",
    "            writer = csv.writer(file_out, delimiter = ',', quotechar = '\"', quoting = csv.QUOTE_MINIMAL)\n",
    "            newheaders = ['cdmnumber', 'value', 'field']\n",
    "            writer.writerow(newheaders)\n",
    "            for row in reader:\n",
    "                if rowcount == 0:\n",
    "                    for cell in row:\n",
    "                        if cell != '':\n",
    "                            header = {row.index(cell): cell}\n",
    "                            headers.update(header)\n",
    "                            rowcount += 1\n",
    "                        else:\n",
    "                            endheaders = row.index(cell)\n",
    "                elif rowcount > 0 and row[0] != '':\n",
    "                    for cell in row:\n",
    "                        newrow = []\n",
    "                        if row.index(cell) == 0:\n",
    "                            pass\n",
    "                        elif row.index(cell) > 0 and row.index(cell) < endheaders:\n",
    "                            newrow.append(row[0])\n",
    "                            newrow.append(cell)\n",
    "                            newrow.append(headers[row.index(cell)]) # getting errors here!\n",
    "                            writer.writerow(newrow)\n",
    "                        else:\n",
    "                            pass\n",
    "                    rowcount += 1\n",
    "                elif rowcount > 0 and row[0] == '':\n",
    "                    emptyrows += 1\n",
    "                else:\n",
    "                    pass # not quite sure how an else could occur...\n",
    "    # improve report\n",
    "    print(headers)\n",
    "    print(f\"{rowcount} rows containing data were processed\")\n",
    "    if emptyrows == 1:\n",
    "        print(f\"{emptyrows} empty row was skipped\")\n",
    "    elif emptyrows > 1:\n",
    "        print(f\"{emptyrows} empty rows were skipped\")\n",
    "    else:\n",
    "        pass\n",
    "\n",
    "file_in = input(\"Enter filepath for the input CSV file: \")\n",
    "file_out = input(\"Enter filepath for an output CSV file to write: \")\n",
    "convert(file_in, file_out)\n"
   ]
  },
  {
   "cell_type": "markdown",
   "metadata": {},
   "source": [
    "# &#x1F389; &#x1F389; &#x1F389; ???\n",
    "## KeyError solved\n",
    "...on to the next problem"
   ]
  }
 ],
 "metadata": {
  "kernelspec": {
   "display_name": "Python 3",
   "language": "python",
   "name": "python3"
  },
  "language_info": {
   "codemirror_mode": {
    "name": "ipython",
    "version": 3
   },
   "file_extension": ".py",
   "mimetype": "text/x-python",
   "name": "python",
   "nbconvert_exporter": "python",
   "pygments_lexer": "ipython3",
   "version": "3.8.8"
  }
 },
 "nbformat": 4,
 "nbformat_minor": 4
}
