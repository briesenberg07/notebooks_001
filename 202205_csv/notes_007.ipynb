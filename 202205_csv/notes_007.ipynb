{
 "cells": [
  {
   "cell_type": "code",
   "execution_count": 4,
   "id": "d91ee8da",
   "metadata": {},
   "outputs": [
    {
     "name": "stdout",
     "output_type": "stream",
     "text": [
      "Enter filepath for the input CSV file: testdata/csv_test_in_001.csv\n",
      "Enter filepath for an output CSV file to write: testdata/csv_test_out_001.csv\n",
      "{0: 'cdmnumber', 1: 'string', 2: 'attribute', 3: 'value', 4: 'comment'}\n",
      "5 rows containing data were processed\n"
     ]
    }
   ],
   "source": [
    "# v007.001\n",
    "\n",
    "import csv\n",
    "\n",
    "def convert(file_in, file_out):\n",
    "    with open(file_in, encoding = 'utf-8-sig', errors = 'ignore', newline = '') as file_in:\n",
    "        reader = csv.reader(file_in)\n",
    "        datarows = 0 #remember to -1 because header will be counted here as well\n",
    "        emptyrows = 0\n",
    "        headers = {}\n",
    "        endrow = 'NOTSET'\n",
    "        \n",
    "        with open(file_out, encoding = 'utf-8-sig', mode = 'w', newline = '') as file_out:\n",
    "            writer = csv.writer(file_out, delimiter = ',', quotechar = '\"', quoting = csv.QUOTE_MINIMAL)\n",
    "            newheaders = ['cdmnumber', 'value', 'field']\n",
    "            writer.writerow(newheaders)\n",
    "            for row in reader:\n",
    "                if datarows == 0:\n",
    "                    for cell in row:\n",
    "                        if cell != '':\n",
    "                            header = {row.index(cell): cell}\n",
    "                            headers.update(header)\n",
    "                        else:\n",
    "                            endrow = row.index(cell)\n",
    "                            pass # no empty cells allowed in header row until end column!\n",
    "                    datarows += 1\n",
    "                elif datarows > 0 and row[0] != '':\n",
    "                    if endrow == 'NOTSET': # small number of columns\n",
    "                        for cell in row:\n",
    "                            cellindex = 0\n",
    "                            newrow = []\n",
    "                            if cellindex == 0:\n",
    "                                cellindex += 1\n",
    "                                pass\n",
    "                            else:\n",
    "                                newrow.append(row[0]) # get cdmnumber\n",
    "                                newrow.append(cell) # get value\n",
    "                                newrow.append(headers[cellindex]) # get header\n",
    "                                writer.writerow(newrow) # WHYYYYYY!?!?!?!?\n",
    "                                cellindex += 1\n",
    "                    # elif endrow != 'NOTSET': # larger number of columns\n",
    "                        # ...\n",
    "                    datarows += 1\n",
    "                        \n",
    "    print(headers)\n",
    "    print(f\"{datarows} rows containing data were processed\")\n",
    "    if emptyrows == 1:\n",
    "        print(f\"{emptyrows} empty row was skipped\")\n",
    "    elif emptyrows > 1:\n",
    "        print(f\"{emptyrows} empty rows were skipped\")\n",
    "    else:\n",
    "        pass\n",
    "    \n",
    "file_in = input(\"Enter filepath for the input CSV file: \")\n",
    "file_out = input(\"Enter filepath for an output CSV file to write: \")\n",
    "convert(file_in, file_out)"
   ]
  }
 ],
 "metadata": {
  "kernelspec": {
   "display_name": "Python 3",
   "language": "python",
   "name": "python3"
  },
  "language_info": {
   "codemirror_mode": {
    "name": "ipython",
    "version": 3
   },
   "file_extension": ".py",
   "mimetype": "text/x-python",
   "name": "python",
   "nbconvert_exporter": "python",
   "pygments_lexer": "ipython3",
   "version": "3.8.8"
  }
 },
 "nbformat": 4,
 "nbformat_minor": 5
}
