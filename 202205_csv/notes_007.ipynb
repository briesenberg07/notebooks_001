{
 "cells": [
  {
   "cell_type": "code",
   "execution_count": 3,
   "id": "92e8b854",
   "metadata": {},
   "outputs": [
    {
     "name": "stdout",
     "output_type": "stream",
     "text": [
      "Enter filepath for the input CSV file: testdata/csv_test_in_001.csv\n",
      "Enter filepath for an output CSV file to write: testdata/csv_test_out_001.csv\n",
      "{0: 'cdmnumber', 1: 'string', 2: 'attribute', 3: 'value', 4: 'comment'}\n",
      "5 rows containing data were processed\n",
      "1 empty row was skipped\n"
     ]
    }
   ],
   "source": [
    "# v007.001\n",
    "\n",
    "import csv\n",
    "\n",
    "def convert(file_in, file_out):\n",
    "    with open(file_in, encoding = 'utf-8-sig', errors = 'ignore', newline = '') as file_in:\n",
    "        reader = csv.reader(file_in)\n",
    "        datarows = 0 #remember to -1 because header will be counted here as well\n",
    "        emptyrows = 0\n",
    "        headers = {}\n",
    "        endrow = 'NOTSET'\n",
    "        \n",
    "        with open(file_out, encoding = 'utf-8-sig', mode = 'w', newline = '') as file_out:\n",
    "            writer = csv.writer(file_out, delimiter = ',', quotechar = '\"', quoting = csv.QUOTE_MINIMAL)\n",
    "            newheaders = ['cdmnumber', 'value', 'field']\n",
    "            writer.writerow(newheaders)\n",
    "            for row in reader:\n",
    "                if datarows == 0:\n",
    "                    for cell in row:\n",
    "                        if cell != '':\n",
    "                            header = {row.index(cell): cell}\n",
    "                            headers.update(header)\n",
    "                        else:\n",
    "                            endrow = row.index(cell)\n",
    "                            pass # no empty cells allowed in header row until end column!\n",
    "                    datarows += 1\n",
    "                elif datarows > 0 and row[0] != '':\n",
    "                    # if endrow == 'NOTSET': # small number of columns\n",
    "                    for cell in row:\n",
    "                        cellindex = row.index(cell)\n",
    "                        newrow = []\n",
    "                        if cellindex == 0:\n",
    "                            pass\n",
    "                        else:\n",
    "                            newrow.append(row[0]) # get cdmnumber\n",
    "                            newrow.append(cell) # get value\n",
    "                            newrow.append(headers[cellindex]) # want to get header but index still isn't correct!!\n",
    "                            writer.writerow(newrow)\n",
    "                    datarows += 1\n",
    "                elif datarows > 0 and row[0] == '':\n",
    "                    emptyrows += 1\n",
    "                    pass\n",
    "                else:\n",
    "                    pass\n",
    "                        \n",
    "    print(headers)\n",
    "    print(f\"{datarows} rows containing data were processed\")\n",
    "    if emptyrows == 1:\n",
    "        print(f\"{emptyrows} empty row was skipped\")\n",
    "    elif emptyrows > 1:\n",
    "        print(f\"{emptyrows} empty rows were skipped\")\n",
    "    else:\n",
    "        pass\n",
    "    \n",
    "file_in = input(\"Enter filepath for the input CSV file: \")\n",
    "file_out = input(\"Enter filepath for an output CSV file to write: \")\n",
    "convert(file_in, file_out)"
   ]
  },
  {
   "cell_type": "code",
   "execution_count": 10,
   "id": "290e094f",
   "metadata": {},
   "outputs": [
    {
     "name": "stdout",
     "output_type": "stream",
     "text": [
      "{0: 'ID', 1: 'attribute', 2: 'price', 3: 'color'}\n",
      "{0: '1', 1: 'spicy', 2: 'cheap', 3: 'red'}\n",
      "{0: '2', 1: '', 3: 'blue'}\n",
      "{0: '3', 1: 'fuzzy', 2: 'expensive', 3: 'green'}\n"
     ]
    }
   ],
   "source": [
    "# still trying to get a handle on it...\n",
    "with open('testdata/csv_test_in_003.csv', encoding = 'utf-8-sig', errors = 'ignore', newline = '') as file_in:\n",
    "        reader = csv.reader(file_in)\n",
    "        for row in reader:\n",
    "            row_is_dict = {}\n",
    "            for cell in row:\n",
    "                content = {row.index(cell): cell}\n",
    "                row_is_dict.update(content)\n",
    "            print(row_is_dict)"
   ]
  },
  {
   "cell_type": "markdown",
   "id": "11188ea8",
   "metadata": {},
   "source": [
    "# Here's a hint (?) about the cell-indexing breaking down:\n",
    "\n",
    "```\n",
    "{0: '3', 1: 'hello', 2: '', 4: 'blank cells'}\n",
    "```\n",
    "No index is retrieved for the second blank cell...\n",
    "\n",
    "## Also...\n",
    "```\n",
    "{0: '1', 1: \"יל בוקייטו די רומאנסאס : קאנטיקאס ריקוז''יד'אס, פארה נוב'יאס אי פאריד\", 2: 'color', 3: 'red', 4: 'full row'}\n",
    "```\n",
    "AAaaaaAAAAhhhh what is happening here???"
   ]
  },
  {
   "cell_type": "code",
   "execution_count": 2,
   "id": "50c13e31",
   "metadata": {},
   "outputs": [
    {
     "name": "stdout",
     "output_type": "stream",
     "text": [
      "NOTSET\n",
      "<class 'str'>\n",
      "{0: 'cdmnumber', 1: 'Title', 2: 'Title (Translated)', 3: 'Title (Non-Latin Script)', 4: 'Title (ALA-LC Romanization)', 5: 'Title (Harvard Romanization)', 6: 'Interviewee', 7: 'Interviewee Birthplace', 8: 'Primary Performer', 9: 'Performer', 10: 'Performer Birthplace', 11: 'Interviewer', 12: 'Videographer', 13: 'Author', 14: 'Editor', 15: 'Publisher', 16: 'Publisher Location', 17: 'Printer', 18: 'Printer Location', 19: 'Translator', 20: 'Donor', 21: 'Lender', 22: 'Former Owner', 23: 'Date (EDTF)', 24: 'Date', 25: 'Dates', 26: 'Interviewee Biography', 27: 'Notes', 28: 'Subjects (LCSH)', 29: 'Genre/Form (LCGFT)', 30: 'Related OCLC Record', 31: 'Object Type', 32: 'Cross Reference', 33: 'Romancero Theme', 35: 'Individuals Discussed', 36: 'Organizations Discussed', 37: 'Geographic Coverage', 38: 'Time Period Discussed', 39: 'Index', 40: 'Recording Location', 41: 'Language', 42: 'Digital Collection', 43: 'Sephardic Studies Accession Number (SSAN)', 44: 'Restrictions', 45: 'Rights URI', 46: 'Ordering Information', 47: 'Repository', 48: 'Repository Collection', 49: 'Repository Collection Guide', 50: 'Type', 51: 'Extent', 52: 'Original Format', 53: 'Physical Description', 54: 'Timecode Start', 55: 'Digital Reproduction Information', 56: 'Digital Format', 57: 'Cataloging', 58: 'Staff Notes', 59: 'Original File Name', 60: 'Institution'}\n"
     ]
    }
   ],
   "source": [
    "# what if I used the headers dict to iterate through each row??\n",
    "# get headers\n",
    "import csv\n",
    "\n",
    "def get_headers(in_file):\n",
    "    with open(in_file, encoding = 'utf-8-sig', errors = 'ignore', newline = '') as file_in:\n",
    "        reader = csv.reader(file_in)\n",
    "        rowcount = 0\n",
    "        endrow = 'NOTSET'\n",
    "        headers = {}\n",
    "        for row in reader:\n",
    "            if rowcount == 0:\n",
    "                for cell in row:\n",
    "                    if cell != '':\n",
    "                        header = {row.index(cell): cell}\n",
    "                        headers.update(header)\n",
    "                    elif cell == '':\n",
    "                        endrow = row.index(cell)\n",
    "                        pass\n",
    "                    else:\n",
    "                        pass\n",
    "                rowcount += 1\n",
    "            else:\n",
    "                pass\n",
    "    print(endrow)\n",
    "    print(type(endrow))\n",
    "    print(headers)\n",
    "\n",
    "get_headers('../../1d3bdc9d079a8581768088dea1111f6b/202206_spreadsheet_001_texts.csv')\n"
   ]
  },
  {
   "cell_type": "code",
   "execution_count": 8,
   "id": "757a7e7e",
   "metadata": {},
   "outputs": [
    {
     "ename": "SyntaxError",
     "evalue": "invalid syntax (<ipython-input-8-e2b7643b3e98>, line 12)",
     "output_type": "error",
     "traceback": [
      "\u001b[1;36m  File \u001b[1;32m\"<ipython-input-8-e2b7643b3e98>\"\u001b[1;36m, line \u001b[1;32m12\u001b[0m\n\u001b[1;33m    elif:\u001b[0m\n\u001b[1;37m        ^\u001b[0m\n\u001b[1;31mSyntaxError\u001b[0m\u001b[1;31m:\u001b[0m invalid syntax\n"
     ]
    }
   ],
   "source": [
    "with open('testdata/csv_test_in_001.csv', encoding='utf-8-sig', errors='ignore', newline='') as file_in:\n",
    "    reader = csv.reader(file_in)\n",
    "    rowcount = 0\n",
    "    for row in reader:\n",
    "        if rowcount == 0:\n",
    "            rowcount += 1\n",
    "            pass\n",
    "        else:\n",
    "            for item in headers:\n",
    "                if headers[0]:\n",
    "                    pass\n",
    "                elif:\n",
    "                    print(headers[row.index(cell)])"
   ]
  },
  {
   "cell_type": "code",
   "execution_count": 1,
   "id": "f38e54fe",
   "metadata": {},
   "outputs": [
    {
     "name": "stdout",
     "output_type": "stream",
     "text": [
      "0\n",
      "1\n",
      "2\n",
      "3\n",
      "4\n",
      "5\n",
      "6\n"
     ]
    }
   ],
   "source": [
    "# make sure I know where I start and end when\n",
    "# iterating through a range\n",
    "for i in range(0,7):\n",
    "    print(i)"
   ]
  },
  {
   "cell_type": "code",
   "execution_count": 4,
   "id": "5ba7be5f",
   "metadata": {},
   "outputs": [
    {
     "name": "stdout",
     "output_type": "stream",
     "text": [
      "Enter filepath for the input CSV file: testdata/csv_test_in_002.csv\n",
      "Enter filepath for an output CSV file to write: testdata/csv_test_out_002.csv\n",
      "58 header columns in data\n",
      "{0: 'cdmnumber', 1: 'Title', 2: 'Title (Translated)', 3: 'Title (Non-Latin Script)', 4: 'Title (ALA-LC Romanization)', 5: 'Title (Harvard Romanization)', 6: 'Interviewee', 7: 'Interviewee Birthplace', 8: 'Primary Performer', 9: 'Performer', 10: 'Performer Birthplace', 11: 'Interviewer', 12: 'Videographer', 13: 'Author', 14: 'Editor', 15: 'Publisher', 16: 'Publisher Location', 17: 'Printer', 18: 'Printer Location', 19: 'Translator', 20: 'Donor', 21: 'Lender', 22: 'Former Owner', 23: 'Date (EDTF)', 24: 'Date', 25: 'Dates', 26: 'Interviewee Biography', 27: 'Notes', 28: 'Subjects (LCSH)', 29: 'Genre/Form (LCGFT)', 30: 'Related OCLC Record', 31: 'Object Type', 32: 'Cross Reference', 33: 'Romancero Theme', 34: 'Individuals Discussed', 35: 'Organizations Discussed', 36: 'Geographic Coverage', 37: 'Time Period Discussed', 38: 'Index', 39: 'Recording Location', 40: 'Language', 41: 'Digital Collection', 42: 'Sephardic Studies Accession Number (SSAN)', 43: 'Restrictions', 44: 'Rights URI', 45: 'Ordering Information', 46: 'Repository', 47: 'Repository Collection', 48: 'Repository Collection Guide', 49: 'Type', 50: 'Extent', 51: 'Original Format', 52: 'Physical Description', 53: 'Timecode Start', 54: 'Digital Reproduction Information', 55: 'Digital Format', 56: 'Cataloging', 57: 'digitalFileName'}\n",
      "2469 rows containing data were processed\n",
      "45 empty rows were skipped\n",
      "A strange else condition was met 0 times\n"
     ]
    }
   ],
   "source": [
    "# v007.002\n",
    "# use range()\n",
    "import csv\n",
    "def convert(file_in, file_out):\n",
    "    with open(file_in, encoding = 'utf-8-sig', errors = 'ignore', newline = '') as file_in:\n",
    "        reader = csv.reader(file_in)\n",
    "        datarows = 0 #remember to -1 when reporting on rows processed, because header will be counted here\n",
    "        emptyrows = 0 # report on empty rows skipped \n",
    "        strangeelse = 0\n",
    "        headers = {}\n",
    "        endrow = 'NOTSET' # create a range!\n",
    "        with open(file_out, encoding = 'utf-8-sig', mode = 'w', newline = '') as file_out:\n",
    "            writer = csv.writer(file_out, delimiter = ',', quotechar = '\"', quoting = csv.QUOTE_MINIMAL)\n",
    "            newheaders = ['cdmnumber', 'value', 'field']\n",
    "            writer.writerow(newheaders)\n",
    "            for row in reader:\n",
    "                if datarows == 0:\n",
    "                    for cell in row:\n",
    "                        if cell != '':\n",
    "                            header = {row.index(cell): cell}\n",
    "                            headers.update(header)\n",
    "                        else: # no empty cells allowed inside headers row!\n",
    "                            endrow = row.index(cell)\n",
    "                            pass\n",
    "                    datarows += 1\n",
    "                elif datarows > 0 and row[0] != '': # leftmost column must be cdmnumber, every row must have cdmnumber\n",
    "                    for cell in range(1, endrow): # don't process the cdmnumber column, because this value is output every time\n",
    "                        newrow = []\n",
    "                        newrow.append(row[0])\n",
    "                        newrow.append(row[cell]) # difference between row.index() and row[index] ??\n",
    "                        newrow.append(headers[cell])\n",
    "                        writer.writerow(newrow)\n",
    "                    datarows += 1\n",
    "                elif datarows > 0 and row[0] == '':\n",
    "                    emptyrows += 1\n",
    "                    pass\n",
    "                else: # what could this be???\n",
    "                    strangeelse += 1\n",
    "                    pass\n",
    "    print(f\"{endrow} header columns in data\")\n",
    "    print(headers)\n",
    "    print(f\"{datarows} rows containing data were processed\")\n",
    "    if emptyrows == 1:\n",
    "        print(f\"{emptyrows} empty row was skipped\")\n",
    "    elif emptyrows > 1:\n",
    "        print(f\"{emptyrows} empty rows were skipped\")\n",
    "    else:\n",
    "        pass\n",
    "    print(f\"A strange else condition was met {strangeelse} times\")\n",
    "\n",
    "file_in = input(\"Enter filepath for the input CSV file: \")\n",
    "file_out = input(\"Enter filepath for an output CSV file to write: \")\n",
    "convert(file_in, file_out)"
   ]
  },
  {
   "cell_type": "markdown",
   "id": "75b2d3bd",
   "metadata": {},
   "source": [
    "# &#x1F38A; &#x1F38A; &#x1F38A; &#x1F38A; &#x1F389; &#x1F389; &#x1F389;"
   ]
  },
  {
   "cell_type": "code",
   "execution_count": 7,
   "id": "c257e294",
   "metadata": {},
   "outputs": [
    {
     "name": "stdout",
     "output_type": "stream",
     "text": [
      "Enter filepath for the input CSV file: testdata/csv_test_in_001.csv\n",
      "Enter filepath for an output CSV file to write: testdata/csv_test_out_001.csv\n",
      "5 header columns in data\n",
      "{0: 'cdmnumber', 1: 'string', 2: 'attribute', 3: 'value', 4: 'comment'}\n",
      "5 rows containing data were processed\n",
      "1 empty row was skipped\n",
      "A strange else condition was met 0 times\n"
     ]
    }
   ],
   "source": [
    "# v007.003 account for small tables which do not set endrow; see v006.001\n",
    "# use range()\n",
    "import csv\n",
    "def convert(file_in, file_out):\n",
    "    with open(file_in, encoding = 'utf-8-sig', errors = 'ignore', newline = '') as file_in:\n",
    "        reader = csv.reader(file_in)\n",
    "        datarows = 0 #remember to -1 when reporting on rows processed, because header will be counted here\n",
    "        emptyrows = 0 # report on empty rows skipped \n",
    "        strangeelse = 0\n",
    "        headers = {}\n",
    "        endrow = 'NOTSET' # create a range!\n",
    "        with open(file_out, encoding = 'utf-8-sig', mode = 'w', newline = '') as file_out:\n",
    "            writer = csv.writer(file_out, delimiter = ',', quotechar = '\"', quoting = csv.QUOTE_MINIMAL)\n",
    "            newheaders = ['cdmnumber', 'value', 'field']\n",
    "            writer.writerow(newheaders)\n",
    "            for row in reader:\n",
    "                if datarows == 0:\n",
    "                    for cell in row:\n",
    "                        if cell != '':\n",
    "                            header = {row.index(cell): cell}\n",
    "                            headers.update(header)\n",
    "                        else: # no empty cells allowed inside headers row!\n",
    "                            endrow = row.index(cell)\n",
    "                            pass\n",
    "                    datarows += 1\n",
    "                elif datarows > 0 and row[0] != '': # leftmost column must be cdmnumber, every row must have cdmnumber\n",
    "                    if endrow != 'NOTSET':\n",
    "                        for cell in range(1, endrow): # don't process the cdmnumber column, because this value is output every time\n",
    "                            newrow = []\n",
    "                            newrow.append(row[0])\n",
    "                            newrow.append(row[cell]) # difference between row.index() and row[index] ??\n",
    "                            newrow.append(headers[cell])\n",
    "                            writer.writerow(newrow)\n",
    "                        datarows += 1\n",
    "                    else: # duplicative code below, this could be made cleaner; just use a conditional to get endrow set and then process the same...\n",
    "                        endrow = len(headers)\n",
    "                        for cell in range(1, endrow):\n",
    "                            newrow = []\n",
    "                            newrow.append(row[0])\n",
    "                            newrow.append(row[cell]) # difference between row.index() and row[index] ??\n",
    "                            newrow.append(headers[cell])\n",
    "                            writer.writerow(newrow)\n",
    "                        datarows += 1\n",
    "                elif datarows > 0 and row[0] == '':\n",
    "                    emptyrows += 1\n",
    "                    pass\n",
    "                else: # what could this be???\n",
    "                    strangeelse += 1\n",
    "                    pass\n",
    "    print(f\"{endrow} header columns in data\")\n",
    "    print(headers)\n",
    "    print(f\"{datarows} rows containing data were processed\")\n",
    "    if emptyrows == 1:\n",
    "        print(f\"{emptyrows} empty row was skipped\")\n",
    "    elif emptyrows > 1:\n",
    "        print(f\"{emptyrows} empty rows were skipped\")\n",
    "    else:\n",
    "        pass\n",
    "    print(f\"A strange else condition was met {strangeelse} times\")\n",
    "\n",
    "file_in = input(\"Enter filepath for the input CSV file: \")\n",
    "file_out = input(\"Enter filepath for an output CSV file to write: \")\n",
    "convert(file_in, file_out)"
   ]
  },
  {
   "cell_type": "markdown",
   "id": "8e0b60c3",
   "metadata": {},
   "source": [
    "# &#x1F38A; &#x1F389; &#x1F99A; &#x1F38A; &#x1F389; &#x1F99A; &#x1F38A; &#x1F389; &#x1F99A; &#x1F38A; &#x1F389; &#x1F99A; "
   ]
  }
 ],
 "metadata": {
  "kernelspec": {
   "display_name": "Python 3.8.10 64-bit",
   "language": "python",
   "name": "python3"
  },
  "language_info": {
   "codemirror_mode": {
    "name": "ipython",
    "version": 3
   },
   "file_extension": ".py",
   "mimetype": "text/x-python",
   "name": "python",
   "nbconvert_exporter": "python",
   "pygments_lexer": "ipython3",
   "version": "3.8.10"
  },
  "vscode": {
   "interpreter": {
    "hash": "916dbcbb3f70747c44a77c7bcd40155683ae19c65e1c03b4aa3499c5328201f1"
   }
  }
 },
 "nbformat": 4,
 "nbformat_minor": 5
}
