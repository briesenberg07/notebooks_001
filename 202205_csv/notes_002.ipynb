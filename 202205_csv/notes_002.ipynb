{
 "cells": [
  {
   "cell_type": "markdown",
   "metadata": {},
   "source": [
    "# getting started working with csv data in Python, 002\n",
    "\n",
    "- use case described in [reformat_csv_notes.md](https://gist.github.com/briesenberg07/1d3bdc9d079a8581768088dea1111f6b#file-__reformat_csv_notes-md)\n",
    "- much of testing here is copied from the Real Python > [Reading and Writing CSV Files in Python](https://realpython.com/python-csv/) tutorial, [Parsing CSV Files With Python’s Built-in CSV Library](https://realpython.com/python-csv/#parsing-csv-files-with-pythons-built-in-csv-library)"
   ]
  },
  {
   "cell_type": "code",
   "execution_count": 3,
   "metadata": {},
   "outputs": [],
   "source": [
    "# do this before running any of the cells below!\n",
    "import csv"
   ]
  },
  {
   "cell_type": "code",
   "execution_count": 3,
   "metadata": {},
   "outputs": [
    {
     "name": "stdout",
     "output_type": "stream",
     "text": [
      "Here are the headers, separated by slashes:\n",
      "Title / Title (Translated) / Title (Non-Latin Script) / Title (ALA-LC Romanization) / Title (Harvard Romanization) / Interviewee / Interviewee Birthplace / Primary Performer / Performer / Performer Birthplace / Interviewer / Videographer / Author / Editor / Publisher / Publisher Location / Printer / Printer Location / Translator / Donor / Lender / Former Owner / Date-EDTF / Date / Dates / Interviewee Biography / Notes / Subjects (LCSH) / Genre/Form (LCGFT) / Related OCLC Record / Object Type / Romancero Theme / Cross Reference / Individuals Discussed / Organizations Discussed / Geographic Coverage / Time Period Discussed / Index / Recording Location / Language / Digital Collection / Sephardic Studies Accession Number (SSAN) / Restrictions / Rights Uri / Ordering Information / Type / Extent / Digital Format / Original Format / Physical Description / Timecode Start / Digital Reproduction Information / Cataloging / Staff Notes / Digital File Name / cdmfilename / CONTENTdmfilepath / cdmnumber / datecreated / datemodified / itemurl / oclc Number / standaloneDeclaration\n"
     ]
    }
   ],
   "source": [
    "# use the csv module's reader function\n",
    "# adapted from the tutorial\n",
    "\n",
    "with open('testdata/ssdc_test_text_001.csv') as file:\n",
    "    reader = csv.reader(file, delimiter=\",\")\n",
    "    line_count = 0\n",
    "    for row in reader:\n",
    "        if line_count == 0:\n",
    "            # don't understand {' /'.join(row)}\n",
    "            print(f\"Here are the headers, separated by slashes:\\n{' / '.join(row)}\")\n",
    "                # per w3schools - string*.join(iterable) [string* will be used as a separator]\n",
    "                # per docs.python.org/3.8 - str.join(iterable) - Return a string which is the concatenation of the strings in iterable. \n",
    "                    # A TypeError will be raised if there are any non-string values in iterable, including bytes objects. \n",
    "                    # The separator between elements is the string providing this method.\n",
    "            line_count +=1\n",
    "        else:\n",
    "            pass"
   ]
  },
  {
   "cell_type": "code",
   "execution_count": 4,
   "metadata": {},
   "outputs": [
    {
     "name": "stdout",
     "output_type": "stream",
     "text": [
      "Let's see whether I can get some headers by position...\n"
     ]
    },
    {
     "ename": "KeyError",
     "evalue": "4",
     "output_type": "error",
     "traceback": [
      "\u001b[1;31m---------------------------------------------------------------------------\u001b[0m",
      "\u001b[1;31mKeyError\u001b[0m                                  Traceback (most recent call last)",
      "\u001b[1;32m~\\AppData\\Local\\Temp/ipykernel_15712/535075060.py\u001b[0m in \u001b[0;36m<module>\u001b[1;34m\u001b[0m\n\u001b[0;32m      8\u001b[0m         \u001b[1;32mif\u001b[0m \u001b[0mline_count\u001b[0m \u001b[1;33m==\u001b[0m \u001b[1;36m0\u001b[0m\u001b[1;33m:\u001b[0m\u001b[1;33m\u001b[0m\u001b[1;33m\u001b[0m\u001b[0m\n\u001b[0;32m      9\u001b[0m             \u001b[0mprint\u001b[0m\u001b[1;33m(\u001b[0m\u001b[1;34m\"Let's see whether I can get some headers by position...\"\u001b[0m\u001b[1;33m)\u001b[0m\u001b[1;33m\u001b[0m\u001b[1;33m\u001b[0m\u001b[0m\n\u001b[1;32m---> 10\u001b[1;33m             \u001b[0mprint\u001b[0m\u001b[1;33m(\u001b[0m\u001b[1;34mf\"the fifth column name is {row[4]}, and the tenth is {row[9]}.\"\u001b[0m\u001b[1;33m)\u001b[0m\u001b[1;33m\u001b[0m\u001b[1;33m\u001b[0m\u001b[0m\n\u001b[0m\u001b[0;32m     11\u001b[0m             \u001b[0mprint\u001b[0m\u001b[1;33m(\u001b[0m\u001b[1;34m\"Wonder if that worked...\"\u001b[0m\u001b[1;33m)\u001b[0m\u001b[1;33m\u001b[0m\u001b[1;33m\u001b[0m\u001b[0m\n\u001b[0;32m     12\u001b[0m             \u001b[0mline_count\u001b[0m \u001b[1;33m+=\u001b[0m \u001b[1;36m1\u001b[0m\u001b[1;33m\u001b[0m\u001b[1;33m\u001b[0m\u001b[0m\n",
      "\u001b[1;31mKeyError\u001b[0m: 4"
     ]
    }
   ],
   "source": [
    "# use the csv module's DictReader class\n",
    "# adapted from the tutorial\n",
    "\n",
    "with open('testdata/ssdc_test_text_001.csv') as file:\n",
    "    reader = csv.DictReader(file) # skip the delimiter, which is \",\" by default?\n",
    "    line_count = 0\n",
    "    for row in reader:\n",
    "        if line_count == 0:\n",
    "            print(\"Let's see whether I can get some headers by position...\")\n",
    "            print(f\"the fifth column name is {row[4]}, and the tenth is {row[9]}.\")\n",
    "            print(\"Wonder if that worked...\")\n",
    "            line_count += 1\n",
    "        else:\n",
    "            pass                \n",
    "    \n"
   ]
  },
  {
   "cell_type": "code",
   "execution_count": 5,
   "metadata": {},
   "outputs": [
    {
     "name": "stdout",
     "output_type": "stream",
     "text": [
      "Let's get values using column headings instead?\n",
      "This row's title is Cover.\n",
      "This row's title is Inside cover.\n",
      "This row's title is Blank page.\n",
      "This row's title is Blank page.\n",
      "And so forth...\n"
     ]
    }
   ],
   "source": [
    "# It *didn't* work\n",
    "    # If I had to guess I'd say that as written, I need to refer to column positions by name and not index, so\n",
    "    \n",
    "with open('testdata/ssdc_test_text_001.csv') as file:\n",
    "    reader = csv.DictReader(file) # skip the delimiter, which is \",\" by default?\n",
    "    line_count = 0\n",
    "    for row in reader:\n",
    "        if line_count == 0:\n",
    "            print(\"Let's get values using column headings instead?\")\n",
    "            line_count += 1\n",
    "        elif line_count > 0 and line_count < 5:\n",
    "            print(f\"This row's title is {row['Title']}.\")\n",
    "            line_count += 1\n",
    "        else:\n",
    "            pass\n",
    "    print(\"And so forth...\")\n"
   ]
  },
  {
   "cell_type": "markdown",
   "metadata": {},
   "source": [
    "For [my use case](https://gist.github.com/briesenberg07/1d3bdc9d079a8581768088dea1111f6b#use-case), I need to access data by cell.  \n",
    "Or, more accurately, I'll need to:\n",
    "- access each cell value in a row, one at a time--skipping blank cells--and for each of these cell values:\n",
    "    - fetch the column header for that value\n",
    "    - fetch a specific value from the row (value under the 'cdmnumber' header)\n",
    "So, perhaps the `reader` function can do what I need??\n"
   ]
  },
  {
   "cell_type": "code",
   "execution_count": null,
   "metadata": {},
   "outputs": [],
   "source": [
    "# starting here with the reading...I'll figure out the writing next...\n",
    "    # accessing the headers\n",
    "\n",
    "with open('testdata/ssdc_test_text_001.csv') as file:\n",
    "    reader = csv.reader(file)\n",
    "    column_number = 0\n",
    "    row_number = 0\n",
    "    for row in reader:\n",
    "        if row_number == 0:\n",
    "            for cell in row:\n",
    "                print(f\"This header is {row[column_number]}.\")\n",
    "                column_number += 1\n",
    "            row_number += 1\n",
    "        else:\n",
    "            pass"
   ]
  },
  {
   "cell_type": "code",
   "execution_count": null,
   "metadata": {},
   "outputs": [],
   "source": [
    "# starting here with the reading...I'll figure out the writing next...\n",
    "    # put headers in a list to access later using column_number as index\n",
    "\n",
    "with open('testdata/ssdc_test_text_001.csv') as file:\n",
    "    reader = csv.reader(file)\n",
    "    column_number = 0\n",
    "    row_number = 0\n",
    "    headers = []\n",
    "    for row in reader:\n",
    "        if row_number == 0:\n",
    "            for cell in row:\n",
    "                headers.append(row[column_number])\n",
    "                column_number += 1\n",
    "            row_number += 1\n",
    "        else:\n",
    "            pass\n"
   ]
  },
  {
   "cell_type": "code",
   "execution_count": null,
   "metadata": {},
   "outputs": [],
   "source": [
    "# lemme see if I did what I think I did...\n",
    "print(headers)\n",
    "print(row_number)"
   ]
  },
  {
   "cell_type": "code",
   "execution_count": 2,
   "metadata": {},
   "outputs": [],
   "source": [
    "# can I write from what I'm reading??\n",
    "\n",
    "with open('testdata/ssdc_test_text_001.csv') as file:\n",
    "    reader = csv.reader(file)\n",
    "    row_number = 0\n",
    "    column_number = 0\n",
    "    headers = []\n",
    "    for row in reader:\n",
    "        if row_number == 0:\n",
    "            for cell in row:\n",
    "                headers.append(row[column_number])\n",
    "                column_number += 1\n",
    "            row_number += 1\n",
    "        else:\n",
    "            pass\n",
    "        \n",
    "    def create_row():\n",
    "        \n",
    "        \n",
    "    with open('testdata/ssdc_for_upload_001.csv', mode = 'w') as file_out: # don't forget write mode!\n",
    "        writer = csv.writer(file_out, delimiter = ',', quotechar = '\"', quoting = csv.QUOTE_MINIMAL)\n",
    "        row_number = 0\n",
    "        column_number = 0\n",
    "        for row in reader:\n",
    "            if row_number == 0:\n",
    "                pass\n",
    "            if row_number > 0 and row_number < 5:\n",
    "                writer.writerow({{headers[column_number]} : {row[column_number]}})\n",
    "                row_number += 1\n",
    "            else:\n",
    "                pass\n"
   ]
  },
  {
   "cell_type": "markdown",
   "metadata": {},
   "source": [
    "## More on CSVs using the [csv module](https://docs.python.org/3.8/library/csv.html#module-csv)\n",
    "### Starting with the [csv.reader function](https://docs.python.org/3.8/library/csv.html#csv.reader)"
   ]
  },
  {
   "cell_type": "code",
   "execution_count": 1,
   "metadata": {},
   "outputs": [
    {
     "name": "stdout",
     "output_type": "stream",
     "text": [
      "name + adjective + cost + location + id\n",
      "sushi + elegant + high +  + 1\n",
      "pizza + yummy + medium + Italy + 2\n",
      "burger +  + low + America + 3\n",
      "sandwich + functional +  + England + 4\n",
      "soup + hot + medium + Seattle + 5\n"
     ]
    }
   ],
   "source": [
    "# csv.reader\n",
    "    # short usage example from https://docs.python.org/3.8/library/csv.html#csv.reader\n",
    "\n",
    "import csv\n",
    "with open('testdata/foods.csv', newline='') as file:\n",
    "    foodsreader = csv.reader(file, delimiter=',')\n",
    "    for row in foodsreader:\n",
    "        print(' + '.join(row))"
   ]
  },
  {
   "cell_type": "markdown",
   "metadata": {},
   "source": [
    "### The [csv.writer function](https://docs.python.org/3.8/library/csv.html#csv.writer)\n",
    "- The usage example is a little confusing...\n"
   ]
  },
  {
   "cell_type": "code",
   "execution_count": 6,
   "metadata": {},
   "outputs": [],
   "source": [
    "# usage example from the docs\n",
    "# already imported csv (?)\n",
    "\n",
    "with open ('testdata/writefoods002.csv', 'w', newline='') as writefile:\n",
    "    foodswriter = csv.writer(writefile, delimiter=',')\n",
    "    foodswriter.writerow(['name', 'adjective', 'id'])\n",
    "    foodswriter.writerow(['sushi', 'delicious', '001'])\n",
    "    foodswriter.writerow(['pizza', 'the best', '002'])\n",
    "    foodswriter.writerow(['noodles', 'salty', '003'])\n",
    "    # this seems to work but...shouldn't I be closing the file or something???"
   ]
  },
  {
   "cell_type": "markdown",
   "metadata": {},
   "source": [
    "### I'll also try [class csv.DictWriter](https://docs.python.org/3.8/library/csv.html#csv.DictWriter)"
   ]
  },
  {
   "cell_type": "code",
   "execution_count": 8,
   "metadata": {},
   "outputs": [],
   "source": [
    "# import csv\n",
    "\n",
    "with open('testdata/DictWriteFoods.csv', 'w', newline='') as dwritefile:\n",
    "    fieldnames = ['name', 'adjective', 'id']\n",
    "    writer = csv.DictWriter(dwritefile, fieldnames=fieldnames)\n",
    "    \n",
    "    writer.writeheader()\n",
    "    writer.writerow({\"name\": \"General Tso's chicken\", \"adjective\": \"I regretted it\", \"id\": 1})\n",
    "    # Not sure whether the integer value will cause a problem\n",
    "    writer.writerow({\"name\": \"salad\", \"adjective\": \"healthy\", \"id\": \"2\"})"
   ]
  },
  {
   "cell_type": "code",
   "execution_count": null,
   "metadata": {},
   "outputs": [],
   "source": []
  }
 ],
 "metadata": {
  "kernelspec": {
   "display_name": "Python 3",
   "language": "python",
   "name": "python3"
  },
  "language_info": {
   "codemirror_mode": {
    "name": "ipython",
    "version": 3
   },
   "file_extension": ".py",
   "mimetype": "text/x-python",
   "name": "python",
   "nbconvert_exporter": "python",
   "pygments_lexer": "ipython3",
   "version": "3.8.5"
  }
 },
 "nbformat": 4,
 "nbformat_minor": 4
}
