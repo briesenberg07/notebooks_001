{
 "cells": [
  {
   "cell_type": "markdown",
   "metadata": {},
   "source": [
    "# getting started working with csv data in Python, 001\n",
    "- The use case described in [reformat_csv_notes.md](https://gist.github.com/briesenberg07/1d3bdc9d079a8581768088dea1111f6b)\n",
    "- Most of the testing here is copied from the Real Python > [Reading and Writing CSV Files in Python](https://realpython.com/python-csv/) tutorial, [Parsing CSV Files With Python’s Built-in CSV Library](https://realpython.com/python-csv/#parsing-csv-files-with-pythons-built-in-csv-library)"
   ]
  },
  {
   "cell_type": "code",
   "execution_count": 6,
   "metadata": {},
   "outputs": [],
   "source": [
    "# do this before running any of the cells below!\n",
    "import csv"
   ]
  },
  {
   "cell_type": "code",
   "execution_count": 8,
   "metadata": {},
   "outputs": [
    {
     "name": "stdout",
     "output_type": "stream",
     "text": [
      "Here are the headers, separated by slashes:\n",
      "﻿cdmnumber / string / attribute / value / comment\n"
     ]
    }
   ],
   "source": [
    "# make a simple test of the csv module's reader function\n",
    "# adapted from the tutorial\n",
    "with open('testdata/csv_test_in_001.csv') as file: # at this point I wasn't using (didn't know about) other args for open()\n",
    "    reader = csv.reader(file, delimiter=\",\")\n",
    "    line_count = 0\n",
    "    for row in reader:\n",
    "        if line_count == 0:\n",
    "            # don't understand {' /'.join(row)}...\n",
    "            print(f\"Here are the headers, separated by slashes:\\n{' / '.join(row)}\")\n",
    "                # per w3schools - string*.join(iterable) [string* will be used as a separator]\n",
    "                # per docs.python.org/3.8 - str.join(iterable) - Return a string which is the concatenation of the strings in iterable. \n",
    "                    # A TypeError will be raised if there are any non-string values in iterable, including bytes objects. \n",
    "                    # The separator between elements is the string providing this method.\n",
    "            line_count +=1\n",
    "        else:\n",
    "            pass"
   ]
  },
  {
   "cell_type": "code",
   "execution_count": 9,
   "metadata": {},
   "outputs": [
    {
     "name": "stdout",
     "output_type": "stream",
     "text": [
      "Let's see whether I can get some headers by position...\n"
     ]
    },
    {
     "ename": "KeyError",
     "evalue": "4",
     "output_type": "error",
     "traceback": [
      "\u001b[0;31m---------------------------------------------------------------------------\u001b[0m",
      "\u001b[0;31mKeyError\u001b[0m                                  Traceback (most recent call last)",
      "\u001b[1;32m/home/briesenberg/od/notebooks_001/202205_csv/notes_001.ipynb Cell 4'\u001b[0m in \u001b[0;36m<cell line: 4>\u001b[0;34m()\u001b[0m\n\u001b[1;32m      <a href='vscode-notebook-cell://wsl%2Bubuntu/home/briesenberg/od/notebooks_001/202205_csv/notes_001.ipynb#ch0000003vscode-remote?line=7'>8</a>\u001b[0m \u001b[39mif\u001b[39;00m line_count \u001b[39m==\u001b[39m \u001b[39m0\u001b[39m:\n\u001b[1;32m      <a href='vscode-notebook-cell://wsl%2Bubuntu/home/briesenberg/od/notebooks_001/202205_csv/notes_001.ipynb#ch0000003vscode-remote?line=8'>9</a>\u001b[0m     \u001b[39mprint\u001b[39m(\u001b[39m\"\u001b[39m\u001b[39mLet\u001b[39m\u001b[39m'\u001b[39m\u001b[39ms see whether I can get some headers by position...\u001b[39m\u001b[39m\"\u001b[39m)\n\u001b[0;32m---> <a href='vscode-notebook-cell://wsl%2Bubuntu/home/briesenberg/od/notebooks_001/202205_csv/notes_001.ipynb#ch0000003vscode-remote?line=9'>10</a>\u001b[0m     \u001b[39mprint\u001b[39m(\u001b[39mf\u001b[39m\u001b[39m\"\u001b[39m\u001b[39mthe fifth column name is \u001b[39m\u001b[39m{\u001b[39;00mrow[\u001b[39m4\u001b[39m]\u001b[39m}\u001b[39;00m\u001b[39m, and the tenth is \u001b[39m\u001b[39m{\u001b[39;00mrow[\u001b[39m9\u001b[39m]\u001b[39m}\u001b[39;00m\u001b[39m.\u001b[39m\u001b[39m\"\u001b[39m)\n\u001b[1;32m     <a href='vscode-notebook-cell://wsl%2Bubuntu/home/briesenberg/od/notebooks_001/202205_csv/notes_001.ipynb#ch0000003vscode-remote?line=10'>11</a>\u001b[0m     \u001b[39mprint\u001b[39m(\u001b[39m\"\u001b[39m\u001b[39mWonder if that worked...\u001b[39m\u001b[39m\"\u001b[39m)\n\u001b[1;32m     <a href='vscode-notebook-cell://wsl%2Bubuntu/home/briesenberg/od/notebooks_001/202205_csv/notes_001.ipynb#ch0000003vscode-remote?line=11'>12</a>\u001b[0m     line_count \u001b[39m+\u001b[39m\u001b[39m=\u001b[39m \u001b[39m1\u001b[39m\n",
      "\u001b[0;31mKeyError\u001b[0m: 4"
     ]
    }
   ],
   "source": [
    "# make a simple test of the csv module's DictReader class\n",
    "    # I didn't end up using this class to accomplish my task\n",
    "# adapted from the tutorial\n",
    "with open('testdata/csv_test_in_001.csv') as file: \n",
    "    reader = csv.DictReader(file) # skip the delimiter arg; it defaults to ','\n",
    "    line_count = 0\n",
    "    for row in reader:\n",
    "        if line_count == 0:\n",
    "            print(\"Let's see whether I can get some headers by position...\")\n",
    "            print(f\"the fifth column name is {row[4]}, and the tenth is {row[9]}.\")\n",
    "            print(\"Wonder if that worked...\")\n",
    "            line_count += 1\n",
    "        else:\n",
    "            pass                \n",
    "    \n"
   ]
  },
  {
   "cell_type": "code",
   "execution_count": 11,
   "metadata": {},
   "outputs": [
    {
     "name": "stdout",
     "output_type": "stream",
     "text": [
      "Let's get values using column headings instead\n"
     ]
    },
    {
     "ename": "KeyError",
     "evalue": "'cdmnumber'",
     "output_type": "error",
     "traceback": [
      "\u001b[0;31m---------------------------------------------------------------------------\u001b[0m",
      "\u001b[0;31mKeyError\u001b[0m                                  Traceback (most recent call last)",
      "\u001b[1;32m/home/briesenberg/od/notebooks_001/202205_csv/notes_001.ipynb Cell 5'\u001b[0m in \u001b[0;36m<cell line: 4>\u001b[0;34m()\u001b[0m\n\u001b[1;32m     <a href='vscode-notebook-cell://wsl%2Bubuntu/home/briesenberg/od/notebooks_001/202205_csv/notes_001.ipynb#ch0000004vscode-remote?line=9'>10</a>\u001b[0m     line_count \u001b[39m+\u001b[39m\u001b[39m=\u001b[39m \u001b[39m1\u001b[39m\n\u001b[1;32m     <a href='vscode-notebook-cell://wsl%2Bubuntu/home/briesenberg/od/notebooks_001/202205_csv/notes_001.ipynb#ch0000004vscode-remote?line=10'>11</a>\u001b[0m \u001b[39melif\u001b[39;00m line_count \u001b[39m>\u001b[39m \u001b[39m0\u001b[39m \u001b[39mand\u001b[39;00m line_count \u001b[39m<\u001b[39m \u001b[39m5\u001b[39m:\n\u001b[0;32m---> <a href='vscode-notebook-cell://wsl%2Bubuntu/home/briesenberg/od/notebooks_001/202205_csv/notes_001.ipynb#ch0000004vscode-remote?line=11'>12</a>\u001b[0m     \u001b[39mprint\u001b[39m(\u001b[39mf\u001b[39m\u001b[39m\"\u001b[39m\u001b[39mThis row\u001b[39m\u001b[39m'\u001b[39m\u001b[39ms cdmnumber is \u001b[39m\u001b[39m{\u001b[39;00mrow[\u001b[39m'\u001b[39m\u001b[39mcdmnumber\u001b[39m\u001b[39m'\u001b[39m]\u001b[39m}\u001b[39;00m\u001b[39m, the comment is \u001b[39m\u001b[39m{\u001b[39;00mrow[\u001b[39m'\u001b[39m\u001b[39mcomment\u001b[39m\u001b[39m'\u001b[39m]\u001b[39m}\u001b[39;00m\u001b[39m.\u001b[39m\u001b[39m\"\u001b[39m)\n\u001b[1;32m     <a href='vscode-notebook-cell://wsl%2Bubuntu/home/briesenberg/od/notebooks_001/202205_csv/notes_001.ipynb#ch0000004vscode-remote?line=12'>13</a>\u001b[0m     line_count \u001b[39m+\u001b[39m\u001b[39m=\u001b[39m \u001b[39m1\u001b[39m\n\u001b[1;32m     <a href='vscode-notebook-cell://wsl%2Bubuntu/home/briesenberg/od/notebooks_001/202205_csv/notes_001.ipynb#ch0000004vscode-remote?line=13'>14</a>\u001b[0m \u001b[39melse\u001b[39;00m:\n",
      "\u001b[0;31mKeyError\u001b[0m: 'cdmnumber'"
     ]
    }
   ],
   "source": [
    "# PICK BACK UP HERE\n",
    "# It *didn't* work\n",
    "# I need to refer to column positions by name and not index\n",
    "    \n",
    "with open('testdata/csv_test_in_001.csv') as file:\n",
    "    reader = csv.DictReader(file)\n",
    "    line_count = 0\n",
    "    for row in reader:\n",
    "        if line_count == 0:\n",
    "            print(\"Let's get values using column headings instead\")\n",
    "            line_count += 1\n",
    "        elif line_count > 0 and line_count < 5:\n",
    "            print(f\"This row's cdmnumber is {row['cdmnumber']}, the comment is {row['comment']}.\")\n",
    "            line_count += 1\n",
    "        else:\n",
    "            pass\n"
   ]
  },
  {
   "cell_type": "markdown",
   "metadata": {},
   "source": [
    "For [my use case](https://gist.github.com/briesenberg07/1d3bdc9d079a8581768088dea1111f6b#use-case), I need to access data by cell.  \n",
    "Or, more accurately, I'll need to:\n",
    "- access each cell value in a row, one at a time--skipping blank cells--and for each of these cell values:\n",
    "    - fetch the column header for that value\n",
    "    - fetch a specific value from the row (value under the 'cdmnumber' header)\n",
    "So, perhaps the `reader` function can do what I need??\n"
   ]
  },
  {
   "cell_type": "code",
   "execution_count": null,
   "metadata": {},
   "outputs": [],
   "source": [
    "# starting here with the reading...I'll figure out the writing next...\n",
    "    # accessing the headers\n",
    "\n",
    "with open('testdata/ssdc_test_text_001.csv') as file:\n",
    "    reader = csv.reader(file)\n",
    "    column_number = 0\n",
    "    row_number = 0\n",
    "    for row in reader:\n",
    "        if row_number == 0:\n",
    "            for cell in row:\n",
    "                print(f\"This header is {row[column_number]}.\")\n",
    "                column_number += 1\n",
    "            row_number += 1\n",
    "        else:\n",
    "            pass"
   ]
  },
  {
   "cell_type": "code",
   "execution_count": null,
   "metadata": {},
   "outputs": [],
   "source": [
    "# starting here with the reading...I'll figure out the writing next...\n",
    "    # put headers in a list to access later using column_number as index\n",
    "\n",
    "with open('testdata/ssdc_test_text_001.csv') as file:\n",
    "    reader = csv.reader(file)\n",
    "    column_number = 0\n",
    "    row_number = 0\n",
    "    headers = []\n",
    "    for row in reader:\n",
    "        if row_number == 0:\n",
    "            for cell in row:\n",
    "                headers.append(row[column_number])\n",
    "                column_number += 1\n",
    "            row_number += 1\n",
    "        else:\n",
    "            pass\n"
   ]
  },
  {
   "cell_type": "code",
   "execution_count": null,
   "metadata": {},
   "outputs": [],
   "source": [
    "# lemme see if I did what I think I did...\n",
    "print(headers)\n",
    "print(row_number)"
   ]
  },
  {
   "cell_type": "code",
   "execution_count": null,
   "metadata": {},
   "outputs": [],
   "source": [
    "# can I write from what I'm reading??\n",
    "\n",
    "with open('testdata/ssdc_test_text_001.csv') as file:\n",
    "    reader = csv.reader(file)\n",
    "    row_number = 0\n",
    "    column_number = 0\n",
    "    headers = []\n",
    "    for row in reader:\n",
    "        if row_number == 0:\n",
    "            for cell in row:\n",
    "                headers.append(row[column_number])\n",
    "                column_number += 1\n",
    "            row_number += 1\n",
    "        else:\n",
    "            pass\n",
    "        \n",
    "    def create_row():\n",
    "        \n",
    "        \n",
    "    with open('testdata/ssdc_for_upload_001.csv', mode = 'w') as file_out: # don't forget write mode!\n",
    "        writer = csv.writer(file_out, delimiter = ',', quotechar = '\"', quoting = csv.QUOTE_MINIMAL)\n",
    "        row_number = 0\n",
    "        column_number = 0\n",
    "        for row in reader:\n",
    "            if row_number == 0:\n",
    "                pass\n",
    "            if row_number > 0 and row_number < 5:\n",
    "                writer.writerow({{headers[column_number]} : {row[column_number]}})\n",
    "                row_number += 1\n",
    "            else:\n",
    "                pass\n"
   ]
  },
  {
   "cell_type": "markdown",
   "metadata": {},
   "source": [
    "## More on CSVs using the [csv module](https://docs.python.org/3.8/library/csv.html#module-csv)\n",
    "### Starting with the [csv.reader function](https://docs.python.org/3.8/library/csv.html#csv.reader)"
   ]
  },
  {
   "cell_type": "code",
   "execution_count": null,
   "metadata": {},
   "outputs": [
    {
     "name": "stdout",
     "output_type": "stream",
     "text": [
      "name + adjective + cost + location + id\n",
      "sushi + elegant + high +  + 1\n",
      "pizza + yummy + medium + Italy + 2\n",
      "burger +  + low + America + 3\n",
      "sandwich + functional +  + England + 4\n",
      "soup + hot + medium + Seattle + 5\n"
     ]
    }
   ],
   "source": [
    "# csv.reader\n",
    "    # short usage example from https://docs.python.org/3.8/library/csv.html#csv.reader\n",
    "\n",
    "import csv\n",
    "with open('testdata/foods.csv', newline='') as file:\n",
    "    foodsreader = csv.reader(file, delimiter=',')\n",
    "    for row in foodsreader:\n",
    "        print(' + '.join(row))"
   ]
  },
  {
   "cell_type": "markdown",
   "metadata": {},
   "source": [
    "### The [csv.writer function](https://docs.python.org/3.8/library/csv.html#csv.writer)\n",
    "- The usage example is a little confusing...\n"
   ]
  },
  {
   "cell_type": "code",
   "execution_count": null,
   "metadata": {},
   "outputs": [],
   "source": [
    "# usage example from the docs\n",
    "# already imported csv (?)\n",
    "\n",
    "with open ('testdata/writefoods002.csv', 'w', newline='') as writefile:\n",
    "    foodswriter = csv.writer(writefile, delimiter=',')\n",
    "    foodswriter.writerow(['name', 'adjective', 'id'])\n",
    "    foodswriter.writerow(['sushi', 'delicious', '001'])\n",
    "    foodswriter.writerow(['pizza', 'the best', '002'])\n",
    "    foodswriter.writerow(['noodles', 'salty', '003'])\n",
    "    # this seems to work but...shouldn't I be closing the file or something???"
   ]
  },
  {
   "cell_type": "markdown",
   "metadata": {},
   "source": [
    "### I'll also try [class csv.DictWriter](https://docs.python.org/3.8/library/csv.html#csv.DictWriter)"
   ]
  },
  {
   "cell_type": "code",
   "execution_count": null,
   "metadata": {},
   "outputs": [],
   "source": [
    "# import csv\n",
    "\n",
    "with open('testdata/DictWriteFoods.csv', 'w', newline='') as dwritefile:\n",
    "    fieldnames = ['name', 'adjective', 'id']\n",
    "    writer = csv.DictWriter(dwritefile, fieldnames=fieldnames)\n",
    "    \n",
    "    writer.writeheader()\n",
    "    writer.writerow({\"name\": \"General Tso's chicken\", \"adjective\": \"I regretted it\", \"id\": 1})\n",
    "    # Not sure whether the integer value will cause a problem\n",
    "    writer.writerow({\"name\": \"salad\", \"adjective\": \"healthy\", \"id\": \"2\"})"
   ]
  }
 ],
 "metadata": {
  "interpreter": {
   "hash": "916dbcbb3f70747c44a77c7bcd40155683ae19c65e1c03b4aa3499c5328201f1"
  },
  "kernelspec": {
   "display_name": "Python 3.8.10 64-bit",
   "language": "python",
   "name": "python3"
  },
  "language_info": {
   "codemirror_mode": {
    "name": "ipython",
    "version": 3
   },
   "file_extension": ".py",
   "mimetype": "text/x-python",
   "name": "python",
   "nbconvert_exporter": "python",
   "pygments_lexer": "ipython3",
   "version": "3.8.10"
  }
 },
 "nbformat": 4,
 "nbformat_minor": 4
}
