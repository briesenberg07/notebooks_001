{
 "cells": [
  {
   "cell_type": "code",
   "execution_count": 9,
   "metadata": {},
   "outputs": [
    {
     "name": "stdout",
     "output_type": "stream",
     "text": [
      "{0: 'id', 1: 'string', 2: 'attribute', 3: 'value', 4: 'comment'}\n"
     ]
    }
   ],
   "source": [
    "# test reading headers\n",
    "import csv\n",
    "with open('testdata/csv_test_in_001.csv', encoding = 'utf-8-sig', errors = 'ignore', newline = '') as file_in:\n",
    "    reader = csv.reader(file_in)\n",
    "    rowcount = 0\n",
    "    rowsprocessed = 0\n",
    "    headers = {}\n",
    "    with open('csv_test_out_001.csv', mode = 'w') as file_out:\n",
    "        writer = csv.writer(file_out, delimiter = ',', quotechar = '\"', quoting = csv.QUOTE_MINIMAL)\n",
    "        for row in reader:\n",
    "            if rowcount == 0:\n",
    "                for cell in row:\n",
    "                    header = {row.index(cell): cell}\n",
    "                    headers.update(header)\n",
    "                rowcount += 1\n",
    "            else:\n",
    "                pass\n",
    "print(headers)"
   ]
  },
  {
   "cell_type": "code",
   "execution_count": 10,
   "metadata": {},
   "outputs": [],
   "source": [
    "# test writing new headers\n",
    "import csv\n",
    "with open('testdata/csv_test_in_001.csv', encoding = 'utf-8-sig', errors = 'ignore', newline = '') as file_in:\n",
    "    reader = csv.reader(file_in)\n",
    "    rowcount = 0\n",
    "    rowsprocessed = 0\n",
    "    headers = {}\n",
    "    with open('../testdata/csv_test_out_001.csv', mode = 'w') as file_out:\n",
    "        writer = csv.writer(file_out, delimiter = ',', quotechar = '\"', quoting = csv.QUOTE_MINIMAL)\n",
    "        newheaders = ['id', 'value', 'header']\n",
    "        writer.writerow(newheaders)"
   ]
  },
  {
   "cell_type": "code",
   "execution_count": 9,
   "metadata": {},
   "outputs": [
    {
     "name": "stdout",
     "output_type": "stream",
     "text": [
      "5 rows containing data were processed\n",
      "1 empty row was skipped\n"
     ]
    }
   ],
   "source": [
    "import csv\n",
    "\n",
    "with open('testdata/csv_test_in_001.csv', encoding = 'utf-8-sig', errors = 'ignore', newline = '') as file_in:\n",
    "    reader = csv.reader(file_in)\n",
    "    rowcount = 0\n",
    "    emptyrows = 0\n",
    "    headers = {}\n",
    "    \n",
    "    with open('testdata/csv_test_out_001.csv', encoding = 'utf-8-sig', mode = 'w', newline = '') as file_out:\n",
    "        writer = csv.writer(file_out, delimiter = ',', quotechar = '\"', quoting = csv.QUOTE_MINIMAL)\n",
    "        newheaders = ['id', 'value', 'header']\n",
    "        writer.writerow(newheaders)\n",
    "        for row in reader:\n",
    "            if rowcount == 0:\n",
    "                for cell in row:\n",
    "                    header = {row.index(cell): cell}\n",
    "                    headers.update(header)\n",
    "                rowcount += 1\n",
    "            elif rowcount > 0 and row[0] != '':\n",
    "                for cell in row:\n",
    "                    newrow = []\n",
    "                    if row.index(cell) == 0: # accessing the position of the cell in the row\n",
    "                        pass\n",
    "                    else:\n",
    "                        newrow.append(row[0])\n",
    "                        newrow.append(cell)\n",
    "                        newrow.append(headers[row.index(cell)])\n",
    "                        writer.writerow(newrow)\n",
    "                rowcount += 1\n",
    "            elif rowcount > 0 and row[0] == '':\n",
    "                emptyrows += 1\n",
    "            else:\n",
    "                pass\n",
    "\n",
    "# very minimal report here\n",
    "print(f\"{rowcount} rows containing data were processed\")\n",
    "if emptyrows == 1:\n",
    "    print(f\"{emptyrows} empty row was skipped\")\n",
    "elif emptyrows > 1:\n",
    "    print(f\"{emptyrows} empty rows were skipped\")\n",
    "else:\n",
    "    pass"
   ]
  },
  {
   "cell_type": "markdown",
   "metadata": {},
   "source": [
    "# SOLVED\n",
    "- Garbled characters\n",
    "    - On first run there were garbled characters, but changing the `open()` encoding argument for the `csv.writer` object to match that of the `open()` encoding arg for the `csv.reader` object ('utf-8-sig') fixed it!\n",
    "- Don't process blank rows\n",
    "    - See `elif rowcount > 0 and row[0] != '':`\n",
    "- Eliminate every-other-row blank in output file [1]; although this might not be necessary...\n",
    "    - Here's something: [CSV file written with Python has blank lines between each row](https://stackoverflow.com/questions/3348460/csv-file-written-with-python-has-blank-lines-between-each-row)\n",
    "    - Extremely easy fix: Add arg `newline = ''` to `open()` for file_out (to \"suppress Windows line translation\", per SO answer linked above) [3]\n",
    "\n",
    "# WOULD LIKE TO DO\n",
    "- Add some kind of testing of output file for accuracy\n",
    "\n",
    "\n",
    "# NOTES\n",
    "1. This doesn't show up in the [online rendering of the output CSV](https://gist.github.com/briesenberg07/1d3bdc9d079a8581768088dea1111f6b/cc7bca414690ff98ee0b24ffd09a38ffe2f55163#file-csv_test_out_001-csv), which is strange\n",
    "2. Error when attempting to process while `csv_test_out_001` is open in Excel:\n",
    "\n",
    "```\n",
    "PermissionError: [Errno 13] Permission denied: '../testdata/csv_test_out_001.csv'\n",
    "```\n",
    "3. Per CSV library > [csv.writer](https://docs.python.org/3/library/csv.html#csv.writer):\n",
    "\n",
    "> If csvfile is a file object, it should be opened with newline=''. [...] If newline='' is not specified, newlines embedded inside quoted fields will not be interpreted correctly, and on platforms that use \\r\\n linendings on write an extra \\r will be added. It should always be safe to specify newline='', since the csv module does its own (universal) newline handling."
   ]
  },
  {
   "cell_type": "code",
   "execution_count": null,
   "metadata": {},
   "outputs": [],
   "source": []
  }
 ],
 "metadata": {
  "kernelspec": {
   "display_name": "Python 3",
   "language": "python",
   "name": "python3"
  },
  "language_info": {
   "codemirror_mode": {
    "name": "ipython",
    "version": 3
   },
   "file_extension": ".py",
   "mimetype": "text/x-python",
   "name": "python",
   "nbconvert_exporter": "python",
   "pygments_lexer": "ipython3",
   "version": "3.8.5"
  }
 },
 "nbformat": 4,
 "nbformat_minor": 5
}
