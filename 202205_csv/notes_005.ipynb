{
 "cells": [
  {
   "cell_type": "code",
   "execution_count": 9,
   "id": "c01e35ea",
   "metadata": {},
   "outputs": [
    {
     "name": "stdout",
     "output_type": "stream",
     "text": [
      "{0: 'id', 1: 'string', 2: 'attribute', 3: 'value', 4: 'comment'}\n"
     ]
    }
   ],
   "source": [
    "# test reading headers\n",
    "import csv\n",
    "with open('../testdata/csv_test_in_001.csv', encoding = 'utf-8-sig', errors = 'ignore', newline = '') as file_in:\n",
    "    reader = csv.reader(file_in)\n",
    "    rowcount = 0\n",
    "    rowsprocessed = 0\n",
    "    headers = {}\n",
    "    with open('csv_test_out_001.csv', mode = 'w') as file_out:\n",
    "        writer = csv.writer(file_out, delimiter = ',', quotechar = '\"', quoting = csv.QUOTE_MINIMAL)\n",
    "        for row in reader:\n",
    "            if rowcount == 0:\n",
    "                for cell in row:\n",
    "                    header = {row.index(cell): cell}\n",
    "                    headers.update(header)\n",
    "                rowcount += 1\n",
    "            else:\n",
    "                pass\n",
    "print(headers)"
   ]
  },
  {
   "cell_type": "code",
   "execution_count": 10,
   "id": "8bf93539",
   "metadata": {},
   "outputs": [],
   "source": [
    "# test writing new headers\n",
    "import csv\n",
    "with open('../testdata/csv_test_in_001.csv', encoding = 'utf-8-sig', errors = 'ignore', newline = '') as file_in:\n",
    "    reader = csv.reader(file_in)\n",
    "    rowcount = 0\n",
    "    rowsprocessed = 0\n",
    "    headers = {}\n",
    "    with open('../testdata/csv_test_out_001.csv', mode = 'w') as file_out:\n",
    "        writer = csv.writer(file_out, delimiter = ',', quotechar = '\"', quoting = csv.QUOTE_MINIMAL)\n",
    "        newheaders = ['id', 'value', 'header']\n",
    "        writer.writerow(newheaders)"
   ]
  },
  {
   "cell_type": "code",
   "execution_count": null,
   "id": "deead8c1",
   "metadata": {},
   "outputs": [],
   "source": [
    "import csv\n",
    "with open('../testdata/csv_test_in_001.csv', encoding = 'utf-8-sig', errors = 'ignore', newline = '') as file_in:\n",
    "    reader = csv.reader(file_in)\n",
    "    rowcount = 0\n",
    "    rowsprocessed = 0\n",
    "    headers = {}\n",
    "    with open('../testdata/csv_test_out_001.csv', encoding = 'utf-8-sig', mode = 'w') as file_out:\n",
    "        writer = csv.writer(file_out, delimiter = ',', quotechar = '\"', quoting = csv.QUOTE_MINIMAL)\n",
    "        newheaders = ['id', 'value', 'header']\n",
    "        writer.writerow(newheaders)\n",
    "        for row in reader:\n",
    "            if rowcount == 0:\n",
    "                for cell in row:\n",
    "                    header = {row.index(cell): cell}\n",
    "                    headers.update(header)\n",
    "                rowcount += 1\n",
    "            else:\n",
    "                for cell in row:\n",
    "                    newrow = []\n",
    "                    if row.index(cell) == 0:\n",
    "                        pass\n",
    "                    else:\n",
    "                        newrow.append(row[0])\n",
    "                        newrow.append(cell)\n",
    "                        newrow.append(headers[row.index(cell)])\n",
    "                        writer.writerow(newrow)\n"
   ]
  },
  {
   "cell_type": "markdown",
   "id": "baffdfd3",
   "metadata": {},
   "source": [
    "# TO DO\n",
    "- Don't process blank rows\n",
    "- Eliminate every-other-row blank in output\n",
    "\n",
    "# SOLVED\n",
    "- On first run there were garbled characters, but changing the `open()` encoding argument for the `csv.writer` object to match that of the `open()` encoding arg for the `csv.reader` object ('utf-8-sig') fixed it!\n",
    "\n",
    "# NOTE\n",
    "- Error when attempting to process while `csv_test_out_001` is open in Excel:\n",
    "\n",
    "```\n",
    "PermissionError: [Errno 13] Permission denied: '../testdata/csv_test_out_001.csv'\n",
    "```"
   ]
  },
  {
   "cell_type": "code",
   "execution_count": null,
   "id": "71933084",
   "metadata": {},
   "outputs": [],
   "source": []
  }
 ],
 "metadata": {
  "kernelspec": {
   "display_name": "Python 3 (ipykernel)",
   "language": "python",
   "name": "python3"
  },
  "language_info": {
   "codemirror_mode": {
    "name": "ipython",
    "version": 3
   },
   "file_extension": ".py",
   "mimetype": "text/x-python",
   "name": "python",
   "nbconvert_exporter": "python",
   "pygments_lexer": "ipython3",
   "version": "3.9.7"
  }
 },
 "nbformat": 4,
 "nbformat_minor": 5
}
