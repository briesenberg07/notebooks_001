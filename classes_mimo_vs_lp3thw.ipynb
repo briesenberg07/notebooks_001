{
 "cells": [
  {
   "cell_type": "markdown",
   "metadata": {},
   "source": [
    "# Basic class stuff\n",
    "With some attention to the ways in which it is presented differently in [Learn Python 3 the Hard Way](https://alliance-primo.hosted.exlibrisgroup.com/permalink/f/l9c4fq/CP71290856150001451) and the [mimo app](https://getmimo.com/)'s Python course"
   ]
  },
  {
   "cell_type": "markdown",
   "metadata": {},
   "source": [
    "## A simplified presentation of classes?"
   ]
  },
  {
   "cell_type": "markdown",
   "metadata": {},
   "source": [
    "### Creating class `Very_Specific_Thing` per mimo\n",
    "The following is based on class definitions provided as part of the mimo course. The variable values are hard-coded into the class definition. I imagine that this is to make things less complex for learners."
   ]
  },
  {
   "cell_type": "code",
   "execution_count": 2,
   "metadata": {},
   "outputs": [
    {
     "name": "stdout",
     "output_type": "stream",
     "text": [
      "5\n"
     ]
    }
   ],
   "source": [
    "# Here's a typical class definition as seen (at this point) in the mimo Python course\n",
    "\n",
    "class Very_Specific_Thing: #note no (object) follows the class name here\n",
    "    size = 5\n",
    "    name = \"my desk\"\n",
    "    location = \"Seattle\"\n",
    "    color = \"brown\"\n",
    "    \n",
    "    def print_size(self):\n",
    "        print(self.size)\n",
    "\n",
    "# create an instance of this class--\n",
    "    # it's quick, because all the decisions have already been made!\n",
    "    \n",
    "my_desk = Very_Specific_Thing()\n",
    "my_desk.print_size()"
   ]
  },
  {
   "cell_type": "markdown",
   "metadata": {},
   "source": [
    "#### Notes on class `Very_Specific_Thing`\n",
    "I guess it's too obvious to say that a class like this wouldn't be of much use. It seems quite clear that the lack (in most cases) of the `__init__` method is to simplify the introduction to classes here?\n",
    "I also note that Zed Shaw really likes to drive home including `(object)` in the first line of a class definition, which mimo seems to dispense with entirely. Can't recall right now what Zed's reason for this was..."
   ]
  },
  {
   "cell_type": "markdown",
   "metadata": {},
   "source": [
    "#### Another thing about these \"simplified\" classes that confused me..."
   ]
  },
  {
   "cell_type": "code",
   "execution_count": 4,
   "metadata": {},
   "outputs": [
    {
     "name": "stdout",
     "output_type": "stream",
     "text": [
      "green\n",
      "small\n"
     ]
    }
   ],
   "source": [
    "# here's a typical presentation of a class in the early modules on classes in mimo...\n",
    "\n",
    "class Simple_Thing:\n",
    "    attribute_01 = \"green\"\n",
    "    attribute_02 = \"small\"\n",
    "    \n",
    "    # I'm about to be confused\n",
    "        # because 'self.[variable]'' will be used to access a class variable,\n",
    "        # but the class has no constructor method!!?!\n",
    "        \n",
    "    def display_attributes(self):\n",
    "        print(self.attribute_01)\n",
    "        print(self.attribute_02)\n",
    "\n",
    "# let's see whether this kind of code actually works\n",
    "bmr_thing = Simple_Thing()\n",
    "bmr_thing.display_attributes()"
   ]
  },
  {
   "cell_type": "markdown",
   "metadata": {},
   "source": [
    "OK, well it does work.\n",
    "So `self.[class variable]` is still used to access class variables, even in the absence of a constructor method."
   ]
  },
  {
   "cell_type": "markdown",
   "metadata": {},
   "source": [
    "### Creating class `More_Versatile_Thing` per LP3THW"
   ]
  },
  {
   "cell_type": "code",
   "execution_count": 8,
   "metadata": {},
   "outputs": [
    {
     "name": "stdout",
     "output_type": "stream",
     "text": [
      "5\n"
     ]
    }
   ],
   "source": [
    "class More_Versatile_Thing(object):\n",
    "    def __init__(self, size, name, location, color):\n",
    "        self.size = size\n",
    "        self.name = name\n",
    "        self.location = location\n",
    "        self.color = color\n",
    "        \n",
    "    def print_size(self):\n",
    "        print(self.size)\n",
    "\n",
    "# create an instance of this class\n",
    "\n",
    "my_desk = More_Versatile_Thing(5, \"my desk\", \"Seattle\", \"brown\")\n",
    "my_desk.print_size()"
   ]
  },
  {
   "cell_type": "markdown",
   "metadata": {},
   "source": [
    "..."
   ]
  }
 ],
 "metadata": {
  "kernelspec": {
   "display_name": "Python 3",
   "language": "python",
   "name": "python3"
  },
  "language_info": {
   "codemirror_mode": {
    "name": "ipython",
    "version": 3
   },
   "file_extension": ".py",
   "mimetype": "text/x-python",
   "name": "python",
   "nbconvert_exporter": "python",
   "pygments_lexer": "ipython3",
   "version": "3.8.8"
  }
 },
 "nbformat": 4,
 "nbformat_minor": 4
}
