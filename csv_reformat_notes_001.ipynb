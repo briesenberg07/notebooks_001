{
 "cells": [
  {
   "cell_type": "markdown",
   "id": "498af261",
   "metadata": {},
   "source": [
    "# getting started working with csv data in Python, 001\n",
    "...continuted, after some time\n",
    "## resources\n",
    "- [csv - CSV File Reading and Writing](https://docs.python.org/3.8/library/csv.html?highlight=csv#module-csv)"
   ]
  },
  {
   "cell_type": "code",
   "execution_count": 11,
   "id": "2be3a8e6",
   "metadata": {},
   "outputs": [],
   "source": [
    "import csv"
   ]
  },
  {
   "cell_type": "code",
   "execution_count": null,
   "id": "ef4939ad",
   "metadata": {},
   "outputs": [],
   "source": [
    "# just basic csv.reader stuff \n",
    "# some of these args could be dispensed with?\n",
    "with open('testdata/csv_test_001.csv', encoding = 'utf8', errors = 'ignore', newline = '') as file_in:\n",
    "    reader = csv.reader(file_in)\n",
    "    for row in reader:\n",
    "        print(row)\n"
   ]
  },
  {
   "cell_type": "markdown",
   "id": "16c29fe0",
   "metadata": {},
   "source": [
    "## note\n",
    "- `\\ufeff`: See [u'\\ufeff' in Python string](https://stackoverflow.com/questions/17912307/u-ufeff-in-python-string)"
   ]
  },
  {
   "cell_type": "code",
   "execution_count": null,
   "id": "d7bce8d5",
   "metadata": {},
   "outputs": [],
   "source": [
    "# I shall try it a different way\n",
    "with open('testdata/csv_test_001.csv', encoding = 'utf8', errors = 'ignore', newline = '') as file_in:\n",
    "    reader = csv.reader(file_in)\n",
    "    for row in reader:\n",
    "        for value in row:\n",
    "            if value == '':\n",
    "                pass\n",
    "            else:\n",
    "                print(value)\n",
    "# I *can* access a value within a row!"
   ]
  },
  {
   "cell_type": "code",
   "execution_count": null,
   "id": "dc24e45b",
   "metadata": {},
   "outputs": [],
   "source": [
    "with open('testdata/csv_test_001.csv', encoding = 'utf8', errors = 'ignore', newline = '') as file_in:\n",
    "    reader = csv.reader(file_in)\n",
    "    rowcount = 0\n",
    "    for row in reader:\n",
    "        if rowcount == 0:\n",
    "            print(f\"HEADERS: {' / '.join(row)}\")\n",
    "            rowcount += 1\n",
    "        elif rowcount > 0:\n",
    "            for value in row:\n",
    "                  print(f\"cell value = {value}\")\n",
    "                  print(f\"cell index in row = {row.index(value)}\")\n",
    "        else:\n",
    "            print(\"ERROR ERROR ERROR...\")"
   ]
  },
  {
   "cell_type": "markdown",
   "id": "223d4e6b",
   "metadata": {},
   "source": [
    "## notes\n",
    "- Accessing the index of each cell in a row is good, it's very important, I believe that I'll need this to retrieve the matching header for each cell value\n",
    "- Next I believe that I'll create a dictionary containing the headers and match cell values to headers"
   ]
  },
  {
   "cell_type": "code",
   "execution_count": 16,
   "id": "d5685393",
   "metadata": {},
   "outputs": [
    {
     "name": "stdout",
     "output_type": "stream",
     "text": [
      "updated headers dict\n",
      "{0: '\\ufeffid', 1: 'string', 2: 'attribute', 3: 'value', 4: 'comment'}\n"
     ]
    }
   ],
   "source": [
    "with open('testdata/csv_test_001.csv', encoding = 'utf8', errors = 'ignore', newline = '') as file_in:\n",
    "    reader = csv.reader(file_in)\n",
    "    rowcount = 0\n",
    "    headers = {}\n",
    "    for row in reader:\n",
    "        if rowcount == 0:\n",
    "            for cell in row:\n",
    "                header = {row.index(cell): cell}\n",
    "                headers.update(header)\n",
    "            print(\"updated headers dict\")\n",
    "            rowcount += 1\n",
    "        else:\n",
    "            pass\n",
    "    print(headers)"
   ]
  },
  {
   "cell_type": "markdown",
   "id": "0dff13ea",
   "metadata": {},
   "source": [
    "## notes\n",
    "- Okay the `/ufeff` is causing problems here, I will have to deal with it"
   ]
  },
  {
   "cell_type": "code",
   "execution_count": null,
   "id": "f5418a13",
   "metadata": {},
   "outputs": [],
   "source": [
    "# Okay I think I'm going to need to access values by header, so I'll need\n",
    "    # class csv.DictReader\n",
    "\n",
    "# use the example from:\n",
    "# https://docs.python.org/3.8/library/csv.html?highlight=csv#csv.DictReader\n",
    "# with my input file data_in_02.csv\n",
    "\n",
    "import csv\n",
    "with open('data_in_02.csv', newline = '') as file_in:\n",
    "    reader = csv.DictReader(file_in)\n",
    "    for row in reader:\n",
    "        print(row['id'], row['name'])\n",
    "\n",
    "# okay, this is great, this is progress\n",
    "# I'll need to go from this (providing headers to print or do something with) to\n",
    "    # iterating over a list of headers and writing when the cell has a value"
   ]
  },
  {
   "cell_type": "code",
   "execution_count": null,
   "id": "f8e00bd9",
   "metadata": {},
   "outputs": [],
   "source": [
    "# getting a bit closer to what I need to do here...\n",
    "\n",
    "import csv\n",
    "\n",
    "headers = [\n",
    "    'id',\n",
    "    'name',\n",
    "    'size',\n",
    "    'date',\n",
    "    'rating'\n",
    "]\n",
    "\n",
    "with open('data_in_02.csv', newline = '') as file_in:\n",
    "    reader = csv.DictReader(file_in)\n",
    "    \n",
    "    for row in reader:\n",
    "        for header in headers:\n",
    "            if row[header] == '':\n",
    "                pass\n",
    "            else:\n",
    "                print(f\"{header}: {row[header]}\")\n",
    "        \n",
    "# so probably next will want to look at class csv.DictWriter?\n",
    "# https://docs.python.org/3.8/library/csv.html?highlight=csv#csv.DictWriter    "
   ]
  }
 ],
 "metadata": {
  "kernelspec": {
   "display_name": "Python 3 (ipykernel)",
   "language": "python",
   "name": "python3"
  },
  "language_info": {
   "codemirror_mode": {
    "name": "ipython",
    "version": 3
   },
   "file_extension": ".py",
   "mimetype": "text/x-python",
   "name": "python",
   "nbconvert_exporter": "python",
   "pygments_lexer": "ipython3",
   "version": "3.9.7"
  }
 },
 "nbformat": 4,
 "nbformat_minor": 5
}
