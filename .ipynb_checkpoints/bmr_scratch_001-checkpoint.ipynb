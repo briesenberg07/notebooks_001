{
 "cells": [
  {
   "cell_type": "markdown",
   "metadata": {},
   "source": [
    "**Just do *something* with a list and a function, to start*"
   ]
  },
  {
   "cell_type": "code",
   "execution_count": null,
   "metadata": {},
   "outputs": [],
   "source": [
    "# I've been learning about doing things with lists using a function\n",
    "\n",
    "def count_list(list):\n",
    "    return len(list)\n",
    "\n",
    "testlist = []"
   ]
  },
  {
   "cell_type": "code",
   "execution_count": null,
   "metadata": {},
   "outputs": [],
   "source": [
    "testlist.append(\"thing one\")\n",
    "print(testlist)"
   ]
  },
  {
   "cell_type": "markdown",
   "metadata": {},
   "source": [
    "**And now for something different - can I give input to a script in a notebook?**"
   ]
  },
  {
   "cell_type": "code",
   "execution_count": 2,
   "metadata": {},
   "outputs": [
    {
     "name": "stdout",
     "output_type": "stream",
     "text": [
      "Let's see if I can provide input in a notebook\n",
      "We'll try and make a list...\n",
      "Enter a string to add to the list:one\n",
      "Enter a string to add to the list:two\n",
      "Enter a string to add to the list:three\n",
      "Enter a string to add to the list:four\n",
      "Does this list look like what I think it looks like?\n",
      "['one', 'two', 'three', 'four']\n",
      "\n",
      "Here's your list\n",
      "- one\n",
      "- two\n",
      "- three\n",
      "- four\n"
     ]
    }
   ],
   "source": [
    "print(\"Let's see if I can provide input in a notebook\\nWe'll try and make a list...\")\n",
    "\n",
    "test_list = []\n",
    "\n",
    "for i in range(0,4):\n",
    "    test_list.append(input(\"Enter a string to add to the list:\"))\n",
    "\n",
    "print(\"\\nHere's your list\")\n",
    "\n",
    "for item in test_list:\n",
    "    print(f\"- {item}\")\n"
   ]
  },
  {
   "cell_type": "code",
   "execution_count": null,
   "metadata": {},
   "outputs": [],
   "source": []
  }
 ],
 "metadata": {
  "kernelspec": {
   "display_name": "Python 3",
   "language": "python",
   "name": "python3"
  },
  "language_info": {
   "codemirror_mode": {
    "name": "ipython",
    "version": 3
   },
   "file_extension": ".py",
   "mimetype": "text/x-python",
   "name": "python",
   "nbconvert_exporter": "python",
   "pygments_lexer": "ipython3",
   "version": "3.8.5"
  }
 },
 "nbformat": 4,
 "nbformat_minor": 4
}
