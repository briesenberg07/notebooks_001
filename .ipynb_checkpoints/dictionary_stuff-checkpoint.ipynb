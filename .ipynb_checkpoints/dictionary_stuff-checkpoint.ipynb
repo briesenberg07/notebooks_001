{
 "cells": [
  {
   "cell_type": "markdown",
   "metadata": {},
   "source": [
    "# from the mimo course\n",
    "I'm taking a Python course on my phone, and jotting things down when they stand out to me"
   ]
  },
  {
   "cell_type": "markdown",
   "metadata": {},
   "source": [
    "## Create a dictionary from user input\n",
    "I need a dictionary"
   ]
  },
  {
   "cell_type": "code",
   "execution_count": 14,
   "metadata": {},
   "outputs": [
    {
     "name": "stdout",
     "output_type": "stream",
     "text": [
      "Enter a value to add to the dictionary for the key \"test_key_1\" or enter FINISH to stop:\n",
      "getting\n",
      "Enter a value to add to the dictionary for the key \"test_key_2\" or enter FINISH to stop:\n",
      "another\n",
      "Enter a value to add to the dictionary for the key \"test_key_3\" or enter FINISH to stop:\n",
      "try\n",
      "Enter a value to add to the dictionary for the key \"test_key_4\" or enter FINISH to stop:\n",
      "FINISH\n"
     ]
    },
    {
     "data": {
      "text/plain": [
       "{'test_key_1': 'getting', 'test_key_2': 'another', 'test_key_3': 'try'}"
      ]
     },
     "execution_count": 14,
     "metadata": {},
     "output_type": "execute_result"
    }
   ],
   "source": [
    "# define function\n",
    "\n",
    "def make_a_dict(key_stem):\n",
    "        the_dict = {}\n",
    "        proceed = True\n",
    "        key_suffix = 1\n",
    "        while proceed == True:\n",
    "            add = input(f'Enter a value to add to the dictionary for the key \"{key_stem + str(key_suffix)}\" or enter FINISH to stop:\\n')\n",
    "            if add == \"FINISH\":\n",
    "                proceed = False\n",
    "            else:\n",
    "                the_dict.update({key_stem + str(key_suffix): add})\n",
    "                key_suffix += 1\n",
    "        return the_dict\n",
    "                \n",
    "# test function\n",
    "\n",
    "make_a_dict(\"test_key_\")\n"
   ]
  },
  {
   "cell_type": "markdown",
   "metadata": {},
   "source": [
    "## Any arbitrary var stands in the each key in a dictionary\n",
    "This is something that stood out to me for some reason\n",
    "Don't know why it should be surprising--arbitrary vars can be used to iterate through things like lists and tuples I believe"
   ]
  },
  {
   "cell_type": "code",
   "execution_count": 15,
   "metadata": {},
   "outputs": [
    {
     "ename": "NameError",
     "evalue": "name 'the_dict' is not defined",
     "output_type": "error",
     "traceback": [
      "\u001b[1;31m---------------------------------------------------------------------------\u001b[0m",
      "\u001b[1;31mNameError\u001b[0m                                 Traceback (most recent call last)",
      "\u001b[1;32m<ipython-input-15-ff0b1168c39d>\u001b[0m in \u001b[0;36m<module>\u001b[1;34m\u001b[0m\n\u001b[1;32m----> 1\u001b[1;33m \u001b[0mprint\u001b[0m\u001b[1;33m(\u001b[0m\u001b[0mthe_dict\u001b[0m\u001b[1;33m)\u001b[0m\u001b[1;33m\u001b[0m\u001b[1;33m\u001b[0m\u001b[0m\n\u001b[0m\u001b[0;32m      2\u001b[0m \u001b[1;31m# Still don't understand why the_dict isn't in memory...\u001b[0m\u001b[1;33m\u001b[0m\u001b[1;33m\u001b[0m\u001b[1;33m\u001b[0m\u001b[0m\n",
      "\u001b[1;31mNameError\u001b[0m: name 'the_dict' is not defined"
     ]
    }
   ],
   "source": [
    "print(the_dict)\n",
    "# Still don't understand why the_dict isn't in memory..."
   ]
  },
  {
   "cell_type": "code",
   "execution_count": null,
   "metadata": {},
   "outputs": [],
   "source": []
  }
 ],
 "metadata": {
  "kernelspec": {
   "display_name": "Python 3",
   "language": "python",
   "name": "python3"
  },
  "language_info": {
   "codemirror_mode": {
    "name": "ipython",
    "version": 3
   },
   "file_extension": ".py",
   "mimetype": "text/x-python",
   "name": "python",
   "nbconvert_exporter": "python",
   "pygments_lexer": "ipython3",
   "version": "3.8.5"
  }
 },
 "nbformat": 4,
 "nbformat_minor": 4
}
