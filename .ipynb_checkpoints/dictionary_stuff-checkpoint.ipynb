{
 "cells": [
  {
   "cell_type": "markdown",
   "metadata": {},
   "source": [
    "# Create a dictionary from user input\n",
    "I need a dictionary"
   ]
  },
  {
   "cell_type": "code",
   "execution_count": 12,
   "metadata": {},
   "outputs": [
    {
     "name": "stdout",
     "output_type": "stream",
     "text": [
      "Enter value for key \"key_1\"\n",
      "or enter \"finish\" to stop adding values:\n",
      "hello\n",
      "Enter value for key \"key_2\"\n",
      "or enter \"finish\" to stop adding values:\n",
      "one\n",
      "Enter value for key \"key_3\"\n",
      "or enter \"finish\" to stop adding values:\n",
      "two\n",
      "Enter value for key \"key_4\"\n",
      "or enter \"finish\" to stop adding values:\n",
      "Finish\n"
     ]
    },
    {
     "data": {
      "text/plain": [
       "{'key_1': 'hello', 'key_2': 'one', 'key_3': 'two'}"
      ]
     },
     "execution_count": 12,
     "metadata": {},
     "output_type": "execute_result"
    }
   ],
   "source": [
    "# define function one way, attempt to assign dictionary name from user input\n",
    "\n",
    "def make_a_dictionary(dict_name, key_stem):\n",
    "        dict_name = dict()\n",
    "        proceed = True\n",
    "        key_suffix = 1\n",
    "        while proceed == True:\n",
    "            add = input(f'Enter value for key \"{key_stem + str(key_suffix)}\"\\nor enter \"finish\" to stop adding values:\\n')\n",
    "            if add == \"FINISH\" or add == \"finish\" or add == \"Finish\" :\n",
    "                proceed = False\n",
    "            else:\n",
    "                dict_name.update({key_stem + str(key_suffix): add})\n",
    "                key_suffix += 1\n",
    "        return dict_name\n",
    "                \n",
    "# test function\n",
    "\n",
    "make_a_dictionary(\"test_dictionary\", \"key_\")\n"
   ]
  },
  {
   "cell_type": "code",
   "execution_count": 13,
   "metadata": {},
   "outputs": [
    {
     "ename": "NameError",
     "evalue": "name 'test_dictionary' is not defined",
     "output_type": "error",
     "traceback": [
      "\u001b[1;31m---------------------------------------------------------------------------\u001b[0m",
      "\u001b[1;31mNameError\u001b[0m                                 Traceback (most recent call last)",
      "\u001b[1;32m<ipython-input-13-b20492216fbb>\u001b[0m in \u001b[0;36m<module>\u001b[1;34m\u001b[0m\n\u001b[1;32m----> 1\u001b[1;33m \u001b[0mprint\u001b[0m\u001b[1;33m(\u001b[0m\u001b[0mtest_dictionary\u001b[0m\u001b[1;33m)\u001b[0m\u001b[1;33m\u001b[0m\u001b[1;33m\u001b[0m\u001b[0m\n\u001b[0m",
      "\u001b[1;31mNameError\u001b[0m: name 'test_dictionary' is not defined"
     ]
    }
   ],
   "source": [
    "print(test_dictionary)"
   ]
  },
  {
   "cell_type": "code",
   "execution_count": 14,
   "metadata": {},
   "outputs": [
    {
     "ename": "NameError",
     "evalue": "name 'test_dictionary' is not defined",
     "output_type": "error",
     "traceback": [
      "\u001b[1;31m---------------------------------------------------------------------------\u001b[0m",
      "\u001b[1;31mNameError\u001b[0m                                 Traceback (most recent call last)",
      "\u001b[1;32m<ipython-input-14-3359b2e6f011>\u001b[0m in \u001b[0;36m<module>\u001b[1;34m\u001b[0m\n\u001b[0;32m      2\u001b[0m \u001b[1;31m# (although I don't know why it would if dictionary isn't defined)\u001b[0m\u001b[1;33m\u001b[0m\u001b[1;33m\u001b[0m\u001b[1;33m\u001b[0m\u001b[0m\n\u001b[0;32m      3\u001b[0m \u001b[1;33m\u001b[0m\u001b[0m\n\u001b[1;32m----> 4\u001b[1;33m \u001b[0mprint\u001b[0m\u001b[1;33m(\u001b[0m\u001b[0mtest_dictionary\u001b[0m\u001b[1;33m[\u001b[0m\u001b[1;34m'key_1'\u001b[0m\u001b[1;33m]\u001b[0m\u001b[1;33m)\u001b[0m\u001b[1;33m\u001b[0m\u001b[1;33m\u001b[0m\u001b[0m\n\u001b[0m",
      "\u001b[1;31mNameError\u001b[0m: name 'test_dictionary' is not defined"
     ]
    }
   ],
   "source": [
    "# What if I try to access a value--perhaps that would work?\n",
    "# (although I don't know why it would if dictionary isn't defined)\n",
    "\n",
    "print(test_dictionary['key_1'])"
   ]
  },
  {
   "cell_type": "code",
   "execution_count": 15,
   "metadata": {},
   "outputs": [
    {
     "name": "stdout",
     "output_type": "stream",
     "text": [
      "Enter value for key \"key_1\"\n",
      "or enter \"finish\" to stop adding values:\n",
      "okay\n",
      "Enter value for key \"key_2\"\n",
      "or enter \"finish\" to stop adding values:\n",
      "trying\n",
      "Enter value for key \"key_3\"\n",
      "or enter \"finish\" to stop adding values:\n",
      "again\n",
      "Enter value for key \"key_4\"\n",
      "or enter \"finish\" to stop adding values:\n",
      "FINISH\n"
     ]
    },
    {
     "data": {
      "text/plain": [
       "{'key_1': 'okay', 'key_2': 'trying', 'key_3': 'again'}"
      ]
     },
     "execution_count": 15,
     "metadata": {},
     "output_type": "execute_result"
    }
   ],
   "source": [
    "# define function another way, assigning the same given dictionary name when the function is used\n",
    "\n",
    "def make_a_dictionary(key_stem):\n",
    "        test_dictionary = dict()\n",
    "        proceed = True\n",
    "        key_suffix = 1\n",
    "        while proceed == True:\n",
    "            add = input(f'Enter value for key \"{key_stem + str(key_suffix)}\"\\nor enter \"finish\" to stop adding values:\\n')\n",
    "            if add == \"FINISH\" or add == \"finish\" or add == \"Finish\" :\n",
    "                proceed = False\n",
    "            else:\n",
    "                test_dictionary.update({key_stem + str(key_suffix): add})\n",
    "                key_suffix += 1\n",
    "        return test_dictionary\n",
    "                \n",
    "# test function\n",
    "\n",
    "make_a_dictionary(\"key_\")"
   ]
  },
  {
   "cell_type": "markdown",
   "metadata": {},
   "source": [
    "## Why isn't this working?\n",
    "I don't know. I suspect that it may have something to do with the way I'm (incorrectly?) returning the dictionary on the last line of the function.\n",
    "## Okay wait let me just make sure\n",
    "That the problem isn't simply something funny about accessing a dictionary in memory..."
   ]
  },
  {
   "cell_type": "code",
   "execution_count": 16,
   "metadata": {},
   "outputs": [],
   "source": [
    "# just putting a dictionary in memory...\n",
    "\n",
    "d2 = {\n",
    "    \"one\": \"nachos\",\n",
    "    \"two\": \"sushi\",\n",
    "    \"three\": \"ice cream\"\n",
    "}"
   ]
  },
  {
   "cell_type": "code",
   "execution_count": 17,
   "metadata": {},
   "outputs": [
    {
     "name": "stdout",
     "output_type": "stream",
     "text": [
      "{'one': 'nachos', 'two': 'sushi', 'three': 'ice cream'}\n"
     ]
    }
   ],
   "source": [
    "print(d2)"
   ]
  },
  {
   "cell_type": "markdown",
   "metadata": {},
   "source": [
    "OK, that works, so why can't I access and print my dictionary in the same way above?"
   ]
  },
  {
   "cell_type": "code",
   "execution_count": null,
   "metadata": {},
   "outputs": [],
   "source": []
  }
 ],
 "metadata": {
  "kernelspec": {
   "display_name": "Python 3",
   "language": "python",
   "name": "python3"
  },
  "language_info": {
   "codemirror_mode": {
    "name": "ipython",
    "version": 3
   },
   "file_extension": ".py",
   "mimetype": "text/x-python",
   "name": "python",
   "nbconvert_exporter": "python",
   "pygments_lexer": "ipython3",
   "version": "3.8.5"
  }
 },
 "nbformat": 4,
 "nbformat_minor": 4
}
