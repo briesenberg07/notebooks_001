{
 "cells": [
  {
   "cell_type": "markdown",
   "metadata": {},
   "source": [
    "# getting started working with csv data in Python\n",
    "\n",
    "- see notes in [tabular_data_and_python3_2021-12.md](tabular_data_and_python3_2021-12.md)\n",
    "- some notes here\n",
    "- much of testing here is copied from Real Python > [Reading and Writing CSV Files in Python](https://realpython.com/python-csv/) tutorial"
   ]
  },
  {
   "cell_type": "code",
   "execution_count": 2,
   "metadata": {},
   "outputs": [],
   "source": [
    "import csv"
   ]
  },
  {
   "cell_type": "code",
   "execution_count": 11,
   "metadata": {},
   "outputs": [
    {
     "name": "stdout",
     "output_type": "stream",
     "text": [
      "Here are the headers, separated by slashes:\n",
      "Title / Title (Translated) / Title (Non-Latin Script) / Title (ALA-LC Romanization) / Title (Harvard Romanization) / Interviewee / Interviewee Birthplace / Primary Performer / Performer / Performer Birthplace / Interviewer / Videographer / Author / Editor / Publisher / Publisher Location / Printer / Printer Location / Translator / Donor / Lender / Former Owner / Date-EDTF / Date / Dates / Interviewee Biography / Notes / Subjects (LCSH) / Genre/Form (LCGFT) / Related OCLC Record / Object Type / Romancero Theme / Cross Reference / Individuals Discussed / Organizations Discussed / Geographic Coverage / Time Period Discussed / Index / Recording Location / Language / Digital Collection / Sephardic Studies Accession Number (SSAN) / Restrictions / Rights Uri / Ordering Information / Type / Extent / Digital Format / Original Format / Physical Description / Timecode Start / Digital Reproduction Information / Cataloging / Staff Notes / Digital File Name / cdmfilename / CONTENTdmfilepath / cdmnumber / datecreated / datemodified / itemurl / oclc Number / standaloneDeclaration\n"
     ]
    }
   ],
   "source": [
    "# use the csv module's reader function\n",
    "# adapted from the tutorial\n",
    "\n",
    "with open('ssdc_test_text_001.csv') as file:\n",
    "    reader = csv.reader(file, delimiter=\",\")\n",
    "    line_count = 0\n",
    "    for row in reader:\n",
    "        if line_count == 0:\n",
    "            # don't understand {' /'.join(row)}\n",
    "            print(f\"Here are the headers, separated by slashes:\\n{' / '.join(row)}\")\n",
    "            # ah, I see\n",
    "                # per w3schools - string*.join(iterable) [string* will be used as a separator]\n",
    "                # per docs.python.org/3.8 - str.join(iterable) - Return a string which is the concatenation of the strings in iterable. A TypeError will be raised if there are any non-string values in iterable, including bytes objects. The separator between elements is the string providing this method.\n",
    "            line_count +=1\n",
    "        else:\n",
    "            pass"
   ]
  },
  {
   "cell_type": "code",
   "execution_count": 14,
   "metadata": {},
   "outputs": [
    {
     "name": "stdout",
     "output_type": "stream",
     "text": [
      "Let's see whether I can get some headers by position...\n"
     ]
    },
    {
     "ename": "KeyError",
     "evalue": "4",
     "output_type": "error",
     "traceback": [
      "\u001b[1;31m---------------------------------------------------------------------------\u001b[0m",
      "\u001b[1;31mKeyError\u001b[0m                                  Traceback (most recent call last)",
      "\u001b[1;32m<ipython-input-14-413a18929ba1>\u001b[0m in \u001b[0;36m<module>\u001b[1;34m\u001b[0m\n\u001b[0;32m      8\u001b[0m         \u001b[1;32mif\u001b[0m \u001b[0mline_count\u001b[0m \u001b[1;33m==\u001b[0m \u001b[1;36m0\u001b[0m\u001b[1;33m:\u001b[0m\u001b[1;33m\u001b[0m\u001b[1;33m\u001b[0m\u001b[0m\n\u001b[0;32m      9\u001b[0m             \u001b[0mprint\u001b[0m\u001b[1;33m(\u001b[0m\u001b[1;34m\"Let's see whether I can get some headers by position...\"\u001b[0m\u001b[1;33m)\u001b[0m\u001b[1;33m\u001b[0m\u001b[1;33m\u001b[0m\u001b[0m\n\u001b[1;32m---> 10\u001b[1;33m             \u001b[0mprint\u001b[0m\u001b[1;33m(\u001b[0m\u001b[1;34mf\"the fifth column name is {row[4]}, and the tenth is {row[9]}.\"\u001b[0m\u001b[1;33m)\u001b[0m\u001b[1;33m\u001b[0m\u001b[1;33m\u001b[0m\u001b[0m\n\u001b[0m\u001b[0;32m     11\u001b[0m             \u001b[0mprint\u001b[0m\u001b[1;33m(\u001b[0m\u001b[1;34m\"Wonder if that worked...\"\u001b[0m\u001b[1;33m)\u001b[0m\u001b[1;33m\u001b[0m\u001b[1;33m\u001b[0m\u001b[0m\n\u001b[0;32m     12\u001b[0m             \u001b[0mline_count\u001b[0m \u001b[1;33m+=\u001b[0m \u001b[1;36m1\u001b[0m\u001b[1;33m\u001b[0m\u001b[1;33m\u001b[0m\u001b[0m\n",
      "\u001b[1;31mKeyError\u001b[0m: 4"
     ]
    }
   ],
   "source": [
    "# use the csv module's DictReader class\n",
    "# adapted from the tutorial\n",
    "\n",
    "with open('ssdc_test_text_001.csv') as file:\n",
    "    reader = csv.DictReader(file) # skip the delimiter, which is \",\" by default?\n",
    "    line_count = 0\n",
    "    for row in reader:\n",
    "        if line_count == 0:\n",
    "            print(\"Let's see whether I can get some headers by position...\")\n",
    "            print(f\"the fifth column name is {row[4]}, and the tenth is {row[9]}.\")\n",
    "            print(\"Wonder if that worked...\")\n",
    "            line_count += 1\n",
    "        else:\n",
    "            pass                \n",
    "    \n"
   ]
  },
  {
   "cell_type": "code",
   "execution_count": 23,
   "metadata": {},
   "outputs": [
    {
     "name": "stdout",
     "output_type": "stream",
     "text": [
      "Let's get values using column headings instead?\n",
      "This row's title is Cover.\n",
      "This row's title is Inside cover.\n",
      "This row's title is Blank page.\n",
      "This row's title is Blank page.\n",
      "And so forth...\n"
     ]
    }
   ],
   "source": [
    "# It *didn't* work\n",
    "    # If I had to guess I'd say that as written, I need to refer to column positions by name and not index, so\n",
    "    \n",
    "with open('ssdc_test_text_001.csv') as file:\n",
    "    reader = csv.DictReader(file) # skip the delimiter, which is \",\" by default?\n",
    "    line_count = 0\n",
    "    for row in reader:\n",
    "        if line_count == 0:\n",
    "            print(\"Let's get values using column headings instead?\")\n",
    "            line_count += 1\n",
    "        elif line_count > 0 and line_count < 5:\n",
    "            print(f\"This row's title is {row['Title']}.\")\n",
    "            line_count += 1\n",
    "        else:\n",
    "            pass\n",
    "    print(\"And so forth...\")\n"
   ]
  },
  {
   "cell_type": "markdown",
   "metadata": {},
   "source": [
    "For [my current use case](https://gist.github.com/briesenberg07/1d3bdc9d079a8581768088dea1111f6b#use-case), I need to access data by cell.  \n",
    "Or, more accurately, I'll need to:\n",
    "- access each cell value in a row, one at a time--skipping blank cells--and for each of these cell values:\n",
    "    - fetch the column header for that value\n",
    "    - fetch a specific value from the row (value under the 'cdmnumber' header)"
   ]
  }
 ],
 "metadata": {
  "kernelspec": {
   "display_name": "Python 3",
   "language": "python",
   "name": "python3"
  },
  "language_info": {
   "codemirror_mode": {
    "name": "ipython",
    "version": 3
   },
   "file_extension": ".py",
   "mimetype": "text/x-python",
   "name": "python",
   "nbconvert_exporter": "python",
   "pygments_lexer": "ipython3",
   "version": "3.8.5"
  }
 },
 "nbformat": 4,
 "nbformat_minor": 4
}
